{
 "cells": [
  {
   "attachments": {},
   "cell_type": "markdown",
   "metadata": {},
   "source": [
    "**Table of contents**<a id='toc0_'></a>    \n",
    "- 1. [Problem 1: Optimal taxation with government consumption](#toc1_)    \n",
    "- 2. [Problem 2: Labor adjustment costs](#toc2_)    \n",
    "- 3. [Problem 3: Global optimizer with refined multi-start](#toc3_)    \n",
    "\n",
    "<!-- vscode-jupyter-toc-config\n",
    "\tnumbering=true\n",
    "\tanchor=true\n",
    "\tflat=false\n",
    "\tminLevel=2\n",
    "\tmaxLevel=6\n",
    "\t/vscode-jupyter-toc-config -->\n",
    "<!-- THIS CELL WILL BE REPLACED ON TOC UPDATE. DO NOT WRITE YOUR TEXT IN THIS CELL -->"
   ]
  },
  {
   "cell_type": "code",
   "execution_count": 6,
   "metadata": {},
   "outputs": [],
   "source": [
    "# Firstly we import the packages that we need.\n",
    "import numpy as np\n",
    "import sympy as sm\n",
    "from matplotlib import pyplot as plt\n",
    "from types import SimpleNamespace\n",
    "from scipy import optimize\n",
    "from scipy import linalg\n",
    "import ipywidgets as widgets\n",
    "import math\n",
    "from scipy.optimize import minimize_scalar"
   ]
  },
  {
   "attachments": {},
   "cell_type": "markdown",
   "metadata": {},
   "source": [
    "## 1. <a id='toc1_'></a>[Problem 1: Optimal taxation with government consumption](#toc0_)"
   ]
  },
  {
   "attachments": {},
   "cell_type": "markdown",
   "metadata": {},
   "source": [
    "\n",
    "Consider a worker choosing hours of labor, $L\\in[0,24]$, to maximize utility: \n",
    "\n",
    "$$\n",
    "\\begin{align*}\n",
    "V(w,\\tau,G)&=\\max_{L\\in[0,24]}\\ln\\left(C^{\\alpha}G^{1-\\alpha}\\right)-\\nu\\frac{L^{2}}{2}\\\\&\\text{s.t.}\\\\&C=\\kappa+(1-\\tau)wL\n",
    "\\end{align*}\n",
    "$$\n",
    "\n",
    "where \n",
    "\n",
    "* $C$ is *private* consumption with weight $\\alpha\\in(0,1)$.\n",
    "* $\\kappa > 0$ is the *free private* consumption component.\n",
    "* $C = (1-\\tau)wL$ is the *costly private* consumption component.\n",
    "* $w > 0 $ is the real wage.\n",
    "* $\\tau \\in (0,1)$ is the labor-income tax rate.\n",
    "* $G > 0 $ is *government* consumption with weight $1-\\alpha$.\n",
    "* $\\nu > 0$ is the disutility of labor scaling factor"
   ]
  },
  {
   "attachments": {},
   "cell_type": "markdown",
   "metadata": {},
   "source": [
    "\n",
    "The baseline parameters are:\n",
    "\n",
    "$$\n",
    "\\begin{align*}\n",
    "\\alpha &= 0.5\\\\\n",
    "\\kappa &= 1.0\\\\\n",
    "\\nu &= \\frac{1}{2\\cdot16^2} \\\\\n",
    "w &= 1.0 \\\\ \n",
    "\\tau &= 0.30 \\\\\n",
    "\\end{align*}\n",
    "$$"
   ]
  },
  {
   "attachments": {},
   "cell_type": "markdown",
   "metadata": {},
   "source": [
    "**Question 1:** Verify that the optimal labor supply choice is $L^{\\star}(\\tilde{w}) =\\frac{-\\kappa+\\sqrt{\\kappa^{2}+4\\frac{\\alpha}{\\nu}\\tilde{w}^2}}{2\\tilde{w}}$, where $\\tilde{w} = (1-\\tau)w$, for $G\\in\\left\\{1.0 , 2.0\\right\\}$."
   ]
  },
  {
   "cell_type": "code",
   "execution_count": 7,
   "metadata": {},
   "outputs": [
    {
     "data": {
      "text/latex": [
       "$\\displaystyle \\frac{- \\kappa \\nu + \\sqrt{\\nu \\left(4 \\alpha w_{tilde}^{2} + \\kappa^{2} \\nu\\right)}}{2 \\nu w_{tilde}}$"
      ],
      "text/plain": [
       "(-kappa*nu + sqrt(nu*(4*alpha*w_tilde**2 + kappa**2*nu)))/(2*nu*w_tilde)"
      ]
     },
     "execution_count": 7,
     "metadata": {},
     "output_type": "execute_result"
    }
   ],
   "source": [
    "'''\n",
    "How we are going to solve the problem:\n",
    "\n",
    "1. Define the full maximization problem.\n",
    "2. Substitute for $\\\\tilde{\\omega}$ and C\n",
    "3. Calculate the first derivative wrt. L\n",
    "4. Set the first derivative equal to 0 and calculate for L. '''\n",
    "\n",
    "# We deifne our parameters\n",
    "alpha = sm.symbols('alpha')\n",
    "kappa = sm.symbols('kappa')\n",
    "nu = sm.symbols('nu')\n",
    "w = sm.symbols('omega')\n",
    "tau = sm.symbols('tau')\n",
    "w_tilde = sm.symbols('w_tilde')\n",
    "L = sm.symbols('L')\n",
    "G = sm.symbols('G')\n",
    "   \n",
    "   # Step 1 and 2: \n",
    "#We do the substitution for w_tilde = (1-tau)*w = W\n",
    "C = kappa + w_tilde * L\n",
    "\n",
    "# We define our utility function\n",
    "V = sm.log(C**alpha * G**(1-alpha)) - nu*(L**2 / 2)\n",
    "\n",
    "    # Step 3:\n",
    "# We find the first derivative of the utility function\n",
    "V_diff = sm.diff(V, L)\n",
    "\n",
    "    # Step 4: \n",
    "# We put it equal to zero and solve for L\n",
    "\n",
    "L_star = sm.solve(V_diff, L)\n",
    "\n",
    "# We choose the positive solution\n",
    "opt = L_star[1]\n",
    "opt"
   ]
  },
  {
   "attachments": {},
   "cell_type": "markdown",
   "metadata": {},
   "source": [
    "This result is the same as the given result, that we were asked to verify, the result can be even further simplified to look like L^* = $\\frac{-\\kappa + \\sqrt{ \\kappa + 4\\frac{\\alpha}{\\nu} \\tilde{w}}}{2 \\tilde{w}}$. \n",
    "\n",
    "Due to G not being a part of the function, it will not affect the result and thus the result will stay the same for all values of $G\\in\\left\\{1.0 , 2.0\\right\\}$\n",
    "\n",
    "....."
   ]
  },
  {
   "attachments": {},
   "cell_type": "markdown",
   "metadata": {},
   "source": [
    "**Question 2:** Illustrate how $L^{\\star}(\\tilde{w})$ depends on $w$."
   ]
  },
  {
   "cell_type": "code",
   "execution_count": 8,
   "metadata": {},
   "outputs": [
    {
     "data": {
      "image/png": "[encoded data removed]",
      "text/plain": [
       "<Figure size 640x480 with 1 Axes>"
      ]
     },
     "metadata": {},
     "output_type": "display_data"
    }
   ],
   "source": [
    "# We define our baseline parameters \n",
    "alpha_val = 0.5\n",
    "kappa_val = 1.0\n",
    "nu_val = 1 / (2 * 16**2)\n",
    "tau_val = 0.30\n",
    "G_val = 1\n",
    "\n",
    "# we create a linspace for the wage values, tha twe are going to iterate over. \n",
    "w_values = np.linspace(0.05, 10.0, 1000)\n",
    "  \n",
    "L_values = [opt.subs([ (alpha, alpha_val),          # We substitute the values in the expression for our parameters. \n",
    "                        (kappa, kappa_val),\n",
    "                        (nu, nu_val),\n",
    "                        (tau, tau_val),\n",
    "                        (G, G_val),\n",
    "                        (w_tilde, w_val),])\n",
    "                        for w_val in w_values]\n",
    "\n",
    "# We plot the results\n",
    "fig = plt.figure()\n",
    "ax = fig.add_subplot(1,1,1)\n",
    "ax.plot(w_values, L_values)\n",
    "ax.set_xlabel('$w$')\n",
    "ax.set_ylabel('$L$')\n",
    "ax.set_title('Labor supply as a function of the wage')\n",
    "ax.grid(True)\n",
    "plt.show()"
   ]
  },
  {
   "attachments": {},
   "cell_type": "markdown",
   "metadata": {},
   "source": [
    "We can here see that when the real wage increases, the labour supply increases, this goes on until a certain point of which the labour supply will converge. This happens when the labour supply is at 16.\n",
    "\n",
    "....."
   ]
  },
  {
   "attachments": {},
   "cell_type": "markdown",
   "metadata": {},
   "source": [
    "\n",
    "We now consider a government, who chooses $\\tau$ and spend all of the taxes on government consumption so:\n",
    "\n",
    "$$\n",
    "G = \\tau w L^{\\star}((1-\\tau)w)\n",
    "$$\n",
    "\n",
    "**Question 3:** Plot the implied $L$, $G$ and worker utility for a grid of $\\tau$-values.\n"
   ]
  },
  {
   "cell_type": "code",
   "execution_count": 9,
   "metadata": {},
   "outputs": [
    {
     "name": "stderr",
     "output_type": "stream",
     "text": [
      "C:\\Users\\Tobias\\AppData\\Local\\Temp\\ipykernel_6784\\671277793.py:15: RuntimeWarning: invalid value encountered in double_scalars\n",
      "  L = (-kappa + (kappa**2 + 4*(alpha / nu) * ((1-tau)*w)**2)**(1/2)) / (2*(1-tau)*w)\n"
     ]
    },
    {
     "data": {
      "image/png": "[encoded data removed]",
      "text/plain": [
       "<Figure size 640x480 with 1 Axes>"
      ]
     },
     "metadata": {},
     "output_type": "display_data"
    }
   ],
   "source": [
    "# We define the parameters for the government spending\n",
    "tau = 0.30\n",
    "w = 1.0\n",
    "L = L_star[1]\n",
    "alpha = 0.5 \n",
    "kappa = 1.0 \n",
    "nu = 1 / (2 * 16**2)\n",
    "# We define the function for the government spending\n",
    "G = tau*w*L*((1-tau)*w) \n",
    "\n",
    "# We create a linspace for tau values, that we are going to iterate over.\n",
    "tau_values = np.linspace(1e-7, 1.0, 100)\n",
    "\n",
    "def implied_values(tau) : \n",
    "    L = (-kappa + (kappa**2 + 4*(alpha / nu) * ((1-tau)*w)**2)**(1/2)) / (2*(1-tau)*w)\n",
    "    G = tau*w*L*((1-tau)*w)\n",
    "    utility = sm.log((kappa + w*L)**alpha * G**(1-alpha)) - nu*(L**2 / 2)\n",
    "    return L, G, utility\n",
    "\n",
    "# We create empty lists for the values we are going to append\n",
    "L_values = []\n",
    "G_values = []\n",
    "utility_values = []\n",
    "\n",
    "# We iterate over the tau values and append the values to the empty lists\n",
    "for tau in tau_values :\n",
    "    L, G, utility = implied_values(tau)\n",
    "    L_values.append(L)\n",
    "    G_values.append(G)\n",
    "    utility_values.append(utility)\n",
    "\n",
    "# We plot the results\n",
    "fig = plt.figure()\n",
    "ax = fig.add_subplot(1,1,1)\n",
    "ax.plot(tau_values, L_values, label = 'Labor supply')\n",
    "ax.plot(tau_values, G_values, label = 'Government spending')\n",
    "ax.plot(tau_values, utility_values, label = 'Utility')\n",
    "ax.set_xlabel('$\\\\tau$')\n",
    "ax.set_ylabel('$L, G, U$')\n",
    "ax.set_title('Labor supply, government spending and utility as a function of $\\\\tau$')\n",
    "ax.grid(True)\n",
    "ax.legend()\n",
    "plt.show()\n",
    "\n"
   ]
  },
  {
   "attachments": {},
   "cell_type": "markdown",
   "metadata": {},
   "source": [
    "We can see that when tau increases...\n",
    "\n",
    "the labour supply will go from being in convergence to decreasing. \n",
    "\n",
    "The utility will almost converge at a very steady state when tau is different from 0 and 1. \n",
    "\n",
    "The government spending will increase until tau = 0.5 and the decrease again.\n",
    "\n",
    "...."
   ]
  },
  {
   "attachments": {},
   "cell_type": "markdown",
   "metadata": {},
   "source": [
    "**Question 4:** Find the socially optimal tax rate $\\tau^{\\star}\\in(0,1)$ maximizing worker utility. Illustrate your result."
   ]
  },
  {
   "cell_type": "code",
   "execution_count": 10,
   "metadata": {},
   "outputs": [
    {
     "name": "stdout",
     "output_type": "stream",
     "text": [
      "the socially opytimal tax rate is 0.48457658923944374\n"
     ]
    },
    {
     "name": "stderr",
     "output_type": "stream",
     "text": [
      "C:\\Users\\Tobias\\AppData\\Local\\Temp\\ipykernel_6784\\3868925952.py:9: RuntimeWarning: invalid value encountered in double_scalars\n",
      "  L = (-kappa + (kappa**2 + 4*(alpha / nu) * ((1-tau)*w)**2)**(1/2)) / (2*(1-tau)*w)\n"
     ]
    },
    {
     "data": {
      "image/png": "[encoded data removed]",
      "text/plain": [
       "<Figure size 640x480 with 1 Axes>"
      ]
     },
     "metadata": {},
     "output_type": "display_data"
    }
   ],
   "source": [
    "\n",
    "# We define the laour_utility function\n",
    "def labour_utility(tau) :\n",
    "    # We define the parameters\n",
    "    alpha = 0.5\n",
    "    kappa = 1.0\n",
    "    nu = 1 / (2 * 16**2)\n",
    "    omega = 1.0 \n",
    "    # we define the functions for G and L\n",
    "    L = (-kappa + (kappa**2 + 4*(alpha / nu) * ((1-tau)*w)**2)**(1/2)) / (2*(1-tau)*w)\n",
    "    G = tau*w*L*((1-tau)*w)\n",
    "\n",
    "    utility = np.log((kappa + w*L)**alpha * G**(1-alpha)) - nu*(L**2 / 2)\n",
    "    \n",
    "    return utility\n",
    "\n",
    "# now we set our bounds for the maximization problem\n",
    "bounds = [(0,1)]\n",
    "\n",
    "# We set the tolerance level\n",
    "tol = 1e-8\n",
    "\n",
    "# We make our guess for the optimal tau\n",
    "tau_guess = 0.5     # this value is arbitrary\n",
    "\n",
    "# We run the optimization problem\n",
    "optimal_tau = optimize.minimize( lambda tau: -labour_utility(tau), x0=tau_guess, bounds = bounds, tol = tol)\n",
    "\n",
    "# We get to optimal tau\n",
    "soc_opt_tau = optimal_tau.x[0]\n",
    "\n",
    "# We print the socially optimal tau\n",
    "print('the socially opytimal tax rate is', soc_opt_tau) \n",
    "\n",
    "# Now we plot the utility as a function of tau, to see how close our result is\n",
    "tau_values = np.linspace(1e-7, 1.0, 100)\n",
    "utility_values = [labour_utility(tau) for tau in tau_values]\n",
    "\n",
    "# We plot the results\n",
    "fig = plt.figure()\n",
    "ax = fig.add_subplot(1,1,1)\n",
    "ax.plot(tau_values, utility_values)\n",
    "ax.set_xlabel('$\\\\tau$')\n",
    "ax.set_ylabel('$U$')\n",
    "ax.set_title('Utility as a function of $\\\\tau$')\n",
    "ax.grid(True)\n",
    "plt.scatter(soc_opt_tau, labour_utility(soc_opt_tau), color='red', label='Optimal Tau')\n",
    "plt.show()\n"
   ]
  },
  {
   "attachments": {},
   "cell_type": "markdown",
   "metadata": {},
   "source": [
    "When we make our inital guess tau =0.5 we get that the socially optimal tax rate is 0.48, which is very close to our guess. \n",
    "\n",
    "...."
   ]
  },
  {
   "attachments": {},
   "cell_type": "markdown",
   "metadata": {},
   "source": [
    "A more general preference formulation for the worker is:\n",
    "\n",
    "$$\n",
    "\\begin{align*}\n",
    "\\mathcal{V}(w,\\tau,G)&=\\max_{L\\in[0,24]}\\frac{\\left[ \\left( \\alpha C^{\\frac{\\sigma-1}{\\sigma}}+(1-\\alpha) G^{\\frac{\\sigma-1}{\\sigma}} \\right)^{\\frac{\\sigma}{1-\\sigma} }\\right]^{1-\\rho}-1}{1-\\rho}- \\nu\\frac{L^{1+\\varepsilon}}{1+\\varepsilon},\\,\\,\\,\\varepsilon,\\rho,\\sigma>0,\\,\\,\\,\\rho,\\sigma\\neq1\\\\&\\text{s.t.}\\\\&C=\\kappa+(1-\\tau)wL\n",
    "\\end{align*}    \n",
    "$$\n",
    "\n",
    "Optimal labor supply is now $L^{\\star}(\\tilde{w},G)$."
   ]
  },
  {
   "attachments": {},
   "cell_type": "markdown",
   "metadata": {},
   "source": [
    "Questions 5 and 6 must be answered with the general formulation, and for 2 different set of parameters:\n",
    "\n",
    "- Set 1:  $\\sigma = 1.001$, $\\rho = 1.001$ and $\\varepsilon = 1.0$.\n",
    "- Set 2:  $\\sigma = 1.5$, $\\rho = 1.5$ and $\\varepsilon = 1.0 $."
   ]
  },
  {
   "attachments": {},
   "cell_type": "markdown",
   "metadata": {},
   "source": [
    "**Question 5:** Find the $G$ that solves $G = \\tau w L^{\\star}((1-\\tau)w,G)$ using the $\\tau$ found in question 4.\n",
    "\n",
    "*Hint: First write code that solves the worker problem for given values of $G$ and $\\tau$. Then find the correct G based on this.*"
   ]
  },
  {
   "cell_type": "code",
   "execution_count": 11,
   "metadata": {},
   "outputs": [
    {
     "name": "stdout",
     "output_type": "stream",
     "text": [
      "Set 1:\n",
      "The optimal value of L is: 23.999995716813203\n",
      "The value of G that solves G = tau * w * L* is: 3.758166845456814\n",
      "\n",
      "Set 2:\n",
      "The optimal value of L is: 19.81475883591511\n",
      "The value of G that solves G = tau * w * L* is: 2.7232467150433335\n"
     ]
    }
   ],
   "source": [
    "# we start by defining the new utility function\n",
    "def utility_function(L, alpha, kappa, nu, w, tau, G, sigma, rho, epsilon):\n",
    "    C = kappa + (1 - tau) * w * L\n",
    "    utility = (((alpha * C**((sigma-1)/sigma) + (1 - alpha) * G**((sigma-1)/sigma))**(sigma/(sigma-1)))**(1-rho) - 1)/(1-rho) - nu * (L**(1+epsilon))/(1+epsilon)\n",
    "    return utility\n",
    "\n",
    "# we define the workers problem\n",
    "def optimize_worker_problem(alpha, kappa, nu, w, tau, G, sigma, rho, epsilon):\n",
    "    objective_func = lambda L: -utility_function(L, alpha, kappa, nu, w, tau, G, sigma, rho, epsilon)\n",
    "    bounds = (0, 24)  # Constraint: L in [0, 24]\n",
    "    result = minimize_scalar(objective_func, bounds=bounds, method='bounded')\n",
    "    optimal_L = result.x\n",
    "    return optimal_L\n",
    "\n",
    "# We define the problem of finding the optimal G, \n",
    "# we do this by updating the guess for G until we reach convergence\n",
    "def solve_for_G(tau, alpha, kappa, nu, w, sigma, rho, epsilon):\n",
    "    G = 0.0  # Initial guess for G\n",
    "    error_tol = 1e-6        # Error tolerance, this is the tolerance for the convergence \n",
    "    max_iter = 1000         # Maximum number of iterations\n",
    "    iter_count = 0          # Initialize iteration counter\n",
    "    error = float('inf')    # Initialize error to a large value\n",
    "\n",
    "    # We iterate until we reach convergence or hit the maximum number of iterations\n",
    "    while error > error_tol and iter_count < max_iter:\n",
    "        iter_count += 1\n",
    "        optimal_L = optimize_worker_problem(alpha, kappa, nu, w, tau, G, sigma, rho, epsilon)\n",
    "        updated_G = tau * w * optimal_L * ((1 - tau) * w)   # we calculate the new guess for G\n",
    "        error = abs(G - updated_G)                          # we calculate the error\n",
    "        G = updated_G                                       # we update the guess for G\n",
    "\n",
    "    return G\n",
    "\n",
    "# We set the parameters \n",
    "    # first the general parameters\n",
    "alpha = 0.5\n",
    "kappa = 1.0\n",
    "nu = 1 / (2 * 16**2)\n",
    "w = 1.0\n",
    "tau = 0.48\n",
    "G = 0.0  # Initial guess for G\n",
    "\n",
    "    # now we set the parameters for the two different sets\n",
    "# Set 1 parameters\n",
    "sigma_set1 = 1.001\n",
    "rho_set1 = 1.001\n",
    "epsilon_set1 = 1.0\n",
    "\n",
    "# Set 2 parameters\n",
    "sigma_set2 = 1.5\n",
    "rho_set2 = 1.5\n",
    "epsilon_set2 = 1.0\n",
    "\n",
    "# Optimize the worker problem for Set 1\n",
    "L_star_set1 = optimize_worker_problem(alpha, kappa, nu, w, tau, G, sigma_set1, rho_set1, epsilon_set1)\n",
    "\n",
    "# Optimize the worker problem for Set 2\n",
    "L_star_set2 = optimize_worker_problem(alpha, kappa, nu, w, tau, G, sigma_set2, rho_set2, epsilon_set2)\n",
    "\n",
    "# We now find the G that solves G = tau * w * L\n",
    "G_set1 = solve_for_G(tau, alpha, kappa, nu, w, sigma_set1, rho_set1, epsilon_set1)\n",
    "G_set2 = solve_for_G(tau, alpha, kappa, nu, w, sigma_set2, rho_set2, epsilon_set2)\n",
    "\n",
    "print('Set 1:')\n",
    "print('The optimal value of L is:', L_star_set1)\n",
    "print('The value of G that solves G = tau * w * L* is:', G_set1)\n",
    "print()\n",
    "print('Set 2:')\n",
    "print('The optimal value of L is:', L_star_set2)\n",
    "print('The value of G that solves G = tau * w * L* is:', G_set2)"
   ]
  },
  {
   "attachments": {},
   "cell_type": "markdown",
   "metadata": {},
   "source": [
    "**Question 6:** Find the socially optimal tax rate, $\\tau^{\\star}$, maximizing worker utility, while keeping $G = \\tau w L^{\\star}((1-\\tau)w,G)$."
   ]
  },
  {
   "cell_type": "code",
   "execution_count": 14,
   "metadata": {},
   "outputs": [
    {
     "name": "stdout",
     "output_type": "stream",
     "text": [
      "The socially optimal tax rate is: 0.333333\n",
      "The corresponding utility is: 1.590182\n"
     ]
    },
    {
     "name": "stderr",
     "output_type": "stream",
     "text": [
      "C:\\Users\\Tobias\\AppData\\Local\\Temp\\ipykernel_6784\\629204017.py:12: RuntimeWarning: invalid value encountered in double_scalars\n",
      "  L = (-kappa + (kappa**2 + 4*(alpha / nu) * ((1-tau)*w)**2)**(1/2)) / (2*(1-tau)*w)\n"
     ]
    }
   ],
   "source": [
    "def calculate_utility(tau, L, w, alpha, kappa, nu, G):\n",
    "    C = kappa + (1 - tau) * w * L\n",
    "    utility = np.log(C**alpha * G**(1 - alpha)) - nu * (L**2) / 2\n",
    "    return utility\n",
    "\n",
    "# Initialize variables for tracking optimal results\n",
    "max_utility = float('-inf')\n",
    "optimal_tau = None\n",
    "\n",
    "# Iterate over different values of τ and calculate utility\n",
    "for tau in tau_values:\n",
    "    L = (-kappa + (kappa**2 + 4*(alpha / nu) * ((1-tau)*w)**2)**(1/2)) / (2*(1-tau)*w)\n",
    "    G = tau * w * L * ((1 - tau) * w)\n",
    "    utility = calculate_utility(tau, L, w, alpha, kappa, nu, G)\n",
    "\n",
    "    # Check if utility is higher than previous maximum\n",
    "    if utility > max_utility:\n",
    "        max_utility = utility\n",
    "        optimal_tau = tau\n",
    "\n",
    "# Print the socially optimal tax rate and corresponding utility as f strings\n",
    "print(f\"The socially optimal tax rate is: {optimal_tau:4f}\")\n",
    "print(f\"The corresponding utility is: {max_utility:4f}\")"
   ]
  },
  {
   "attachments": {},
   "cell_type": "markdown",
   "metadata": {},
   "source": [
    "## 2. <a id='toc2_'></a>[Problem 2: Labor adjustment costs](#toc0_)"
   ]
  },
  {
   "attachments": {},
   "cell_type": "markdown",
   "metadata": {},
   "source": [
    "You own a hair salon. You employ hairdressers, $\\ell_t$, to produce haircuts, $y_t = \\ell_t$.\n",
    "\n",
    "The wage for each haridresser is $w$.\n",
    "\n",
    "The demand for haircuts implies that the price of haircuts you can charge is $p_t = \\kappa_t y_t^{-\\eta}$, where $\\kappa_t$ is a demand-shock and $\\eta \\in (0,1)$ measures the elasticity of demand.\n",
    "\n",
    "Profits are:\n",
    "\n",
    "$$\n",
    "\\Pi_t = p_t y_t - w \\ell_t = \\kappa_t \\ell_t^{1-\\eta} - w \\ell_t\n",
    "$$"
   ]
  },
  {
   "attachments": {},
   "cell_type": "markdown",
   "metadata": {},
   "source": [
    "Baseline parameters are:\n",
    "- $\\eta = 0.5$\n",
    "- $w = 1.0$"
   ]
  },
  {
   "attachments": {},
   "cell_type": "markdown",
   "metadata": {},
   "source": [
    "**Question 1:** Verify numerically that $\\ell_{t}=\\left(\\frac{(1-\\eta)\\kappa_{t}}{w}\\right)^{\\frac{1}{\\eta}}$ maximises profits, for $\\kappa\\in\\left\\{1.0 , 2.0\\right\\}$."
   ]
  },
  {
   "cell_type": "code",
   "execution_count": 2,
   "metadata": {},
   "outputs": [
    {
     "name": "stdout",
     "output_type": "stream",
     "text": [
      "For k = 1.0\n",
      "Optimal l value: 0.250000\n",
      "l_talg: 0.250000\n",
      "Difference: 0.000000\n",
      "\n",
      "For k = 2.0\n",
      "Optimal l value: 1.000000\n",
      "l_talg: 1.000000\n",
      "Difference: 0.000000\n",
      "\n"
     ]
    }
   ],
   "source": [
    "# Setting up parameters\n",
    "n = 0.5\n",
    "w = 1.0\n",
    "k_values = [1.0, 2.0]\n",
    "\n",
    "# Defining our profit function\n",
    "def profitfunction(l_t, k):\n",
    "    profit = k * l_t ** (1 - n) - w * l_t\n",
    "    return profit\n",
    "\n",
    "# Defining our optimizing space\n",
    "ls = np.linspace(0, 1000, 1000)\n",
    "bounds = [(0.001, 100000)]\n",
    "lguess = 1\n",
    "\n",
    "# Creating a loop for the two k values\n",
    "for k in k_values:\n",
    "    # Creating our objective\n",
    "    obj = lambda l: -profitfunction(l, k)\n",
    "    # Solving via the scipy optimizer\n",
    "    result = optimize.minimize(obj, lguess, method=\"Nelder-Mead\", bounds=bounds)\n",
    "    # Storing our optimal result\n",
    "    l_optimal = result.x[0]\n",
    "    # Calculating the optimal l via the algebraic solution\n",
    "    l_talg = (((1 - n) * k) / w) ** (1 / n)\n",
    "\n",
    "    # Printing out our results\n",
    "    print(\"For k =\", k)\n",
    "    print(f\"Optimal l value: {l_optimal:4f}\")\n",
    "    print(f\"l_talg: {l_talg:4f}\")\n",
    "    print(f\"Difference: {l_talg - l_optimal:4f}\")\n",
    "    print()\n"
   ]
  },
  {
   "attachments": {},
   "cell_type": "markdown",
   "metadata": {},
   "source": [
    "As we can see the optimized numerical values are similar to the ones we get from the algebraic solution, meaning that the expression does indeed maximize profits."
   ]
  },
  {
   "attachments": {},
   "cell_type": "markdown",
   "metadata": {},
   "source": [
    "We now consider a *dynamic* version of the model.\n",
    "\n",
    "* The demand-shock is a so-called AR(1) in logs, \n",
    "\n",
    "$$\n",
    "\\log \\kappa_{t} = \\rho \\log \\kappa_{t-1} + \\epsilon_{t},\\,\\,\\, \\epsilon_{t+1} \\sim \\mathcal{N}(-0.5\\sigma_{\\epsilon}^2,\\sigma_{\\epsilon})\n",
    "$$\n",
    "\n",
    "* Any hiring or firing implies a fixed adjustment cost, $\\iota > 0 $.\n",
    "* Future profits are discounted with a monthly factor of $R \\in (0,1)$.\n",
    "\n",
    "The initial demand shock is $\\kappa_{-1} = 1$ and the planning horizon is 10 years, i.e. 120 months so $t \\in \\{0,1,2,\\dots,119\\}$. Initially you don't have any employees, $\\ell_{-1}=0$"
   ]
  },
  {
   "attachments": {},
   "cell_type": "markdown",
   "metadata": {},
   "source": [
    "\n",
    "The *ex post* value of the salon is *conditional* on the shock series is:\n",
    "\n",
    "$$\n",
    "h(\\epsilon_0,\\epsilon_1,\\dots,\\epsilon_{119}) = \\left[\\sum_{t=0}^{119}R^{-t}\\left[\\kappa_{t}\\ell_{t}^{1-\\eta}-w\\ell_{t}-\\boldsymbol{1}_{\\ell_{t}\\neq\\ell_{t-1}}\\iota\\right]\\right]\n",
    "$$\n",
    "\n",
    "The *ex ante* expected value of the salon can be approximated by\n",
    "\n",
    "$$\n",
    "H = \\mathbb{E}[h(\\epsilon_0,\\epsilon_1,\\dots,\\epsilon_{119})] \\approx \\frac{1}{K}\\sum_{k=0}^{K-1} h(\\epsilon_0^k,\\epsilon_1^k,\\dots,\\epsilon_{119}^k)\n",
    "$$\n",
    "\n",
    "where each $k\\in\\{0,1,\\dots,K-1\\}$ is a random shock series. Maximizing profitability means maximizing $H$.\n"
   ]
  },
  {
   "attachments": {},
   "cell_type": "markdown",
   "metadata": {},
   "source": [
    "Baseline parameters are: \n",
    "\n",
    "- $\\rho = 0.90$\n",
    "- $\\iota = 0.01$\n",
    "- $\\sigma_{\\epsilon} = 0.10$\n",
    "- $R = \\left(1+0.01\\right)^{1/12}$"
   ]
  },
  {
   "attachments": {},
   "cell_type": "markdown",
   "metadata": {},
   "source": [
    "**Question 2:** Calculate $H$ if the policy  $\\ell_{t}=\\left(\\frac{(1-\\eta)\\kappa_{t}}{w}\\right)^{\\frac{1}{\\eta}}$ from question 1 is followed. Choose $K$ so the approximation is good enough to not affect your results substantially."
   ]
  },
  {
   "cell_type": "code",
   "execution_count": 3,
   "metadata": {},
   "outputs": [
    {
     "name": "stdout",
     "output_type": "stream",
     "text": [
      "Expected value of the salon (H): 27.482947\n"
     ]
    }
   ],
   "source": [
    "# Baseline parameters\n",
    "rho = 0.90\n",
    "iota = 0.01\n",
    "sigma_epsilon = 0.10\n",
    "R = (1 + 0.01) ** (1 / 12)\n",
    "\n",
    "# Other parameters\n",
    "eta = 0.5\n",
    "w = 1.0\n",
    "\n",
    "# Set up initial conditions\n",
    "kappa_minus1 = 1.0\n",
    "ell_minus1 = 0.0\n",
    "\n",
    "# Set up optimization function\n",
    "def h_func(epsilon_series, kappa_series, ell_series):\n",
    "    \"\"\"\n",
    "    Calculate the objective function value for a given series of shocks, capital, and labor\n",
    "\n",
    "    Args:\n",
    "        epsilon_series (array-like): Series of shocks\n",
    "        kappa_series (array-like): Series of capital\n",
    "        ell_series (array-like): Series of labor\n",
    "\n",
    "    Returns:\n",
    "        float: Objective function value\n",
    "    \"\"\"\n",
    "    h = np.sum([(R ** (-t)) * (kappa_series[t] * ell_series[t] ** (1 - eta) - w * ell_series[t] -\n",
    "                                (1 if ell_series[t] != ell_series[t - 1] else 0) * iota)\n",
    "                for t in range(len(epsilon_series))])\n",
    "    return h\n",
    "\n",
    "# Set random seed\n",
    "np.random.seed(123)\n",
    "\n",
    "# Set up simulation parameters\n",
    "K = 10000  # Number of random shock series to simulate\n",
    "\n",
    "# Simulate and maximize expected profitability\n",
    "h_values = []\n",
    "for _ in range(K):\n",
    "    epsilon_series = np.random.normal(loc=-0.5 * sigma_epsilon ** 2, scale=sigma_epsilon, size=120)\n",
    "    kappa_series = np.zeros(120)\n",
    "    ell_series = np.zeros(120)\n",
    "    kappa_series[0] = kappa_minus1\n",
    "    ell_series[0] = ell_minus1\n",
    "\n",
    "    for t in range(1, 120):\n",
    "        kappa_series[t] = np.exp(rho * np.log(kappa_series[t - 1]) + epsilon_series[t])\n",
    "        # Calculate optimal number of employees using the policy\n",
    "        ell_series[t] = ((1 - eta) * kappa_series[t] / w) ** (1 / eta)\n",
    "\n",
    "    h = h_func(epsilon_series, kappa_series, ell_series)\n",
    "    h_values.append(h)\n",
    "\n",
    "# Calculate the expected value of the salon\n",
    "H = np.mean(h_values[:-1])  # Use K-1 simulations\n",
    "\n",
    "# Print the results\n",
    "print(f\"Expected value of the salon (H): {H:4f}\")"
   ]
  },
  {
   "attachments": {},
   "cell_type": "markdown",
   "metadata": {},
   "source": [
    "Next, we consider policies on the form:\n",
    "\n",
    "$$\n",
    "\n",
    "\\ell_{t}=\\begin{cases}\n",
    "\\ell_t^{\\ast}  & \\text{if }\\left|\\ell_{t-1}-\\ell_t^{\\ast} \\right|>\\Delta\\\\\n",
    "\\ell_{t-1} & \\text{else }\n",
    "\\end{cases}\n",
    "\\\\\n",
    "\\text{where}\\,\\,\\ell_t^{\\ast} = \\left(\\frac{(1-\\eta)\\kappa_{t}}{w}\\right)^{\\frac{1}{\\eta}} \\\\\n",
    "\n",
    "$$\n",
    "With $\\Delta \\geq 0$ and $\\Delta = 0$ being the previous policy.\n"
   ]
  },
  {
   "attachments": {},
   "cell_type": "markdown",
   "metadata": {},
   "source": [
    "\n",
    "**Question 3:** Calculate $H$ if the policy above was followed with $\\Delta = 0.05$. Does it improve profitability?"
   ]
  },
  {
   "cell_type": "code",
   "execution_count": 4,
   "metadata": {},
   "outputs": [
    {
     "name": "stdout",
     "output_type": "stream",
     "text": [
      "Expected value of the salon with baseline policy (H):, 27.448507\n",
      "Expected value of the salon with new policy (H) - Delta = 0.05: 28.123259\n"
     ]
    }
   ],
   "source": [
    "# Setting up the delta parameter\n",
    "delta = 0.05\n",
    "\n",
    "# Set up optimization function\n",
    "def h_func(epsilon_series, kappa_series, ell_series):\n",
    "    \"\"\"\n",
    "    Calculate the objective function value for a given series of shocks, capital, and labor\n",
    "\n",
    "    Args:\n",
    "        epsilon_series (array-like): Series of shocks\n",
    "        kappa_series (array-like): Series of capital\n",
    "        ell_series (array-like): Series of labor\n",
    "\n",
    "    Returns:\n",
    "        float: Objective function value\n",
    "    \"\"\"\n",
    "    h = np.sum([(R ** (-t)) * (kappa_series[t] * ell_series[t] ** (1 - eta) - w * ell_series[t] -\n",
    "                                (1 if ell_series[t] != ell_series[t - 1] else 0) * iota)\n",
    "                for t in range(len(epsilon_series))])\n",
    "    return h\n",
    "\n",
    "# Set up simulation parameters\n",
    "K = 10000  # Number of random shock series to simulate\n",
    "\n",
    "# Simulate and maximize expected profitability\n",
    "h_values_baseline = []\n",
    "h_values_new_policy = []\n",
    "for _ in range(K):\n",
    "    epsilon_series = np.random.normal(loc=-0.5 * sigma_epsilon ** 2, scale=sigma_epsilon, size=120)\n",
    "    kappa_series = np.zeros(120)\n",
    "    ell_series_baseline = np.zeros(120)\n",
    "    ell_series_new_policy = np.zeros(120)\n",
    "    kappa_series[0] = kappa_minus1\n",
    "    ell_series_baseline[0] = ell_minus1\n",
    "    ell_series_new_policy[0] = ell_minus1\n",
    "\n",
    "    for t in range(1, 120):\n",
    "        kappa_series[t] = np.exp(rho * np.log(kappa_series[t - 1]) + epsilon_series[t])\n",
    "        \n",
    "        # Calculate optimal number of employees using the policy with baseline threshold (Delta = 0)\n",
    "        ell_optimal_baseline = ((1 - eta) * kappa_series[t] / w) ** (1 / eta)\n",
    "        if t == 1 or abs(ell_series_baseline[t - 1] - ell_optimal_baseline) > 0:\n",
    "            ell_series_baseline[t] = ell_optimal_baseline\n",
    "        else:\n",
    "            ell_series_baseline[t] = ell_series_baseline[t - 1]\n",
    "        \n",
    "        # Calculate optimal number of employees using the policy with new threshold (Delta = 0.05)\n",
    "        ell_optimal_new_policy = ((1 - eta) * kappa_series[t] / w) ** (1 / eta)\n",
    "        if t == 1 or abs(ell_series_new_policy[t - 1] - ell_optimal_new_policy) > delta:\n",
    "            ell_series_new_policy[t] = ell_optimal_new_policy\n",
    "        else:\n",
    "            ell_series_new_policy[t] = ell_series_new_policy[t - 1]\n",
    "\n",
    "    h_baseline = h_func(epsilon_series, kappa_series, ell_series_baseline)\n",
    "    h_new_policy = h_func(epsilon_series, kappa_series, ell_series_new_policy)\n",
    "    h_values_baseline.append(h_baseline)\n",
    "    h_values_new_policy.append(h_new_policy)\n",
    "\n",
    "# Calculate the expected value of the salon\n",
    "H_baseline = np.mean(h_values_baseline[:-1])  # Use K-1 simulations for baseline policy\n",
    "H_new_policy = np.mean(h_values_new_policy[:-1])  # Use K-1 simulations for new policy\n",
    "\n",
    "# Print the results\n",
    "print(f\"Expected value of the salon with baseline policy (H):, {H_baseline:4f}\")\n",
    "print(f\"Expected value of the salon with new policy (H) - Delta = 0.05: {H_new_policy:4f}\")"
   ]
  },
  {
   "attachments": {},
   "cell_type": "markdown",
   "metadata": {},
   "source": [
    "As we can see the expected value of the salon is higher with the policy compared to without. Meaning that the policy does increase profitability."
   ]
  },
  {
   "attachments": {},
   "cell_type": "markdown",
   "metadata": {},
   "source": [
    "**Question 4:** Find the optimal $\\Delta$ maximizing $H$. Illustrate your result."
   ]
  },
  {
   "cell_type": "code",
   "execution_count": 5,
   "metadata": {},
   "outputs": [
    {
     "data": {
      "image/png": "[encoded data removed]",
      "text/plain": [
       "<Figure size 640x480 with 1 Axes>"
      ]
     },
     "metadata": {},
     "output_type": "display_data"
    },
    {
     "name": "stdout",
     "output_type": "stream",
     "text": [
      "Optimal Delta: 0.064646\n",
      "Expected value of the salon with optimal delta (H): 28.277492\n"
     ]
    }
   ],
   "source": [
    "# Set up optimization procedure\n",
    "def optimize_delta(delta):\n",
    "    epsilon_series = np.random.normal(loc=-0.5 * sigma_epsilon ** 2, scale=sigma_epsilon, size=(K, 120))\n",
    "    kappa_series = np.zeros((K, 120))\n",
    "    ell_series = np.zeros((K, 120))\n",
    "    kappa_series[:, 0] = kappa_minus1\n",
    "    ell_series[:, 0] = ell_minus1\n",
    "\n",
    "    for t in range(1, 120):\n",
    "        kappa_series[:, t] = np.exp(rho * np.log(kappa_series[:, t - 1]) + epsilon_series[:, t])\n",
    "\n",
    "        ell_optimal = ((1 - eta) * kappa_series[:, t] / w) ** (1 / eta)\n",
    "        mask = (t == 1) | (np.abs(ell_series[:, t - 1] - ell_optimal) > delta)\n",
    "        ell_series[:, t] = np.where(mask, ell_optimal, ell_series[:, t - 1])\n",
    "\n",
    "    h_values = np.sum((R ** (-np.arange(120))) * (kappa_series * ell_series ** (1 - eta) - w * ell_series -\n",
    "                                                   (ell_series != np.roll(ell_series, 1, axis=1)).astype(int) * iota), axis=1)\n",
    "\n",
    "    return np.mean(h_values)\n",
    "\n",
    "# Perform optimization\n",
    "delta_values = np.linspace(0, 0.2, 100)\n",
    "H_values = np.array([optimize_delta(delta) for delta in delta_values])\n",
    "optimal_index = np.argmax(H_values)\n",
    "optimal_delta = delta_values[optimal_index]\n",
    "H_optimal_delta = H_values[optimal_index]\n",
    "\n",
    "# Plot the results\n",
    "plt.plot(delta_values, H_values, label=\"Expected H value\")\n",
    "plt.xlabel('Delta')\n",
    "plt.ylabel('H')\n",
    "plt.title('Optimization of Delta')\n",
    "plt.axvline(x=optimal_delta, color='r', linestyle='--', label='Optimal Delta')\n",
    "plt.legend()\n",
    "plt.show()\n",
    "\n",
    "# Print the optimal delta and corresponding H\n",
    "print(f\"Optimal Delta: {optimal_delta:4f}\")\n",
    "print(f\"Expected value of the salon with optimal delta (H): {H_optimal_delta:4f}\")"
   ]
  },
  {
   "attachments": {},
   "cell_type": "markdown",
   "metadata": {},
   "source": [
    "\n",
    "**Question 5:** Suggest an alternative policy you believe might improve profitability. Implement and test your policy.\n",
    "\n"
   ]
  },
  {
   "cell_type": "code",
   "execution_count": 12,
   "metadata": {},
   "outputs": [],
   "source": [
    "# write your code here"
   ]
  },
  {
   "attachments": {},
   "cell_type": "markdown",
   "metadata": {},
   "source": [
    "## 3. <a id='toc3_'></a>[Problem 3: Global optimizer with refined multi-start](#toc0_)"
   ]
  },
  {
   "attachments": {},
   "cell_type": "markdown",
   "metadata": {},
   "source": [
    "We consider the Griewank function:\n",
    "\n",
    "$$ f(\\boldsymbol{x}) = \\sum^n_{i=1} \\frac{x^2_i}{4000}-\\prod^n_{i=1}\\cos\\left(\\frac{x_i}{\\sqrt{i}}\\right)+1$$\n",
    "\n",
    "The **global minimum** of this function is $f(0,0) = 0$ (remember: $\\cos(0)=1$).<br>\n",
    "But the function also have a lot of **local minima**."
   ]
  },
  {
   "cell_type": "code",
   "execution_count": 13,
   "metadata": {},
   "outputs": [],
   "source": [
    "def griewank(x):\n",
    "    return griewank_(x[0],x[1])\n",
    "    \n",
    "def griewank_(x1,x2):\n",
    "    A = x1**2/4000 + x2**2/4000\n",
    "    B = np.cos(x1/np.sqrt(1))*np.cos(x2/np.sqrt(2))\n",
    "    return A-B+1"
   ]
  },
  {
   "attachments": {},
   "cell_type": "markdown",
   "metadata": {},
   "source": [
    "A **refined global optimizer with multi-start** is:\n",
    "\n",
    "1. Choose *bounds* for $\\mathbf{x}$ and *tolerance* $\\tau > 0$.\n",
    "2. Choose number of *warm-up iterations*, $\\underline{K} > 0$ and *maximum number of iterations*, $K > \\underline{K}$.\n",
    "3. In each iteration for $k \\in \\{0,1,\\dots,K-1\\}$:\n",
    "\n",
    "    A. Draw random $\\mathbf{x}^k$ uniformly within chosen bounds.\n",
    "\n",
    "    B. If $k < \\underline{K}$ go to step E.\n",
    "\n",
    "    C. Calculate $\\chi^k = 0.50\\cdot\\frac{2}{1+\\exp((k-\\underline{K})/100)}$  \n",
    "\n",
    "    D. Set $\\mathbf{x}^{k0} = \\chi^k \\mathbf{x}^k + (1-\\chi^k)\\mathbf{x}^{\\ast} $\n",
    "\n",
    "    E. Run optimizer with $\\mathbf{x}^{k0}$ as initial guess and $\\mathbf{x}^{k\\ast}$ as result.\n",
    "\n",
    "    F. Set $\\mathbf{x}^{\\ast} = \\mathbf{x}^{k\\ast}$ if $k = 0$ or $f(\\mathbf{x}^{k\\ast}) < f(\\mathbf{x}^{\\ast})$\n",
    "\n",
    "    G. If $f(\\mathbf{x}^{\\ast}) < \\tau$ go to step 4.\n",
    "\n",
    "4. Return the result $\\mathbf{x}^{\\ast}$."
   ]
  },
  {
   "attachments": {},
   "cell_type": "markdown",
   "metadata": {},
   "source": [
    "As settings we choose:\n",
    "\n",
    "* $x_1,x_2 \\in  [-600,600]$\n",
    "* $\\tau = 10^{-8}$\n",
    "* $\\underline{K}=10$\n",
    "* $K=1000$\n",
    "\n",
    "The optimizer in Step 3.E is `BFGS` with a tolerance of $\\tau$."
   ]
  },
  {
   "attachments": {},
   "cell_type": "markdown",
   "metadata": {},
   "source": [
    "**Question 1:** Implement the refined global optimizer with multi-start. Illustrate how the effective initial guesses $\\mathbf{x}^{k0}$ vary with the iteration counter $k$."
   ]
  },
  {
   "cell_type": "code",
   "execution_count": 14,
   "metadata": {},
   "outputs": [],
   "source": [
    "# write your code here"
   ]
  },
  {
   "attachments": {},
   "cell_type": "markdown",
   "metadata": {},
   "source": [
    "**Question 2:** Is it a better idea to set $\\underline{K} = 100$? Is the convergence faster?"
   ]
  },
  {
   "cell_type": "code",
   "execution_count": 15,
   "metadata": {},
   "outputs": [],
   "source": [
    "# write your code here"
   ]
  }
 ],
 "metadata": {
  "kernelspec": {
   "display_name": "base",
   "language": "python",
   "name": "python3"
  },
  "language_info": {
   "codemirror_mode": {
    "name": "ipython",
    "version": 3
   },
   "file_extension": ".py",
   "mimetype": "text/x-python",
   "name": "python",
   "nbconvert_exporter": "python",
   "pygments_lexer": "ipython3",
   "version": "3.9.13"
  },
  "orig_nbformat": 4
 },
 "nbformat": 4,
 "nbformat_minor": 2
}
