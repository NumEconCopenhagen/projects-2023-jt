{
 "cells": [
  {
   "attachments": {},
   "cell_type": "markdown",
   "metadata": {},
   "source": [
    "**Table of contents**<a id='toc0_'></a>    \n",
    "- 1. [Problem 1: Optimal taxation with government consumption](#toc1_)    \n",
    "- 2. [Problem 2: Labor adjustment costs](#toc2_)    \n",
    "- 3. [Problem 3: Global optimizer with refined multi-start](#toc3_)    \n",
    "\n",
    "<!-- vscode-jupyter-toc-config\n",
    "\tnumbering=true\n",
    "\tanchor=true\n",
    "\tflat=false\n",
    "\tminLevel=2\n",
    "\tmaxLevel=6\n",
    "\t/vscode-jupyter-toc-config -->\n",
    "<!-- THIS CELL WILL BE REPLACED ON TOC UPDATE. DO NOT WRITE YOUR TEXT IN THIS CELL -->"
   ]
  },
  {
   "cell_type": "code",
   "execution_count": 1,
   "metadata": {},
   "outputs": [],
   "source": [
    "import numpy as np\n",
    "import sympy as sm\n",
    "from matplotlib import pyplot as plt\n",
    "from types import SimpleNamespace\n",
    "from scipy import optimize\n",
    "from scipy import linalg\n",
    "import ipywidgets as widgets"
   ]
  },
  {
   "attachments": {},
   "cell_type": "markdown",
   "metadata": {},
   "source": [
    "## 1. <a id='toc1_'></a>[Problem 1: Optimal taxation with government consumption](#toc0_)"
   ]
  },
  {
   "attachments": {},
   "cell_type": "markdown",
   "metadata": {},
   "source": [
    "\n",
    "Consider a worker choosing hours of labor, $L\\in[0,24]$, to maximize utility: \n",
    "\n",
    "$$\n",
    "\\begin{align*}\n",
    "V(w,\\tau,G)&=\\max_{L\\in[0,24]}\\ln\\left(C^{\\alpha}G^{1-\\alpha}\\right)-\\nu\\frac{L^{2}}{2}\\\\&\\text{s.t.}\\\\&C=\\kappa+(1-\\tau)wL\n",
    "\\end{align*}\n",
    "$$\n",
    "\n",
    "where \n",
    "\n",
    "* $C$ is *private* consumption with weight $\\alpha\\in(0,1)$.\n",
    "* $\\kappa > 0$ is the *free private* consumption component.\n",
    "* $C = (1-\\tau)wL$ is the *costly private* consumption component.\n",
    "* $w > 0 $ is the real wage.\n",
    "* $\\tau \\in (0,1)$ is the labor-income tax rate.\n",
    "* $G > 0 $ is *government* consumption with weight $1-\\alpha$.\n",
    "* $\\nu > 0$ is the disutility of labor scaling factor"
   ]
  },
  {
   "attachments": {},
   "cell_type": "markdown",
   "metadata": {},
   "source": [
    "\n",
    "The baseline parameters are:\n",
    "\n",
    "$$\n",
    "\\begin{align*}\n",
    "\\alpha &= 0.5\\\\\n",
    "\\kappa &= 1.0\\\\\n",
    "\\nu &= \\frac{1}{2\\cdot16^2} \\\\\n",
    "w &= 1.0 \\\\ \n",
    "\\tau &= 0.30 \\\\\n",
    "\\end{align*}\n",
    "$$"
   ]
  },
  {
   "attachments": {},
   "cell_type": "markdown",
   "metadata": {},
   "source": [
    "**Question 1:** Verify that the optimal labor supply choice is $L^{\\star}(\\tilde{w}) =\\frac{-\\kappa+\\sqrt{\\kappa^{2}+4\\frac{\\alpha}{\\nu}\\tilde{w}^2}}{2\\tilde{w}}$, where $\\tilde{w} = (1-\\tau)w$, for $G\\in\\left\\{1.0 , 2.0\\right\\}$."
   ]
  },
  {
   "cell_type": "code",
   "execution_count": 2,
   "metadata": {},
   "outputs": [],
   "source": [
    "# write your code here"
   ]
  },
  {
   "attachments": {},
   "cell_type": "markdown",
   "metadata": {},
   "source": [
    "**Question 2:** Illustrate how $L^{\\star}(\\tilde{w})$ depends on $w$."
   ]
  },
  {
   "cell_type": "code",
   "execution_count": 3,
   "metadata": {},
   "outputs": [],
   "source": [
    "# write your code here"
   ]
  },
  {
   "attachments": {},
   "cell_type": "markdown",
   "metadata": {},
   "source": [
    "\n",
    "We now consider a government, who chooses $\\tau$ and spend all of the taxes on government consumption so:\n",
    "\n",
    "$$\n",
    "G = \\tau w L^{\\star}((1-\\tau)w)\n",
    "$$\n",
    "\n",
    "**Question 3:** Plot the implied $L$, $G$ and worker utility for a grid of $\\tau$-values.\n"
   ]
  },
  {
   "cell_type": "code",
   "execution_count": 4,
   "metadata": {},
   "outputs": [],
   "source": [
    "# write your code here"
   ]
  },
  {
   "attachments": {},
   "cell_type": "markdown",
   "metadata": {},
   "source": [
    "**Question 4:** Find the socially optimal tax rate $\\tau^{\\star}\\in(0,1)$ maximizing worker utility. Illustrate your result."
   ]
  },
  {
   "cell_type": "code",
   "execution_count": 5,
   "metadata": {},
   "outputs": [],
   "source": [
    "# write your code here"
   ]
  },
  {
   "attachments": {},
   "cell_type": "markdown",
   "metadata": {},
   "source": [
    "A more general preference formulation for the worker is:\n",
    "\n",
    "$$\n",
    "\\begin{align*}\n",
    "\\mathcal{V}(w,\\tau,G)&=\\max_{L\\in[0,24]}\\frac{\\left[ \\left( \\alpha C^{\\frac{\\sigma-1}{\\sigma}}+(1-\\alpha) G^{\\frac{\\sigma-1}{\\sigma}} \\right)^{\\frac{\\sigma}{1-\\sigma} }\\right]^{1-\\rho}-1}{1-\\rho}- \\nu\\frac{L^{1+\\varepsilon}}{1+\\varepsilon},\\,\\,\\,\\varepsilon,\\rho,\\sigma>0,\\,\\,\\,\\rho,\\sigma\\neq1\\\\&\\text{s.t.}\\\\&C=\\kappa+(1-\\tau)wL\n",
    "\\end{align*}    \n",
    "$$\n",
    "\n",
    "Optimal labor supply is now $L^{\\star}(\\tilde{w},G)$."
   ]
  },
  {
   "attachments": {},
   "cell_type": "markdown",
   "metadata": {},
   "source": [
    "Questions 5 and 6 must be answered with the general formulation, and for 2 different set of parameters:\n",
    "\n",
    "- Set 1:  $\\sigma = 1.001$, $\\rho = 1.001$ and $\\varepsilon = 1.0$.\n",
    "- Set 2:  $\\sigma = 1.5$, $\\rho = 1.5$ and $\\varepsilon = 1.0 $."
   ]
  },
  {
   "attachments": {},
   "cell_type": "markdown",
   "metadata": {},
   "source": [
    "**Question 5:** Find the $G$ that solves $G = \\tau w L^{\\star}((1-\\tau)w,G)$ using the $\\tau$ found in question 4.\n",
    "\n",
    "*Hint: First write code that solves the worker problem for given values of $G$ and $\\tau$. Then find the correct G based on this.*"
   ]
  },
  {
   "cell_type": "code",
   "execution_count": 6,
   "metadata": {},
   "outputs": [],
   "source": [
    "# write your code here"
   ]
  },
  {
   "attachments": {},
   "cell_type": "markdown",
   "metadata": {},
   "source": [
    "**Question 6:** Find the socially optimal tax rate, $\\tau^{\\star}$, maximizing worker utility, while keeping $G = \\tau w L^{\\star}((1-\\tau)w,G)$."
   ]
  },
  {
   "cell_type": "code",
   "execution_count": 7,
   "metadata": {},
   "outputs": [],
   "source": [
    "# write your code here  "
   ]
  },
  {
   "attachments": {},
   "cell_type": "markdown",
   "metadata": {},
   "source": [
    "## 2. <a id='toc2_'></a>[Problem 2: Labor adjustment costs](#toc0_)"
   ]
  },
  {
   "attachments": {},
   "cell_type": "markdown",
   "metadata": {},
   "source": [
    "You own a hair salon. You employ hairdressers, $\\ell_t$, to produce haircuts, $y_t = \\ell_t$.\n",
    "\n",
    "The wage for each haridresser is $w$.\n",
    "\n",
    "The demand for haircuts implies that the price of haircuts you can charge is $p_t = \\kappa_t y_t^{-\\eta}$, where $\\kappa_t$ is a demand-shock and $\\eta \\in (0,1)$ measures the elasticity of demand.\n",
    "\n",
    "Profits are:\n",
    "\n",
    "$$\n",
    "\\Pi_t = p_t y_t - w \\ell_t = \\kappa_t \\ell_t^{1-\\eta} - w \\ell_t\n",
    "$$"
   ]
  },
  {
   "attachments": {},
   "cell_type": "markdown",
   "metadata": {},
   "source": [
    "Baseline parameters are:\n",
    "- $\\eta = 0.5$\n",
    "- $w = 1.0$"
   ]
  },
  {
   "attachments": {},
   "cell_type": "markdown",
   "metadata": {},
   "source": [
    "**Question 1:** Verify numerically that $\\ell_{t}=\\left(\\frac{(1-\\eta)\\kappa_{t}}{w}\\right)^{\\frac{1}{\\eta}}$ maximises profits, for $\\kappa\\in\\left\\{1.0 , 2.0\\right\\}$."
   ]
  },
  {
   "cell_type": "code",
   "execution_count": 2,
   "metadata": {},
   "outputs": [
    {
     "name": "stdout",
     "output_type": "stream",
     "text": [
      "For k = 1.0\n",
      "Optimal l value: 0.250000\n",
      "l_talg: 0.250000\n",
      "Difference: 0.000000\n",
      "\n",
      "For k = 2.0\n",
      "Optimal l value: 1.000000\n",
      "l_talg: 1.000000\n",
      "Difference: 0.000000\n",
      "\n"
     ]
    }
   ],
   "source": [
    "# Setting up parameters\n",
    "n = 0.5\n",
    "w = 1.0\n",
    "k_values = [1.0, 2.0]\n",
    "\n",
    "# Defining our profit function\n",
    "def profitfunction(l_t, k):\n",
    "    profit = k * l_t ** (1 - n) - w * l_t\n",
    "    return profit\n",
    "\n",
    "# Defining our optimizing space\n",
    "ls = np.linspace(0, 1000, 1000)\n",
    "bounds = [(0.001, 100000)]\n",
    "lguess = 1\n",
    "\n",
    "# Creating a loop for the two k values\n",
    "for k in k_values:\n",
    "    # Creating our objective\n",
    "    obj = lambda l: -profitfunction(l, k)\n",
    "    # Solving via the scipy optimizer\n",
    "    result = optimize.minimize(obj, lguess, method=\"Nelder-Mead\", bounds=bounds)\n",
    "    # Storing our optimal result\n",
    "    l_optimal = result.x[0]\n",
    "    # Calculating the optimal l via the algebraic solution\n",
    "    l_talg = (((1 - n) * k) / w) ** (1 / n)\n",
    "\n",
    "    # Printing out our results\n",
    "    print(\"For k =\", k)\n",
    "    print(f\"Optimal l value: {l_optimal:4f}\")\n",
    "    print(f\"l_talg: {l_talg:4f}\")\n",
    "    print(f\"Difference: {l_talg - l_optimal:4f}\")\n",
    "    print()\n"
   ]
  },
  {
   "attachments": {},
   "cell_type": "markdown",
   "metadata": {},
   "source": [
    "As we can see the optimized numerical values are similar to the ones we get from the algebraic solution, meaning that the expression does indeed maximize profits."
   ]
  },
  {
   "attachments": {},
   "cell_type": "markdown",
   "metadata": {},
   "source": [
    "We now consider a *dynamic* version of the model.\n",
    "\n",
    "* The demand-shock is a so-called AR(1) in logs, \n",
    "\n",
    "$$\n",
    "\\log \\kappa_{t} = \\rho \\log \\kappa_{t-1} + \\epsilon_{t},\\,\\,\\, \\epsilon_{t+1} \\sim \\mathcal{N}(-0.5\\sigma_{\\epsilon}^2,\\sigma_{\\epsilon})\n",
    "$$\n",
    "\n",
    "* Any hiring or firing implies a fixed adjustment cost, $\\iota > 0 $.\n",
    "* Future profits are discounted with a monthly factor of $R \\in (0,1)$.\n",
    "\n",
    "The initial demand shock is $\\kappa_{-1} = 1$ and the planning horizon is 10 years, i.e. 120 months so $t \\in \\{0,1,2,\\dots,119\\}$. Initially you don't have any employees, $\\ell_{-1}=0$"
   ]
  },
  {
   "attachments": {},
   "cell_type": "markdown",
   "metadata": {},
   "source": [
    "\n",
    "The *ex post* value of the salon is *conditional* on the shock series is:\n",
    "\n",
    "$$\n",
    "h(\\epsilon_0,\\epsilon_1,\\dots,\\epsilon_{119}) = \\left[\\sum_{t=0}^{119}R^{-t}\\left[\\kappa_{t}\\ell_{t}^{1-\\eta}-w\\ell_{t}-\\boldsymbol{1}_{\\ell_{t}\\neq\\ell_{t-1}}\\iota\\right]\\right]\n",
    "$$\n",
    "\n",
    "The *ex ante* expected value of the salon can be approximated by\n",
    "\n",
    "$$\n",
    "H = \\mathbb{E}[h(\\epsilon_0,\\epsilon_1,\\dots,\\epsilon_{119})] \\approx \\frac{1}{K}\\sum_{k=0}^{K-1} h(\\epsilon_0^k,\\epsilon_1^k,\\dots,\\epsilon_{119}^k)\n",
    "$$\n",
    "\n",
    "where each $k\\in\\{0,1,\\dots,K-1\\}$ is a random shock series. Maximizing profitability means maximizing $H$.\n"
   ]
  },
  {
   "attachments": {},
   "cell_type": "markdown",
   "metadata": {},
   "source": [
    "Baseline parameters are: \n",
    "\n",
    "- $\\rho = 0.90$\n",
    "- $\\iota = 0.01$\n",
    "- $\\sigma_{\\epsilon} = 0.10$\n",
    "- $R = \\left(1+0.01\\right)^{1/12}$"
   ]
  },
  {
   "attachments": {},
   "cell_type": "markdown",
   "metadata": {},
   "source": [
    "**Question 2:** Calculate $H$ if the policy  $\\ell_{t}=\\left(\\frac{(1-\\eta)\\kappa_{t}}{w}\\right)^{\\frac{1}{\\eta}}$ from question 1 is followed. Choose $K$ so the approximation is good enough to not affect your results substantially."
   ]
  },
  {
   "cell_type": "code",
   "execution_count": 3,
   "metadata": {},
   "outputs": [
    {
     "name": "stdout",
     "output_type": "stream",
     "text": [
      "Expected value of the salon (H): 27.482947\n"
     ]
    }
   ],
   "source": [
    "# Baseline parameters\n",
    "rho = 0.90\n",
    "iota = 0.01\n",
    "sigma_epsilon = 0.10\n",
    "R = (1 + 0.01) ** (1 / 12)\n",
    "\n",
    "# Other parameters\n",
    "eta = 0.5\n",
    "w = 1.0\n",
    "\n",
    "# Set up initial conditions\n",
    "kappa_minus1 = 1.0\n",
    "ell_minus1 = 0.0\n",
    "\n",
    "# Set up optimization function\n",
    "def h_func(epsilon_series, kappa_series, ell_series):\n",
    "    \"\"\"\n",
    "    Calculate the objective function value for a given series of shocks, capital, and labor\n",
    "\n",
    "    Args:\n",
    "        epsilon_series (array-like): Series of shocks\n",
    "        kappa_series (array-like): Series of capital\n",
    "        ell_series (array-like): Series of labor\n",
    "\n",
    "    Returns:\n",
    "        float: Objective function value\n",
    "    \"\"\"\n",
    "    h = np.sum([(R ** (-t)) * (kappa_series[t] * ell_series[t] ** (1 - eta) - w * ell_series[t] -\n",
    "                                (1 if ell_series[t] != ell_series[t - 1] else 0) * iota)\n",
    "                for t in range(len(epsilon_series))])\n",
    "    return h\n",
    "\n",
    "# Set random seed\n",
    "np.random.seed(123)\n",
    "\n",
    "# Set up simulation parameters\n",
    "K = 10000  # Number of random shock series to simulate\n",
    "\n",
    "# Simulate and maximize expected profitability\n",
    "h_values = []\n",
    "for _ in range(K):\n",
    "    epsilon_series = np.random.normal(loc=-0.5 * sigma_epsilon ** 2, scale=sigma_epsilon, size=120)\n",
    "    kappa_series = np.zeros(120)\n",
    "    ell_series = np.zeros(120)\n",
    "    kappa_series[0] = kappa_minus1\n",
    "    ell_series[0] = ell_minus1\n",
    "\n",
    "    for t in range(1, 120):\n",
    "        kappa_series[t] = np.exp(rho * np.log(kappa_series[t - 1]) + epsilon_series[t])\n",
    "        # Calculate optimal number of employees using the policy\n",
    "        ell_series[t] = ((1 - eta) * kappa_series[t] / w) ** (1 / eta)\n",
    "\n",
    "    h = h_func(epsilon_series, kappa_series, ell_series)\n",
    "    h_values.append(h)\n",
    "\n",
    "# Calculate the expected value of the salon\n",
    "H = np.mean(h_values[:-1])  # Use K-1 simulations\n",
    "\n",
    "# Print the results\n",
    "print(f\"Expected value of the salon (H): {H:4f}\")"
   ]
  },
  {
   "attachments": {},
   "cell_type": "markdown",
   "metadata": {},
   "source": [
    "Next, we consider policies on the form:\n",
    "\n",
    "$$\n",
    "\n",
    "\\ell_{t}=\\begin{cases}\n",
    "\\ell_t^{\\ast}  & \\text{if }\\left|\\ell_{t-1}-\\ell_t^{\\ast} \\right|>\\Delta\\\\\n",
    "\\ell_{t-1} & \\text{else }\n",
    "\\end{cases}\n",
    "\\\\\n",
    "\\text{where}\\,\\,\\ell_t^{\\ast} = \\left(\\frac{(1-\\eta)\\kappa_{t}}{w}\\right)^{\\frac{1}{\\eta}} \\\\\n",
    "\n",
    "$$\n",
    "With $\\Delta \\geq 0$ and $\\Delta = 0$ being the previous policy.\n"
   ]
  },
  {
   "attachments": {},
   "cell_type": "markdown",
   "metadata": {},
   "source": [
    "\n",
    "**Question 3:** Calculate $H$ if the policy above was followed with $\\Delta = 0.05$. Does it improve profitability?"
   ]
  },
  {
   "cell_type": "code",
   "execution_count": 4,
   "metadata": {},
   "outputs": [
    {
     "name": "stdout",
     "output_type": "stream",
     "text": [
      "Expected value of the salon with baseline policy (H):, 27.448507\n",
      "Expected value of the salon with new policy (H) - Delta = 0.05: 28.123259\n"
     ]
    }
   ],
   "source": [
    "# Setting up the delta parameter\n",
    "delta = 0.05\n",
    "\n",
    "# Set up optimization function\n",
    "def h_func(epsilon_series, kappa_series, ell_series):\n",
    "    \"\"\"\n",
    "    Calculate the objective function value for a given series of shocks, capital, and labor\n",
    "\n",
    "    Args:\n",
    "        epsilon_series (array-like): Series of shocks\n",
    "        kappa_series (array-like): Series of capital\n",
    "        ell_series (array-like): Series of labor\n",
    "\n",
    "    Returns:\n",
    "        float: Objective function value\n",
    "    \"\"\"\n",
    "    h = np.sum([(R ** (-t)) * (kappa_series[t] * ell_series[t] ** (1 - eta) - w * ell_series[t] -\n",
    "                                (1 if ell_series[t] != ell_series[t - 1] else 0) * iota)\n",
    "                for t in range(len(epsilon_series))])\n",
    "    return h\n",
    "\n",
    "# Set random seed for reproducibility\n",
    "#np.random.seed(123)\n",
    "\n",
    "# Set up simulation parameters\n",
    "K = 10000  # Number of random shock series to simulate\n",
    "\n",
    "# Simulate and maximize expected profitability\n",
    "h_values_baseline = []\n",
    "h_values_new_policy = []\n",
    "for _ in range(K):\n",
    "    epsilon_series = np.random.normal(loc=-0.5 * sigma_epsilon ** 2, scale=sigma_epsilon, size=120)\n",
    "    kappa_series = np.zeros(120)\n",
    "    ell_series_baseline = np.zeros(120)\n",
    "    ell_series_new_policy = np.zeros(120)\n",
    "    kappa_series[0] = kappa_minus1\n",
    "    ell_series_baseline[0] = ell_minus1\n",
    "    ell_series_new_policy[0] = ell_minus1\n",
    "\n",
    "    for t in range(1, 120):\n",
    "        kappa_series[t] = np.exp(rho * np.log(kappa_series[t - 1]) + epsilon_series[t])\n",
    "        \n",
    "        # Calculate optimal number of employees using the policy with baseline threshold (Delta = 0)\n",
    "        ell_optimal_baseline = ((1 - eta) * kappa_series[t] / w) ** (1 / eta)\n",
    "        if t == 1 or abs(ell_series_baseline[t - 1] - ell_optimal_baseline) > 0:\n",
    "            ell_series_baseline[t] = ell_optimal_baseline\n",
    "        else:\n",
    "            ell_series_baseline[t] = ell_series_baseline[t - 1]\n",
    "        \n",
    "        # Calculate optimal number of employees using the policy with new threshold (Delta = 0.05)\n",
    "        ell_optimal_new_policy = ((1 - eta) * kappa_series[t] / w) ** (1 / eta)\n",
    "        if t == 1 or abs(ell_series_new_policy[t - 1] - ell_optimal_new_policy) > delta:\n",
    "            ell_series_new_policy[t] = ell_optimal_new_policy\n",
    "        else:\n",
    "            ell_series_new_policy[t] = ell_series_new_policy[t - 1]\n",
    "\n",
    "    h_baseline = h_func(epsilon_series, kappa_series, ell_series_baseline)\n",
    "    h_new_policy = h_func(epsilon_series, kappa_series, ell_series_new_policy)\n",
    "    h_values_baseline.append(h_baseline)\n",
    "    h_values_new_policy.append(h_new_policy)\n",
    "\n",
    "# Calculate the expected value of the salon\n",
    "H_baseline = np.mean(h_values_baseline[:-1])  # Use K-1 simulations for baseline policy\n",
    "H_new_policy = np.mean(h_values_new_policy[:-1])  # Use K-1 simulations for new policy\n",
    "\n",
    "# Print the results\n",
    "print(f\"Expected value of the salon with baseline policy (H):, {H_baseline:4f}\")\n",
    "print(f\"Expected value of the salon with new policy (H) - Delta = 0.05: {H_new_policy:4f}\")"
   ]
  },
  {
   "attachments": {},
   "cell_type": "markdown",
   "metadata": {},
   "source": [
    "As we can see the expected value of the salon is higher with the policy compared to without. Meaning that the policy does increase profitability."
   ]
  },
  {
   "attachments": {},
   "cell_type": "markdown",
   "metadata": {},
   "source": [
    "**Question 4:** Find the optimal $\\Delta$ maximizing $H$. Illustrate your result."
   ]
  },
  {
   "cell_type": "code",
   "execution_count": 5,
   "metadata": {},
   "outputs": [
    {
     "data": {
      "image/png": "[encoded data removed]",
      "text/plain": [
       "<Figure size 640x480 with 1 Axes>"
      ]
     },
     "metadata": {},
     "output_type": "display_data"
    },
    {
     "name": "stdout",
     "output_type": "stream",
     "text": [
      "Optimal Delta: 0.064646\n",
      "Expected value of the salon with optimal delta (H): 28.277492\n"
     ]
    }
   ],
   "source": [
    "# Set up optimization procedure\n",
    "def optimize_delta(delta):\n",
    "    epsilon_series = np.random.normal(loc=-0.5 * sigma_epsilon ** 2, scale=sigma_epsilon, size=(K, 120))\n",
    "    kappa_series = np.zeros((K, 120))\n",
    "    ell_series = np.zeros((K, 120))\n",
    "    kappa_series[:, 0] = kappa_minus1\n",
    "    ell_series[:, 0] = ell_minus1\n",
    "\n",
    "    for t in range(1, 120):\n",
    "        kappa_series[:, t] = np.exp(rho * np.log(kappa_series[:, t - 1]) + epsilon_series[:, t])\n",
    "\n",
    "        ell_optimal = ((1 - eta) * kappa_series[:, t] / w) ** (1 / eta)\n",
    "        mask = (t == 1) | (np.abs(ell_series[:, t - 1] - ell_optimal) > delta)\n",
    "        ell_series[:, t] = np.where(mask, ell_optimal, ell_series[:, t - 1])\n",
    "\n",
    "    h_values = np.sum((R ** (-np.arange(120))) * (kappa_series * ell_series ** (1 - eta) - w * ell_series -\n",
    "                                                   (ell_series != np.roll(ell_series, 1, axis=1)).astype(int) * iota), axis=1)\n",
    "\n",
    "    return np.mean(h_values)\n",
    "\n",
    "# Perform optimization\n",
    "delta_values = np.linspace(0, 0.2, 100)\n",
    "H_values = np.array([optimize_delta(delta) for delta in delta_values])\n",
    "optimal_index = np.argmax(H_values)\n",
    "optimal_delta = delta_values[optimal_index]\n",
    "H_optimal_delta = H_values[optimal_index]\n",
    "\n",
    "# Plot the results\n",
    "plt.plot(delta_values, H_values, label=\"Expected H value\")\n",
    "plt.xlabel('Delta')\n",
    "plt.ylabel('H')\n",
    "plt.title('Optimization of Delta')\n",
    "plt.axvline(x=optimal_delta, color='r', linestyle='--', label='Optimal Delta')\n",
    "plt.legend()\n",
    "plt.show()\n",
    "\n",
    "# Print the optimal delta and corresponding H\n",
    "print(f\"Optimal Delta: {optimal_delta:4f}\")\n",
    "print(f\"Expected value of the salon with optimal delta (H): {H_optimal_delta:4f}\")"
   ]
  },
  {
   "attachments": {},
   "cell_type": "markdown",
   "metadata": {},
   "source": [
    "\n",
    "**Question 5:** Suggest an alternative policy you believe might improve profitability. Implement and test your policy.\n",
    "\n"
   ]
  },
  {
   "cell_type": "code",
   "execution_count": 12,
   "metadata": {},
   "outputs": [],
   "source": [
    "# write your code here"
   ]
  },
  {
   "attachments": {},
   "cell_type": "markdown",
   "metadata": {},
   "source": [
    "## 3. <a id='toc3_'></a>[Problem 3: Global optimizer with refined multi-start](#toc0_)"
   ]
  },
  {
   "attachments": {},
   "cell_type": "markdown",
   "metadata": {},
   "source": [
    "We consider the Griewank function:\n",
    "\n",
    "$$ f(\\boldsymbol{x}) = \\sum^n_{i=1} \\frac{x^2_i}{4000}-\\prod^n_{i=1}\\cos\\left(\\frac{x_i}{\\sqrt{i}}\\right)+1$$\n",
    "\n",
    "The **global minimum** of this function is $f(0,0) = 0$ (remember: $\\cos(0)=1$).<br>\n",
    "But the function also have a lot of **local minima**."
   ]
  },
  {
   "cell_type": "code",
   "execution_count": 13,
   "metadata": {},
   "outputs": [],
   "source": [
    "def griewank(x):\n",
    "    return griewank_(x[0],x[1])\n",
    "    \n",
    "def griewank_(x1,x2):\n",
    "    A = x1**2/4000 + x2**2/4000\n",
    "    B = np.cos(x1/np.sqrt(1))*np.cos(x2/np.sqrt(2))\n",
    "    return A-B+1"
   ]
  },
  {
   "attachments": {},
   "cell_type": "markdown",
   "metadata": {},
   "source": [
    "A **refined global optimizer with multi-start** is:\n",
    "\n",
    "1. Choose *bounds* for $\\mathbf{x}$ and *tolerance* $\\tau > 0$.\n",
    "2. Choose number of *warm-up iterations*, $\\underline{K} > 0$ and *maximum number of iterations*, $K > \\underline{K}$.\n",
    "3. In each iteration for $k \\in \\{0,1,\\dots,K-1\\}$:\n",
    "\n",
    "    A. Draw random $\\mathbf{x}^k$ uniformly within chosen bounds.\n",
    "\n",
    "    B. If $k < \\underline{K}$ go to step E.\n",
    "\n",
    "    C. Calculate $\\chi^k = 0.50\\cdot\\frac{2}{1+\\exp((k-\\underline{K})/100)}$  \n",
    "\n",
    "    D. Set $\\mathbf{x}^{k0} = \\chi^k \\mathbf{x}^k + (1-\\chi^k)\\mathbf{x}^{\\ast} $\n",
    "\n",
    "    E. Run optimizer with $\\mathbf{x}^{k0}$ as initial guess and $\\mathbf{x}^{k\\ast}$ as result.\n",
    "\n",
    "    F. Set $\\mathbf{x}^{\\ast} = \\mathbf{x}^{k\\ast}$ if $k = 0$ or $f(\\mathbf{x}^{k\\ast}) < f(\\mathbf{x}^{\\ast})$\n",
    "\n",
    "    G. If $f(\\mathbf{x}^{\\ast}) < \\tau$ go to step 4.\n",
    "\n",
    "4. Return the result $\\mathbf{x}^{\\ast}$."
   ]
  },
  {
   "attachments": {},
   "cell_type": "markdown",
   "metadata": {},
   "source": [
    "As settings we choose:\n",
    "\n",
    "* $x_1,x_2 \\in  [-600,600]$\n",
    "* $\\tau = 10^{-8}$\n",
    "* $\\underline{K}=10$\n",
    "* $K=1000$\n",
    "\n",
    "The optimizer in Step 3.E is `BFGS` with a tolerance of $\\tau$."
   ]
  },
  {
   "attachments": {},
   "cell_type": "markdown",
   "metadata": {},
   "source": [
    "**Question 1:** Implement the refined global optimizer with multi-start. Illustrate how the effective initial guesses $\\mathbf{x}^{k0}$ vary with the iteration counter $k$."
   ]
  },
  {
   "cell_type": "code",
   "execution_count": 14,
   "metadata": {},
   "outputs": [],
   "source": [
    "# write your code here"
   ]
  },
  {
   "attachments": {},
   "cell_type": "markdown",
   "metadata": {},
   "source": [
    "**Question 2:** Is it a better idea to set $\\underline{K} = 100$? Is the convergence faster?"
   ]
  },
  {
   "cell_type": "code",
   "execution_count": 15,
   "metadata": {},
   "outputs": [],
   "source": [
    "# write your code here"
   ]
  }
 ],
 "metadata": {
  "kernelspec": {
   "display_name": "base",
   "language": "python",
   "name": "python3"
  },
  "language_info": {
   "codemirror_mode": {
    "name": "ipython",
    "version": 3
   },
   "file_extension": ".py",
   "mimetype": "text/x-python",
   "name": "python",
   "nbconvert_exporter": "python",
   "pygments_lexer": "ipython3",
   "version": "3.9.16"
  },
  "orig_nbformat": 4
 },
 "nbformat": 4,
 "nbformat_minor": 2
}
