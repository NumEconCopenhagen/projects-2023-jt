{
 "cells": [
  {
   "attachments": {},
   "cell_type": "markdown",
   "metadata": {},
   "source": [
    "**Table of contents**<a id='toc0_'></a>    \n",
    "- 1. [Problem 1: Optimal taxation with government consumption](#toc1_)    \n",
    "- 2. [Problem 2: Labor adjustment costs](#toc2_)    \n",
    "- 3. [Problem 3: Global optimizer with refined multi-start](#toc3_)    \n",
    "\n",
    "<!-- vscode-jupyter-toc-config\n",
    "\tnumbering=true\n",
    "\tanchor=true\n",
    "\tflat=false\n",
    "\tminLevel=2\n",
    "\tmaxLevel=6\n",
    "\t/vscode-jupyter-toc-config -->\n",
    "<!-- THIS CELL WILL BE REPLACED ON TOC UPDATE. DO NOT WRITE YOUR TEXT IN THIS CELL -->"
   ]
  },
  {
   "cell_type": "code",
   "execution_count": 1,
   "metadata": {},
   "outputs": [],
   "source": [
    "# write your code here\n",
    "import numpy as np\n",
    "import sympy as sm\n",
    "from matplotlib import pyplot as plt\n",
    "from types import SimpleNamespace\n",
    "from scipy import optimize\n",
    "from scipy import linalg\n",
    "import ipywidgets as widgets\n",
    "import math\n",
    "from scipy.optimize import minimize_scalar"
   ]
  },
  {
   "attachments": {},
   "cell_type": "markdown",
   "metadata": {},
   "source": [
    "## 1. <a id='toc1_'></a>[Problem 1: Optimal taxation with government consumption](#toc0_)"
   ]
  },
  {
   "attachments": {},
   "cell_type": "markdown",
   "metadata": {},
   "source": [
    "\n",
    "Consider a worker choosing hours of labor, $L\\in[0,24]$, to maximize utility: \n",
    "\n",
    "$$\n",
    "\\begin{align*}\n",
    "V(w,\\tau,G)&=\\max_{L\\in[0,24]}\\ln\\left(C^{\\alpha}G^{1-\\alpha}\\right)-\\nu\\frac{L^{2}}{2}\\\\&\\text{s.t.}\\\\&C=\\kappa+(1-\\tau)wL\n",
    "\\end{align*}\n",
    "$$\n",
    "\n",
    "where \n",
    "\n",
    "* $C$ is *private* consumption with weight $\\alpha\\in(0,1)$.\n",
    "* $\\kappa > 0$ is the *free private* consumption component.\n",
    "* $ (1-\\tau)wL$ is the *costly private* consumption component.\n",
    "* $w > 0 $ is the real wage.\n",
    "* $\\tau \\in (0,1)$ is the labor-income tax rate.\n",
    "* $G > 0 $ is *government* consumption with weight $1-\\alpha$.\n",
    "* $\\nu > 0$ is the disutility of labor scaling factor"
   ]
  },
  {
   "attachments": {},
   "cell_type": "markdown",
   "metadata": {},
   "source": [
    "\n",
    "The baseline parameters are:\n",
    "\n",
    "$$\n",
    "\\begin{align*}\n",
    "\\alpha &= 0.5\\\\\n",
    "\\kappa &= 1.0\\\\\n",
    "\\nu &= \\frac{1}{2\\cdot16^2} \\\\\n",
    "w &= 1.0 \\\\ \n",
    "\\tau &= 0.30 \\\\\n",
    "\\end{align*}\n",
    "$$"
   ]
  },
  {
   "attachments": {},
   "cell_type": "markdown",
   "metadata": {},
   "source": [
    "**Question 1:** Verify that the optimal labor supply choice is $L^{\\star}(\\tilde{w}) =\\frac{-\\kappa+\\sqrt{\\kappa^{2}+4\\frac{\\alpha}{\\nu}\\tilde{w}^2}}{2\\tilde{w}}$, where $\\tilde{w} = (1-\\tau)w$, for $G\\in\\left\\{1.0 , 2.0\\right\\}$."
   ]
  },
  {
   "cell_type": "code",
   "execution_count": null,
   "metadata": {},
   "outputs": [],
   "source": [
    "'''\n",
    "How we are going to solve the problem:\n",
    "\n",
    "1. Define the full maximization problem.\n",
    "2. Substitute for $\\\\tilde{\\omega}$ and C\n",
    "3. Calculate the first derivative wrt. L\n",
    "4. Set the first derivative equal to 0 and calculate for L. '''\n",
    "\n",
    "# We deifne our parameters\n",
    "alpha = sm.symbols('alpha')\n",
    "kappa = sm.symbols('kappa')\n",
    "nu = sm.symbols('nu')\n",
    "w = sm.symbols('omega')\n",
    "tau = sm.symbols('tau')\n",
    "w_tilde = sm.symbols('w_tilde')\n",
    "L = sm.symbols('L')\n",
    "G = sm.symbols('G')\n",
    "   \n",
    "   # Step 1 and 2: \n",
    "#We do the substitution for w_tilde = (1-tau)*w = W\n",
    "C = kappa + w_tilde * L\n",
    "\n",
    "# We define our utility function\n",
    "V = sm.log(C**alpha * G**(1-alpha)) - nu*(L**2 / 2)\n",
    "\n",
    "    # Step 3:\n",
    "# We find the first derivative of the utility function\n",
    "V_diff = sm.diff(V, L)\n",
    "\n",
    "    # Step 4: \n",
    "# We put it equal to zero and solve for L\n",
    "\n",
    "L_star = sm.solve(V_diff, L)\n",
    "\n",
    "# We choose the positive solution\n",
    "opt = L_star[1]\n",
    "opt\n",
    "\n"
   ]
  },
  {
   "attachments": {},
   "cell_type": "markdown",
   "metadata": {},
   "source": [
    "This result is the same as the given result, that we were asked to verify, the result can be even further simplified to look like L^* = $\\frac{-\\kappa + \\sqrt{ \\kappa + 4\\frac{\\alpha}{\\nu} \\tilde{w}}}{2 \\tilde{w}}$. \n",
    "\n",
    "Due to G not being a part of the function, it will not affect the result and thus the result will stay the same for all values of $G\\in\\left\\{1.0 , 2.0\\right\\}$"
   ]
  },
  {
   "attachments": {},
   "cell_type": "markdown",
   "metadata": {},
   "source": [
    "...."
   ]
  },
  {
   "attachments": {},
   "cell_type": "markdown",
   "metadata": {},
   "source": [
    "**Question 2:** Illustrate how $L^{\\star}(\\tilde{w})$ depends on $w$."
   ]
  },
  {
   "cell_type": "code",
   "execution_count": null,
   "metadata": {},
   "outputs": [],
   "source": [
    "\n",
    "# We define our baseline parameters \n",
    "alpha_val = 0.5\n",
    "kappa_val = 1.0\n",
    "nu_val = 1 / (2 * 16**2)\n",
    "tau_val = 0.30\n",
    "G_val = 1\n",
    "\n",
    "# we create a linspace for the wage values, tha twe are going to iterate over. \n",
    "w_values = np.linspace(0.05, 10.0, 1000)\n",
    "  \n",
    "L_values = [opt.subs([ (alpha, alpha_val),          # We substitute the values in the expression for our parameters. \n",
    "                        (kappa, kappa_val),\n",
    "                        (nu, nu_val),\n",
    "                        (tau, tau_val),\n",
    "                        (G, G_val),\n",
    "                        (w_tilde, w_val),])\n",
    "                        for w_val in w_values]\n",
    "\n",
    "# We plot the results\n",
    "fig = plt.figure()\n",
    "ax = fig.add_subplot(1,1,1)\n",
    "ax.plot(w_values, L_values)\n",
    "ax.set_xlabel('$w$')\n",
    "ax.set_ylabel('$L$')\n",
    "ax.set_title('Labor supply as a function of the wage')\n",
    "ax.grid(True)\n",
    "plt.show()"
   ]
  },
  {
   "attachments": {},
   "cell_type": "markdown",
   "metadata": {},
   "source": [
    "We can here see that when the real wage increases, the labour supply increases, this goes on until a certain point of which the labour supply will converge. The happens when the labour supply is at 16.\n",
    "\n",
    "\n",
    "\n",
    "\n"
   ]
  },
  {
   "attachments": {},
   "cell_type": "markdown",
   "metadata": {},
   "source": [
    "...."
   ]
  },
  {
   "attachments": {},
   "cell_type": "markdown",
   "metadata": {},
   "source": [
    "\n",
    "We now consider a government, who chooses $\\tau$ and spend all of the taxes on government consumption so:\n",
    "\n",
    "$$\n",
    "G = \\tau w L^{\\star}((1-\\tau)w)\n",
    "$$\n",
    "\n",
    "**Question 3:** Plot the implied $L$, $G$ and worker utility for a grid of $\\tau$-values.\n"
   ]
  },
  {
   "cell_type": "code",
   "execution_count": null,
   "metadata": {},
   "outputs": [],
   "source": [
    "# We define the parameters for the government spending\n",
    "tau = 0.30\n",
    "w = 1.0\n",
    "L = L_star[1]\n",
    "alpha = 0.5 \n",
    "kappa = 1.0 \n",
    "nu = 1 / (2 * 16**2)\n",
    "# We define the function for the government spending\n",
    "G = tau*w*L*((1-tau)*w) \n",
    "\n",
    "# We create a linspace for tau values, that we are going to iterate over.\n",
    "tau_values = np.linspace(1e-7, 1.0, 100)\n",
    "\n",
    "def implied_values(tau) : \n",
    "    L = (-kappa + (kappa**2 + 4*(alpha / nu) * ((1-tau)*w)**2)**(1/2)) / (2*(1-tau)*w)\n",
    "    G = tau*w*L*((1-tau)*w)\n",
    "    utility = sm.log((kappa + w*L)**alpha * G**(1-alpha)) - nu*(L**2 / 2)\n",
    "    return L, G, utility\n",
    "\n",
    "# We create empty lists for the values we are going to append\n",
    "L_values = []\n",
    "G_values = []\n",
    "utility_values = []\n",
    "\n",
    "# We iterate over the tau values and append the values to the empty lists\n",
    "for tau in tau_values :\n",
    "    L, G, utility = implied_values(tau)\n",
    "    L_values.append(L)\n",
    "    G_values.append(G)\n",
    "    utility_values.append(utility)\n",
    "\n",
    "# We plot the results\n",
    "fig = plt.figure()\n",
    "ax = fig.add_subplot(1,1,1)\n",
    "ax.plot(tau_values, L_values, label = 'Labor supply')\n",
    "ax.plot(tau_values, G_values, label = 'Government spending')\n",
    "ax.plot(tau_values, utility_values, label = 'Utility')\n",
    "ax.set_xlabel('$\\\\tau$')\n",
    "ax.set_ylabel('$L, G, U$')\n",
    "ax.set_title('Labor supply, government spending and utility as a function of $\\\\tau$')\n",
    "ax.grid(True)\n",
    "ax.legend()\n",
    "plt.show()\n",
    "\n",
    "\n"
   ]
  },
  {
   "attachments": {},
   "cell_type": "markdown",
   "metadata": {},
   "source": [
    "We can see that when tau increases...\n",
    "\n",
    "the labour supply will go from being in convergence to decreasing. \n",
    "\n",
    "The utility will almost converge at a very steady state when tau is different from 0 and 1. \n",
    "\n",
    "The government spending will increase until tau = 0.5 and the decrease again."
   ]
  },
  {
   "attachments": {},
   "cell_type": "markdown",
   "metadata": {},
   "source": [
    ".... "
   ]
  },
  {
   "attachments": {},
   "cell_type": "markdown",
   "metadata": {},
   "source": [
    "**Question 4:** Find the socially optimal tax rate $\\tau^{\\star}\\in(0,1)$ maximizing worker utility. Illustrate your result."
   ]
  },
  {
   "cell_type": "code",
   "execution_count": null,
   "metadata": {},
   "outputs": [],
   "source": [
    "\n",
    "# We define the laour_utility function\n",
    "def labour_utility(tau) :\n",
    "    # We define the parameters\n",
    "    alpha = 0.5\n",
    "    kappa = 1.0\n",
    "    nu = 1 / (2 * 16**2)\n",
    "    omega = 1.0 \n",
    "    # we define the functions for G and L\n",
    "    L = (-kappa + (kappa**2 + 4*(alpha / nu) * ((1-tau)*w)**2)**(1/2)) / (2*(1-tau)*w)\n",
    "    G = tau*w*L*((1-tau)*w)\n",
    "\n",
    "    utility = np.log((kappa + w*L)**alpha * G**(1-alpha)) - nu*(L**2 / 2)\n",
    "    \n",
    "    return utility\n",
    "\n",
    "# now we set our bounds for the maximization problem\n",
    "bounds = [(0,1)]\n",
    "\n",
    "# We set the tolerance level\n",
    "tol = 1e-8\n",
    "\n",
    "# We make our guess for the optimal tau\n",
    "tau_guess = 0.5     # this value is arbitrary\n",
    "\n",
    "# We run the optimization problem\n",
    "optimal_tau = optimize.minimize( lambda tau: -labour_utility(tau), x0=tau_guess, bounds = bounds, tol = tol)\n",
    "\n",
    "# We get to optimal tau\n",
    "soc_opt_tau = optimal_tau.x[0]\n",
    "\n",
    "# We print the socially optimal tau\n",
    "print('the socially opytimal tax rate is', soc_opt_tau) \n",
    "\n",
    "# Now we plot the utility as a function of tau, to see how close our result is\n",
    "tau_values = np.linspace(1e-7, 1.0, 100)\n",
    "utility_values = [labour_utility(tau) for tau in tau_values]\n",
    "\n",
    "# We plot the results\n",
    "fig = plt.figure()\n",
    "ax = fig.add_subplot(1,1,1)\n",
    "ax.plot(tau_values, utility_values)\n",
    "ax.set_xlabel('$\\\\tau$')\n",
    "ax.set_ylabel('$U$')\n",
    "ax.set_title('Utility as a function of $\\\\tau$')\n",
    "ax.grid(True)\n",
    "plt.scatter(soc_opt_tau, labour_utility(soc_opt_tau), color='red', label='Optimal Tau')\n",
    "plt.show()\n",
    "\n",
    "\n",
    "\n"
   ]
  },
  {
   "attachments": {},
   "cell_type": "markdown",
   "metadata": {},
   "source": [
    "When we make our inital guess tau =0.5 we get that the socially optimal tax rate is 0.48, which is very close to our guess. "
   ]
  },
  {
   "attachments": {},
   "cell_type": "markdown",
   "metadata": {},
   "source": [
    "..."
   ]
  },
  {
   "attachments": {},
   "cell_type": "markdown",
   "metadata": {},
   "source": [
    "A more general preference formulation for the worker is:\n",
    "\n",
    "$$\n",
    "\\begin{align*}\n",
    "\\mathcal{V}(w,\\tau,G)&=\\max_{L\\in[0,24]}\\frac{\\left[ \\left( \\alpha C^{\\frac{\\sigma-1}{\\sigma}}+(1-\\alpha) G^{\\frac{\\sigma-1}{\\sigma}} \\right)^{\\frac{\\sigma}{\\sigma-1} }\\right]^{1-\\rho}-1}{1-\\rho}- \\nu\\frac{L^{1+\\varepsilon}}{1+\\varepsilon},\\,\\,\\,\\varepsilon,\\rho,\\sigma>0,\\,\\,\\,\\rho,\\sigma\\neq1\\\\&\\text{s.t.}\\\\&C=\\kappa+(1-\\tau)wL\n",
    "\\end{align*}    \n",
    "$$\n",
    "\n",
    "Optimal labor supply is now $L^{\\star}(\\tilde{w},G)$.\n",
    "\n"
   ]
  },
  {
   "attachments": {},
   "cell_type": "markdown",
   "metadata": {},
   "source": [
    "Questions 5 and 6 must be answered with the general formulation, and for 2 different set of parameters:\n",
    "\n",
    "- Set 1:  $\\sigma = 1.001$, $\\rho = 1.001$ and $\\varepsilon = 1.0$.\n",
    "- Set 2:  $\\sigma = 1.5$, $\\rho = 1.5$ and $\\varepsilon = 1.0 $.\n",
    "\n"
   ]
  },
  {
   "attachments": {},
   "cell_type": "markdown",
   "metadata": {},
   "source": [
    "**Question 5:** Find the $G$ that solves $G = \\tau w L^{\\star}((1-\\tau)w,G)$ using the $\\tau$ found in question 4.\n",
    "\n",
    "*Hint: First write code that solves the worker problem for given values of $G$ and $\\tau$. Then find the correct G based on this.*"
   ]
  },
  {
   "cell_type": "code",
   "execution_count": null,
   "metadata": {},
   "outputs": [],
   "source": [
    "# we start by defining the new utility function\n",
    "def utility_function(L, alpha, kappa, nu, w, tau, G, sigma, rho, epsilon):\n",
    "    C = kappa + (1 - tau) * w * L\n",
    "    utility = (((alpha * C**((sigma-1)/sigma) + (1 - alpha) * G**((sigma-1)/sigma))**(sigma/(sigma-1)))**(1-rho) - 1)/(1-rho) - nu * (L**(1+epsilon))/(1+epsilon)\n",
    "    return utility\n",
    "\n",
    "# we define the workers problem\n",
    "def optimize_worker_problem(alpha, kappa, nu, w, tau, G, sigma, rho, epsilon):\n",
    "    objective_func = lambda L: -utility_function(L, alpha, kappa, nu, w, tau, G, sigma, rho, epsilon)\n",
    "    bounds = (0, 24)  # Constraint: L in [0, 24]\n",
    "    result = minimize_scalar(objective_func, bounds=bounds, method='bounded')\n",
    "    optimal_L = result.x\n",
    "    return optimal_L\n",
    "\n",
    "# We define the problem of finding the optimal G, \n",
    "# we do this by updating the guess for G until we reach convergence\n",
    "def solve_for_G(tau, alpha, kappa, nu, w, sigma, rho, epsilon):\n",
    "    G = 0.0  # Initial guess for G\n",
    "    error_tol = 1e-6        # Error tolerance, this is the tolerance for the convergence \n",
    "    max_iter = 1000         # Maximum number of iterations\n",
    "    iter_count = 0          # Initialize iteration counter\n",
    "    error = float('inf')    # Initialize error to a large value\n",
    "\n",
    "    # We iterate until we reach convergence or hit the maximum number of iterations\n",
    "    while error > error_tol and iter_count < max_iter:\n",
    "        iter_count += 1\n",
    "        optimal_L = optimize_worker_problem(alpha, kappa, nu, w, tau, G, sigma, rho, epsilon)\n",
    "        updated_G = tau * w * optimal_L * ((1 - tau) * w)   # we calculate the new guess for G\n",
    "        error = abs(G - updated_G)                          # we calculate the error\n",
    "        G = updated_G                                       # we update the guess for G\n",
    "\n",
    "    return G\n",
    "\n",
    "# We set the parameters \n",
    "    # first the general parameters\n",
    "alpha = 0.5\n",
    "kappa = 1.0\n",
    "nu = 1 / (2 * 16**2)\n",
    "w = 1.0\n",
    "tau = 0.48\n",
    "G = 0.0  # Initial guess for G\n",
    "\n",
    "    # now we set the parameters for the two different sets\n",
    "# Set 1 parameters\n",
    "sigma_set1 = 1.001\n",
    "rho_set1 = 1.001\n",
    "epsilon_set1 = 1.0\n",
    "\n",
    "# Set 2 parameters\n",
    "sigma_set2 = 1.5\n",
    "rho_set2 = 1.5\n",
    "epsilon_set2 = 1.0\n",
    "\n",
    "# Optimize the worker problem for Set 1\n",
    "L_star_set1 = optimize_worker_problem(alpha, kappa, nu, w, tau, G, sigma_set1, rho_set1, epsilon_set1)\n",
    "\n",
    "# Optimize the worker problem for Set 2\n",
    "L_star_set2 = optimize_worker_problem(alpha, kappa, nu, w, tau, G, sigma_set2, rho_set2, epsilon_set2)\n",
    "\n",
    "# We now find the G that solves G = tau * w * L\n",
    "G_set1 = solve_for_G(tau, alpha, kappa, nu, w, sigma_set1, rho_set1, epsilon_set1)\n",
    "G_set2 = solve_for_G(tau, alpha, kappa, nu, w, sigma_set2, rho_set2, epsilon_set2)\n",
    "\n",
    "print('Set 1:')\n",
    "print('The optimal value of L is:', L_star_set1)\n",
    "print('The value of G that solves G = tau * w * L* is:', G_set1)\n",
    "print()\n",
    "print('Set 2:')\n",
    "print('The optimal value of L is:', L_star_set2)\n",
    "print('The value of G that solves G = tau * w * L* is:', G_set2)\n"
   ]
  },
  {
   "attachments": {},
   "cell_type": "markdown",
   "metadata": {},
   "source": [
    "...."
   ]
  },
  {
   "attachments": {},
   "cell_type": "markdown",
   "metadata": {},
   "source": [
    "**Question 6:** Find the socially optimal tax rate, $\\tau^{\\star}$, maximizing worker utility, while keeping $G = \\tau w L^{\\star}((1-\\tau)w,G)$."
   ]
  },
  {
   "cell_type": "code",
   "execution_count": null,
   "metadata": {},
   "outputs": [],
   "source": [
    "# write your code here  "
   ]
  },
  {
   "attachments": {},
   "cell_type": "markdown",
   "metadata": {},
   "source": [
    "## 2. <a id='toc2_'></a>[Problem 2: Labor adjustment costs](#toc0_)"
   ]
  },
  {
   "attachments": {},
   "cell_type": "markdown",
   "metadata": {},
   "source": [
    "You own a hair salon. You employ hairdressers, $\\ell_t$, to produce haircuts, $y_t = \\ell_t$.\n",
    "\n",
    "The wage for each haridresser is $w$.\n",
    "\n",
    "The demand for haircuts implies that the price of haircuts you can charge is $p_t = \\kappa_t y_t^{-\\eta}$, where $\\kappa_t$ is a demand-shock and $\\eta \\in (0,1)$ measures the elasticity of demand.\n",
    "\n",
    "Profits are:\n",
    "\n",
    "$$\n",
    "\\Pi_t = p_t y_t - w \\ell_t = \\kappa_t \\ell_t^{1-\\eta} - w \\ell_t\n",
    "$$"
   ]
  },
  {
   "attachments": {},
   "cell_type": "markdown",
   "metadata": {},
   "source": [
    "Baseline parameters are:\n",
    "- $\\eta = 0.5$\n",
    "- $w = 1.0$"
   ]
  },
  {
   "attachments": {},
   "cell_type": "markdown",
   "metadata": {},
   "source": [
    "**Question 1:** Verify numerically that $\\ell_{t}=\\left(\\frac{(1-\\eta)\\kappa_{t}}{w}\\right)^{\\frac{1}{\\eta}}$ maximises profits, for $\\kappa\\in\\left\\{1.0 , 2.0\\right\\}$."
   ]
  },
  {
   "cell_type": "code",
   "execution_count": null,
   "metadata": {},
   "outputs": [],
   "source": [
    "# write your code here"
   ]
  },
  {
   "attachments": {},
   "cell_type": "markdown",
   "metadata": {},
   "source": [
    "We now consider a *dynamic* version of the model.\n",
    "\n",
    "* The demand-shock is a so-called AR(1) in logs, \n",
    "\n",
    "$$\n",
    "\\log \\kappa_{t} = \\rho \\log \\kappa_{t-1} + \\epsilon_{t},\\,\\,\\, \\epsilon_{t+1} \\sim \\mathcal{N}(-0.5\\sigma_{\\epsilon}^2,\\sigma_{\\epsilon})\n",
    "$$\n",
    "\n",
    "* Any hiring or firing implies a fixed adjustment cost, $\\iota > 0 $.\n",
    "* Future profits are discounted with a monthly factor of $R \\in (0,1)$.\n",
    "\n",
    "The initial demand shock is $\\kappa_{-1} = 1$ and the planning horizon is 10 years, i.e. 120 months so $t \\in \\{0,1,2,\\dots,119\\}$. Initially you don't have any employees, $\\ell_{-1}=0$"
   ]
  },
  {
   "attachments": {},
   "cell_type": "markdown",
   "metadata": {},
   "source": [
    "\n",
    "The *ex post* value of the salon is *conditional* on the shock series is:\n",
    "\n",
    "$$\n",
    "h(\\epsilon_0,\\epsilon_1,\\dots,\\epsilon_{119}) = \\left[\\sum_{t=0}^{119}R^{-t}\\left[\\kappa_{t}\\ell_{t}^{1-\\eta}-w\\ell_{t}-\\boldsymbol{1}_{\\ell_{t}\\neq\\ell_{t-1}}\\iota\\right]\\right]\n",
    "$$\n",
    "\n",
    "The *ex ante* expected value of the salon can be approximated by\n",
    "\n",
    "$$\n",
    "H = \\mathbb{E}[h(\\epsilon_0,\\epsilon_1,\\dots,\\epsilon_{119})] \\approx \\frac{1}{K}\\sum_{k=0}^{K-1} h(\\epsilon_0^k,\\epsilon_1^k,\\dots,\\epsilon_{119}^k)\n",
    "$$\n",
    "\n",
    "where each $k\\in\\{0,1,\\dots,K-1\\}$ is a random shock series. Maximizing profitability means maximizing $H$.\n"
   ]
  },
  {
   "attachments": {},
   "cell_type": "markdown",
   "metadata": {},
   "source": [
    "Baseline parameters are: \n",
    "\n",
    "- $\\rho = 0.90$\n",
    "- $\\iota = 0.01$\n",
    "- $\\sigma_{\\epsilon} = 0.10$\n",
    "- $R = \\left(1+0.01\\right)^{1/12}$"
   ]
  },
  {
   "attachments": {},
   "cell_type": "markdown",
   "metadata": {},
   "source": [
    "**Question 2:** Calculate $H$ if the policy  $\\ell_{t}=\\left(\\frac{(1-\\eta)\\kappa_{t}}{w}\\right)^{\\frac{1}{\\eta}}$ from question 1 is followed. Choose $K$ so the approximation is good enough to not affect your results substantially."
   ]
  },
  {
   "cell_type": "code",
   "execution_count": null,
   "metadata": {},
   "outputs": [],
   "source": [
    "# write your code here "
   ]
  },
  {
   "attachments": {},
   "cell_type": "markdown",
   "metadata": {},
   "source": [
    "Next, we consider policies on the form:\n",
    "\n",
    "$$\n",
    "\n",
    "\\ell_{t}=\\begin{cases}\n",
    "\\ell_t^{\\ast}  & \\text{if }\\left|\\ell_{t-1}-\\ell_t^{\\ast} \\right|>\\Delta\\\\\n",
    "\\ell_{t-1} & \\text{else }\n",
    "\\end{cases}\n",
    "\\\\\n",
    "\\text{where}\\,\\,\\ell_t^{\\ast} = \\left(\\frac{(1-\\eta)\\kappa_{t}}{w}\\right)^{\\frac{1}{\\eta}} \\\\\n",
    "\n",
    "$$\n",
    "With $\\Delta \\geq 0$ and $\\Delta = 0$ being the previous policy.\n"
   ]
  },
  {
   "attachments": {},
   "cell_type": "markdown",
   "metadata": {},
   "source": [
    "\n",
    "**Question 3:** Calculate $H$ if the policy above was followed with $\\Delta = 0.05$. Does it improve profitability?"
   ]
  },
  {
   "cell_type": "code",
   "execution_count": null,
   "metadata": {},
   "outputs": [],
   "source": [
    "# write your code here"
   ]
  },
  {
   "attachments": {},
   "cell_type": "markdown",
   "metadata": {},
   "source": [
    "**Question 4:** Find the optimal $\\Delta$ maximizing $H$. Illustrate your result."
   ]
  },
  {
   "cell_type": "code",
   "execution_count": null,
   "metadata": {},
   "outputs": [],
   "source": [
    "# write your code here"
   ]
  },
  {
   "attachments": {},
   "cell_type": "markdown",
   "metadata": {},
   "source": [
    "\n",
    "**Question 5:** Suggest an alternative policy you believe might improve profitability. Implement and test your policy.\n",
    "\n"
   ]
  },
  {
   "cell_type": "code",
   "execution_count": null,
   "metadata": {},
   "outputs": [],
   "source": [
    "# write your code here"
   ]
  },
  {
   "attachments": {},
   "cell_type": "markdown",
   "metadata": {},
   "source": [
    "## 3. <a id='toc3_'></a>[Problem 3: Global optimizer with refined multi-start](#toc0_)"
   ]
  },
  {
   "attachments": {},
   "cell_type": "markdown",
   "metadata": {},
   "source": [
    "We consider the Griewank function:\n",
    "\n",
    "$$ f(\\boldsymbol{x}) = \\sum^n_{i=1} \\frac{x^2_i}{4000}-\\prod^n_{i=1}\\cos\\left(\\frac{x_i}{\\sqrt{i}}\\right)+1$$\n",
    "\n",
    "The **global minimum** of this function is $f(0,0) = 0$ (remember: $\\cos(0)=1$).<br>\n",
    "But the function also have a lot of **local minima**."
   ]
  },
  {
   "cell_type": "code",
   "execution_count": 2,
   "metadata": {},
   "outputs": [],
   "source": [
    "def griewank(x):\n",
    "    return griewank_(x[0],x[1])\n",
    "    \n",
    "def griewank_(x1,x2):\n",
    "    A = x1**2/4000 + x2**2/4000\n",
    "    B = np.cos(x1/np.sqrt(1))*np.cos(x2/np.sqrt(2))\n",
    "    return A-B+1"
   ]
  },
  {
   "attachments": {},
   "cell_type": "markdown",
   "metadata": {},
   "source": [
    "A **refined global optimizer with multi-start** is:\n",
    "\n",
    "1. Choose *bounds* for $\\mathbf{x}$ and *tolerance* $\\tau > 0$.\n",
    "2. Choose number of *warm-up iterations*, $\\underline{K} > 0$ and *maximum number of iterations*, $K > \\underline{K}$.\n",
    "3. In each iteration for $k \\in \\{0,1,\\dots,K-1\\}$:\n",
    "\n",
    "    A. Draw random $\\mathbf{x}^k$ uniformly within chosen bounds.\n",
    "\n",
    "    B. If $k < \\underline{K}$ go to step E.\n",
    "\n",
    "    C. Calculate $\\chi^k = 0.50\\cdot\\frac{2}{1+\\exp((k-\\underline{K})/100)}$  \n",
    "\n",
    "    D. Set $\\mathbf{x}^{k0} = \\chi^k \\mathbf{x}^k + (1-\\chi^k)\\mathbf{x}^{\\ast} $\n",
    "\n",
    "    E. Run optimizer with $\\mathbf{x}^{k0}$ as initial guess and $\\mathbf{x}^{k\\ast}$ as result.\n",
    "\n",
    "    F. Set $\\mathbf{x}^{\\ast} = \\mathbf{x}^{k\\ast}$ if $k = 0$ or $f(\\mathbf{x}^{k\\ast}) < f(\\mathbf{x}^{\\ast})$\n",
    "\n",
    "    G. If $f(\\mathbf{x}^{\\ast}) < \\tau$ go to step 4.\n",
    "\n",
    "4. Return the result $\\mathbf{x}^{\\ast}$."
   ]
  },
  {
   "attachments": {},
   "cell_type": "markdown",
   "metadata": {},
   "source": [
    "As settings we choose:\n",
    "\n",
    "* $x_1,x_2 \\in  [-600,600]$\n",
    "* $\\tau = 10^{-8}$\n",
    "* $\\underline{K}=10$\n",
    "* $K=1000$\n",
    "\n",
    "The optimizer in Step 3.E is `BFGS` with a tolerance of $\\tau$."
   ]
  },
  {
   "attachments": {},
   "cell_type": "markdown",
   "metadata": {},
   "source": [
    "**Question 1:** Implement the refined global optimizer with multi-start. Illustrate how the effective initial guesses $\\mathbf{x}^{k0}$ vary with the iteration counter $k$."
   ]
  },
  {
   "cell_type": "code",
   "execution_count": 3,
   "metadata": {},
   "outputs": [
    {
     "name": "stdout",
     "output_type": "stream",
     "text": [
      "The solution is  [-6.28004473 26.63066525]\n",
      "the value of the function at the solution is  0.18734006976284345\n"
     ]
    },
    {
     "data": {
      "image/png": "[encoded data removed]",
      "text/plain": [
       "<Figure size 640x480 with 2 Axes>"
      ]
     },
     "metadata": {},
     "output_type": "display_data"
    }
   ],
   "source": [
    "\n",
    "# We set a seed for our randomization\n",
    "np.random.seed(67)\n",
    "\n",
    "\n",
    "# We set the parameters\n",
    "    # 1. We set the bounds for x1 and x2\n",
    "bounds = [-600,600] \n",
    "# and the tolerance for tau \n",
    "tau = 1e-8\n",
    "    # 2. We set the number of warmup iterations\n",
    "K_warmup = 10\n",
    "    # and the maximum number of iterations\n",
    "K_max = 1000\n",
    "\n",
    "# 3. Create the optimizer\n",
    "\n",
    "def global_optimizer (bounds, tau, K_warmup, K_max):\n",
    "    x_star = None\n",
    "    f_best = np.inf\n",
    "\n",
    "    # We cresa a list to store the results\n",
    "    x_list = []\n",
    "   \n",
    "    for k in range(K_max) : \n",
    "    \n",
    "        #3.a We draw a random point from the uniform distribution, this will be our starting point (initial guess)\n",
    "        x_k = np.random.uniform(bounds[0], bounds[1], size=2)\n",
    "        \n",
    "        #3.b We evaluate the function at the point\n",
    "        if k >= K_warmup :\n",
    "        \n",
    "            #3.c We calculate chi^k\n",
    "            chi_k = 0.50 * (2/ (1+np.exp((k - K_warmup)/100)))\n",
    "            #3.d We set x_k0\n",
    "            x_k0 = chi_k * x_k + (1-chi_k) * x_star\n",
    "            x_list.append(x_k0)\n",
    "\n",
    "        #3.e We run the optimizer to get our result x^(k*) \n",
    "        result = optimize.minimize(griewank, x_k, method='BFGS', tol=tau)\n",
    "        x_opt = result.x\n",
    "        f_opt = result.fun\n",
    "    \n",
    "        #3.f We update x_star if the result is better\n",
    "        if k == 0 or f_opt < f_best :\n",
    "            x_star = x_opt\n",
    "            f_best = f_opt\n",
    "        \n",
    "        #3.g We evaluate the function of x_star\n",
    "        if f_opt < tau:\n",
    "            break\n",
    "\n",
    "    #4. We return the result\n",
    "    return x_star, x_list \n",
    "\n",
    "\n",
    "# 5. We run the optimizer\n",
    "best_solution , x_list = global_optimizer(bounds, tau, K_warmup, K_max)\n",
    "\n",
    "\n",
    "print('The solution is ', best_solution)\n",
    "print('the value of the function at the solution is ', griewank(best_solution))\n",
    "\n",
    "# we will now illustrate the results\n",
    "# 6. We create a list with the values of x1 and x2 at each iteration\n",
    "x_array = np.array(x_list)\n",
    "x1_list = x_array[:,0]\n",
    "x2_list = x_array[:,1]\n",
    "\n",
    "# 7. We create a list with the iteration numbers\n",
    "k_list = range(K_warmup,K_max)\n",
    "\n",
    "# 8. We plot the results\n",
    "plt.scatter(x1_list,x2_list, c=k_list, cmap='viridis')\n",
    "plt.colorbar(label = 'Iteration number')\n",
    "plt.xlabel('Iteration number')\n",
    "plt.ylabel('Value of the function')\n",
    "plt.title('Convergence of the optimizer')\n",
    "plt.scatter(best_solution[0],best_solution[1], c='red', marker='x', s=100, label='Best solution')\n",
    "plt.show()\n",
    "\n",
    "\n"
   ]
  },
  {
   "attachments": {},
   "cell_type": "markdown",
   "metadata": {},
   "source": [
    "With the seed set at 67, we kan see that the global minimum falls within the area that most of the guesses are at, this means that the guesses converges close to the global minimum. \n",
    "\n",
    "Having tries other seeds, we know that this is not always the case. \n",
    "\n",
    "...."
   ]
  },
  {
   "attachments": {},
   "cell_type": "markdown",
   "metadata": {},
   "source": [
    "**Question 2:** Is it a better idea to set $\\underline{K} = 100$? Is the convergence faster?"
   ]
  },
  {
   "cell_type": "code",
   "execution_count": 8,
   "metadata": {},
   "outputs": [
    {
     "name": "stdout",
     "output_type": "stream",
     "text": [
      "Execution time for K_warmup = 10: 2.261553582999994 seconds\n",
      "Execution time for K_warmup = 100: 2.101261958000009 seconds\n"
     ]
    }
   ],
   "source": [
    "# We impoprt a timer to measure the time it takes for the optimizers to run\n",
    "import timeit \n",
    "\n",
    "# We set the new warmup and max iterations\n",
    "K2_warmup = 100\n",
    "K2_max = 1000\n",
    "\n",
    "# We run the optimizer\n",
    "best_solution2 , x_list2 = global_optimizer(bounds, tau, K2_warmup, K2_max)\n",
    "\n",
    "# Measure the execution time for optimizer with K_warmup = 10 and K_max = 1000\n",
    "time_1 = timeit.timeit(lambda: global_optimizer(bounds, tau, K_warmup, K2_max), number=1)\n",
    "\n",
    "# Measure the execution time for optimizer with K_warmup = 100 K_max = 1000\n",
    "time_2 = timeit.timeit(lambda: global_optimizer(bounds, tau, K2_warmup, K2_max), number=1)\n",
    "\n",
    "# Print the execution times\n",
    "print(\"Execution time for K_warmup = 10:\", time_1, \"seconds\")\n",
    "print(\"Execution time for K_warmup = 100:\", time_2, \"seconds\")\n",
    "\n"
   ]
  },
  {
   "attachments": {},
   "cell_type": "markdown",
   "metadata": {},
   "source": []
  }
 ],
 "metadata": {
  "kernelspec": {
   "display_name": "base",
   "language": "python",
   "name": "python3"
  },
  "language_info": {
   "codemirror_mode": {
    "name": "ipython",
    "version": 3
   },
   "file_extension": ".py",
   "mimetype": "text/x-python",
   "name": "python",
   "nbconvert_exporter": "python",
   "pygments_lexer": "ipython3",
   "version": "3.9.13"
  },
  "orig_nbformat": 4,
  "vscode": {
   "interpreter": {
    "hash": "e4dc7e57357fb9946664ec6bf4aceec1850953e91c14f176c35e505538dfecf0"
   }
  }
 },
 "nbformat": 4,
 "nbformat_minor": 2
}
