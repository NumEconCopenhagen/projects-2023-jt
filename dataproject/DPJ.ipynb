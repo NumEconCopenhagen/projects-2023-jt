{
 "cells": [
  {
   "attachments": {},
   "cell_type": "markdown",
   "metadata": {},
   "source": [
    "# Data Analysis Project - GDP & Population"
   ]
  },
  {
   "attachments": {},
   "cell_type": "markdown",
   "metadata": {},
   "source": [
    "This dataproject will analyse how the GDP per capita (*chained linked volumes*) has changed over the years (2012-2022) for the european countries. \n",
    "\n",
    "For this project we will use data from Eurostat, we will acces the data dirctly form Eurostat and thus it will be nessesary to install the eurostat extension *(See below)* .\n",
    "We will use data from two datasets, nama_10_gdp and DEMO_PJAN. \n",
    "\n",
    "We will use two different methods to access and clean the data, firstly we will acces the full dataset of \"nama_10_gdp\" and then manually clean it and delete the parts that we do not need. Secondly, with the dataset \"DEMO_PJAN\" we will only access the parts of the dataset that we need, this is done filtering the dataset, such that we only access the data that we need. \n",
    "\n",
    "After accessing and cleaning both datasets, we will combine the two and make some calculations ond vizualisations of the data. "
   ]
  },
  {
   "cell_type": "code",
   "execution_count": null,
   "metadata": {},
   "outputs": [],
   "source": [
    "import pandas as pd\n",
    "import numpy as np\n",
    "import matplotlib.pyplot as plt\n",
    "import ipywidgets as widgets\n",
    "from matplotlib_venn import venn2\n",
    "\n",
    "# autoreload modules when code is run\n",
    "%load_ext autoreload\n",
    "%autoreload 2\n",
    "\n",
    "# For this projekt we are going to use the eurostat module, and therefore you will need to run this line of code if you havent installed it yet. If the eurostat module is already installed, you can add a # in front of the next line.\n",
    "%pip install eurostat\n",
    "# user written modules\n",
    "import dataproject as dp"
   ]
  },
  {
   "attachments": {},
   "cell_type": "markdown",
   "metadata": {},
   "source": [
    "## Definitions"
   ]
  },
  {
   "attachments": {},
   "cell_type": "markdown",
   "metadata": {},
   "source": [
    "**GDP :**  Gross Domestic Product \n",
    "\n",
    "**Chained Linked Volumes :**\n",
    "\n",
    "**Population :** The population is calculated as the total population, this mean that it is all people who is registered a citizen in a country. This value is measured January 1st of the year in question. $^*$ \n",
    "\n",
    "\n",
    "$^*$ Definition from Eurostat on the metadata within the DEMO_PJAN-dataset used."
   ]
  },
  {
   "cell_type": "code",
   "execution_count": null,
   "metadata": {},
   "outputs": [],
   "source": []
  }
 ],
 "metadata": {
  "kernelspec": {
   "display_name": "base",
   "language": "python",
   "name": "python3"
  },
  "language_info": {
   "codemirror_mode": {
    "name": "ipython",
    "version": 3
   },
   "file_extension": ".py",
   "mimetype": "text/x-python",
   "name": "python",
   "nbconvert_exporter": "python",
   "pygments_lexer": "ipython3",
   "version": "3.9.16"
  },
  "toc-autonumbering": true,
  "vscode": {
   "interpreter": {
    "hash": "47ef90cdf3004d3f859f1fb202523c65c07ba7c22eefd261b181f4744e2d0403"
   }
  }
 },
 "nbformat": 4,
 "nbformat_minor": 4
}
