{
 "cells": [
  {
   "attachments": {},
   "cell_type": "markdown",
   "metadata": {},
   "source": [
    "# Data Analysis Project - GDP & Population"
   ]
  },
  {
   "attachments": {},
   "cell_type": "markdown",
   "metadata": {},
   "source": [
    "This dataproject will analyse how the GDP per capita (*chained linked volumes*) has changed over the years (2012-2022) for the european countries. The countries include countries that are currently in the EU, that has previously been in the EU or countries aplying to become a memeber of the EU. \n",
    "\n",
    "For this project we will use data from Eurostat, we will acces the data dirctly form Eurostat and thus it will be nessesary to install the eurostat extension *(See below)* .\n",
    "We will use data from two datasets, nama_10_gdp and DEMO_PJAN. \n",
    "\n",
    "We will use two different methods to access and clean the data, firstly we will acces the full dataset of \"nama_10_gdp\" and then manually clean it and delete the parts that we do not need. Secondly, with the dataset \"DEMO_PJAN\" we will only access the parts of the dataset that we need, this is done filtering the dataset, such that we only access the data that we need. \n",
    "\n",
    "After accessing and cleaning both datasets, we will combine the two and make some calculations ond vizualisations of the data. "
   ]
  },
  {
   "cell_type": "code",
   "execution_count": 18,
   "metadata": {},
   "outputs": [
    {
     "name": "stdout",
     "output_type": "stream",
     "text": [
      "The autoreload extension is already loaded. To reload it, use:\n",
      "  %reload_ext autoreload\n"
     ]
    }
   ],
   "source": [
    "import pandas as pd\n",
    "import numpy as np\n",
    "import matplotlib.pyplot as plt\n",
    "import ipywidgets as widgets\n",
    "from matplotlib_venn import venn2\n",
    "import plotly.express as px\n",
    "\n",
    "# autoreload modules when code is run\n",
    "%load_ext autoreload\n",
    "%autoreload 2\n",
    "\n",
    "# For this projekt we are going to use the eurostat module, and therefore you will need to run this line of code if you havent installed it yet. If the eurostat module is already installed, you can add a # in front of the next line.\n",
    "##%pip install eurostat\n",
    "\n",
    "# user written modules\n",
    "from DPJ import GDP_CapitaClass\n",
    "model = GDP_CapitaClass()"
   ]
  },
  {
   "attachments": {},
   "cell_type": "markdown",
   "metadata": {},
   "source": [
    "## Definitions"
   ]
  },
  {
   "attachments": {},
   "cell_type": "markdown",
   "metadata": {},
   "source": [
    "**GDP :**  Gross Domestic Product \n",
    "\n",
    "**Chained Linked Volumes :**\n",
    "\n",
    "**Population :** The population is calculated as the total population, this mean that it is all people who is registered a citizen in a country. This value is measured January 1st of the year in question. $^*$ \n",
    "\n",
    "\n",
    "$^*$ Definition from Eurostat on the metadata within the DEMO_PJAN-dataset used."
   ]
  },
  {
   "attachments": {},
   "cell_type": "markdown",
   "metadata": {},
   "source": [
    "# The first Dataset - GDP"
   ]
  },
  {
   "attachments": {},
   "cell_type": "markdown",
   "metadata": {},
   "source": [
    "We will start of by accessing the dataset (nama_10_gdp) from EuroStat.\n",
    "\n",
    "With this dataset, we are accessing the full dataset, which we will then clean up.\n",
    "\n",
    "We choose which rows *('unit' and 'na_items')* we want to see. For this we have chosen to see the Gross Domestic Product in Chained linked volumes (205), million euro."
   ]
  },
  {
   "cell_type": "code",
   "execution_count": null,
   "metadata": {},
   "outputs": [],
   "source": [
    "\n",
    "# If you want to see the data before we do anything with it\n",
    "# you can run the code below.\n",
    "\n",
    "## model.Get_GDP() \n"
   ]
  },
  {
   "attachments": {},
   "cell_type": "markdown",
   "metadata": {},
   "source": [
    "We will now clean up det dataset:\n",
    "\n",
    "1.  We remove the columns freq, unit, na_items, and the years 1975-2011.\n",
    "\n",
    "2. We rename the column geo/Time_Period to Country_code. \n",
    "\n",
    "3. We remove the aggregate values in our dataset, as we are only interested in the specific countries. \n",
    "\n",
    "4.  We reset the index."
   ]
  },
  {
   "cell_type": "code",
   "execution_count": null,
   "metadata": {},
   "outputs": [],
   "source": [
    "# The code below will show you the cleaned data\n",
    "## model.Clean_GDP()"
   ]
  },
  {
   "attachments": {},
   "cell_type": "markdown",
   "metadata": {},
   "source": [
    "# The second dataset - Population"
   ]
  },
  {
   "attachments": {},
   "cell_type": "markdown",
   "metadata": {},
   "source": [
    "We will now access the dataset (DEMO_PJAN) from Eurostat.\n",
    "\n",
    "With this dataset, we will filter it directly form Eurostat, meaning that we will only access the data we need:\n",
    "\n",
    "&nbsp;&nbsp;&nbsp;&nbsp;&nbsp;&nbsp; * Startperiod : 2012\n",
    "\n",
    "&nbsp;&nbsp;&nbsp;&nbsp;&nbsp;&nbsp; * Endperiod : 2022\n",
    "\n",
    "&nbsp;&nbsp;&nbsp;&nbsp;&nbsp;&nbsp; * sex : T\n",
    "\n",
    "&nbsp;&nbsp;&nbsp;&nbsp;&nbsp;&nbsp; * Age : Total\n",
    "\n",
    "This will give us the the total population for each country in the period 2012-2022"
   ]
  },
  {
   "cell_type": "code",
   "execution_count": null,
   "metadata": {},
   "outputs": [],
   "source": [
    "# The code below will show you the \"raw\" population data\n",
    "## model.Get_Population()"
   ]
  },
  {
   "attachments": {},
   "cell_type": "markdown",
   "metadata": {},
   "source": [
    "We will also do a bit of cleaning wiht this dataset: \n",
    "\n",
    "1. We will rename the column geo/Time_Period to Country_code.\n",
    "\n",
    "2. We will delete the columns 'freq', 'unit', 'age' , 'sex'"
   ]
  },
  {
   "cell_type": "code",
   "execution_count": null,
   "metadata": {},
   "outputs": [],
   "source": [
    "# The code below will show you the cleaned population data\n",
    "## model.Clean_Population(do_print=False)"
   ]
  },
  {
   "attachments": {},
   "cell_type": "markdown",
   "metadata": {},
   "source": [
    "# Merging the two datsets"
   ]
  },
  {
   "attachments": {},
   "cell_type": "markdown",
   "metadata": {},
   "source": [
    "We will now merge the two datasets. First we change the direction of the two datasets, from wide to long, to make the result of the merge look the best. \n",
    "\n",
    "Then we will merge the two datasets through an inner-merge, meaning that we will keep the observations which are in both datasets. The observation that we will do the merge for is 'Country_code' and 'year'. "
   ]
  },
  {
   "cell_type": "code",
   "execution_count": null,
   "metadata": {},
   "outputs": [],
   "source": [
    "# The code below will show you the merged data\n",
    "## model.Merge_Data()"
   ]
  },
  {
   "attachments": {},
   "cell_type": "markdown",
   "metadata": {},
   "source": [
    "We will now clean the merged data:\n",
    "1. We rename the coloumns x and y, to be GDP and Population.\n",
    "2. We drop countries that have nans for all values\n",
    "3. We reset the index\n",
    "4. We calculate the GDP per capita"
   ]
  },
  {
   "cell_type": "code",
   "execution_count": 2,
   "metadata": {},
   "outputs": [
    {
     "data": {
      "text/html": [
       "<div>\n",
       "<style scoped>\n",
       "    .dataframe tbody tr th:only-of-type {\n",
       "        vertical-align: middle;\n",
       "    }\n",
       "\n",
       "    .dataframe tbody tr th {\n",
       "        vertical-align: top;\n",
       "    }\n",
       "\n",
       "    .dataframe thead th {\n",
       "        text-align: right;\n",
       "    }\n",
       "</style>\n",
       "<table border=\"1\" class=\"dataframe\">\n",
       "  <thead>\n",
       "    <tr style=\"text-align: right;\">\n",
       "      <th></th>\n",
       "      <th>Country_code</th>\n",
       "      <th>year</th>\n",
       "      <th>unit</th>\n",
       "      <th>na_item</th>\n",
       "      <th>GDP</th>\n",
       "      <th>Population</th>\n",
       "      <th>GDP/Cap</th>\n",
       "    </tr>\n",
       "  </thead>\n",
       "  <tbody>\n",
       "    <tr>\n",
       "      <th>0</th>\n",
       "      <td>AL</td>\n",
       "      <td>2012</td>\n",
       "      <td>CLV15_MEUR</td>\n",
       "      <td>B1GQ</td>\n",
       "      <td>9768.4</td>\n",
       "      <td>2903008.0</td>\n",
       "      <td>3364.923555</td>\n",
       "    </tr>\n",
       "    <tr>\n",
       "      <th>1</th>\n",
       "      <td>AT</td>\n",
       "      <td>2012</td>\n",
       "      <td>CLV15_MEUR</td>\n",
       "      <td>B1GQ</td>\n",
       "      <td>338486.5</td>\n",
       "      <td>8408121.0</td>\n",
       "      <td>40257.091923</td>\n",
       "    </tr>\n",
       "    <tr>\n",
       "      <th>2</th>\n",
       "      <td>BA</td>\n",
       "      <td>2012</td>\n",
       "      <td>CLV15_MEUR</td>\n",
       "      <td>B1GQ</td>\n",
       "      <td>13695.8</td>\n",
       "      <td>3839265.0</td>\n",
       "      <td>3567.297386</td>\n",
       "    </tr>\n",
       "    <tr>\n",
       "      <th>3</th>\n",
       "      <td>BE</td>\n",
       "      <td>2012</td>\n",
       "      <td>CLV15_MEUR</td>\n",
       "      <td>B1GQ</td>\n",
       "      <td>400181.0</td>\n",
       "      <td>11075889.0</td>\n",
       "      <td>36130.824352</td>\n",
       "    </tr>\n",
       "    <tr>\n",
       "      <th>4</th>\n",
       "      <td>BG</td>\n",
       "      <td>2012</td>\n",
       "      <td>CLV15_MEUR</td>\n",
       "      <td>B1GQ</td>\n",
       "      <td>44117.0</td>\n",
       "      <td>7327224.0</td>\n",
       "      <td>6020.970561</td>\n",
       "    </tr>\n",
       "    <tr>\n",
       "      <th>...</th>\n",
       "      <td>...</td>\n",
       "      <td>...</td>\n",
       "      <td>...</td>\n",
       "      <td>...</td>\n",
       "      <td>...</td>\n",
       "      <td>...</td>\n",
       "      <td>...</td>\n",
       "    </tr>\n",
       "    <tr>\n",
       "      <th>410</th>\n",
       "      <td>RO</td>\n",
       "      <td>2022</td>\n",
       "      <td>CLV15_MEUR</td>\n",
       "      <td>B1GQ</td>\n",
       "      <td>209657.0</td>\n",
       "      <td>19042455.0</td>\n",
       "      <td>11009.977443</td>\n",
       "    </tr>\n",
       "    <tr>\n",
       "      <th>411</th>\n",
       "      <td>RS</td>\n",
       "      <td>2022</td>\n",
       "      <td>CLV15_MEUR</td>\n",
       "      <td>B1GQ</td>\n",
       "      <td>44802.5</td>\n",
       "      <td>6797105.0</td>\n",
       "      <td>6591.409137</td>\n",
       "    </tr>\n",
       "    <tr>\n",
       "      <th>412</th>\n",
       "      <td>SE</td>\n",
       "      <td>2022</td>\n",
       "      <td>CLV15_MEUR</td>\n",
       "      <td>B1GQ</td>\n",
       "      <td>524691.1</td>\n",
       "      <td>10452326.0</td>\n",
       "      <td>50198.501271</td>\n",
       "    </tr>\n",
       "    <tr>\n",
       "      <th>413</th>\n",
       "      <td>SI</td>\n",
       "      <td>2022</td>\n",
       "      <td>CLV15_MEUR</td>\n",
       "      <td>B1GQ</td>\n",
       "      <td>49542.2</td>\n",
       "      <td>2107180.0</td>\n",
       "      <td>23511.138109</td>\n",
       "    </tr>\n",
       "    <tr>\n",
       "      <th>414</th>\n",
       "      <td>SK</td>\n",
       "      <td>2022</td>\n",
       "      <td>CLV15_MEUR</td>\n",
       "      <td>B1GQ</td>\n",
       "      <td>92408.3</td>\n",
       "      <td>5434712.0</td>\n",
       "      <td>17003.348107</td>\n",
       "    </tr>\n",
       "  </tbody>\n",
       "</table>\n",
       "<p>396 rows × 7 columns</p>\n",
       "</div>"
      ],
      "text/plain": [
       "    Country_code  year        unit na_item       GDP  Population       GDP/Cap\n",
       "0             AL  2012  CLV15_MEUR    B1GQ    9768.4   2903008.0   3364.923555\n",
       "1             AT  2012  CLV15_MEUR    B1GQ  338486.5   8408121.0  40257.091923\n",
       "2             BA  2012  CLV15_MEUR    B1GQ   13695.8   3839265.0   3567.297386\n",
       "3             BE  2012  CLV15_MEUR    B1GQ  400181.0  11075889.0  36130.824352\n",
       "4             BG  2012  CLV15_MEUR    B1GQ   44117.0   7327224.0   6020.970561\n",
       "..           ...   ...         ...     ...       ...         ...           ...\n",
       "410           RO  2022  CLV15_MEUR    B1GQ  209657.0  19042455.0  11009.977443\n",
       "411           RS  2022  CLV15_MEUR    B1GQ   44802.5   6797105.0   6591.409137\n",
       "412           SE  2022  CLV15_MEUR    B1GQ  524691.1  10452326.0  50198.501271\n",
       "413           SI  2022  CLV15_MEUR    B1GQ   49542.2   2107180.0  23511.138109\n",
       "414           SK  2022  CLV15_MEUR    B1GQ   92408.3   5434712.0  17003.348107\n",
       "\n",
       "[396 rows x 7 columns]"
      ]
     },
     "execution_count": 2,
     "metadata": {},
     "output_type": "execute_result"
    }
   ],
   "source": [
    "# Running the below code will show you the cleaned and merged data\n",
    "model.Clean_merge()"
   ]
  },
  {
   "attachments": {},
   "cell_type": "markdown",
   "metadata": {},
   "source": [
    "# Adding the third data set"
   ]
  },
  {
   "attachments": {},
   "cell_type": "markdown",
   "metadata": {},
   "source": [
    "We will now add a third dataset, which shows the country code, the country name and the iso-3 code for each country. This dataset is stored in a .xlsx file under the name C_name_ISO3."
   ]
  },
  {
   "cell_type": "code",
   "execution_count": 4,
   "metadata": {},
   "outputs": [
    {
     "data": {
      "text/html": [
       "<div>\n",
       "<style scoped>\n",
       "    .dataframe tbody tr th:only-of-type {\n",
       "        vertical-align: middle;\n",
       "    }\n",
       "\n",
       "    .dataframe tbody tr th {\n",
       "        vertical-align: top;\n",
       "    }\n",
       "\n",
       "    .dataframe thead th {\n",
       "        text-align: right;\n",
       "    }\n",
       "</style>\n",
       "<table border=\"1\" class=\"dataframe\">\n",
       "  <thead>\n",
       "    <tr style=\"text-align: right;\">\n",
       "      <th></th>\n",
       "      <th>Country_code</th>\n",
       "      <th>year</th>\n",
       "      <th>unit</th>\n",
       "      <th>na_item</th>\n",
       "      <th>GDP</th>\n",
       "      <th>Population</th>\n",
       "      <th>GDP/Cap</th>\n",
       "      <th>ISO_3_Code</th>\n",
       "      <th>Country_Name</th>\n",
       "    </tr>\n",
       "  </thead>\n",
       "  <tbody>\n",
       "    <tr>\n",
       "      <th>0</th>\n",
       "      <td>AL</td>\n",
       "      <td>2012</td>\n",
       "      <td>CLV15_MEUR</td>\n",
       "      <td>B1GQ</td>\n",
       "      <td>9768.4</td>\n",
       "      <td>2903008.0</td>\n",
       "      <td>3364.923555</td>\n",
       "      <td>ALB</td>\n",
       "      <td>Albania</td>\n",
       "    </tr>\n",
       "    <tr>\n",
       "      <th>1</th>\n",
       "      <td>AL</td>\n",
       "      <td>2013</td>\n",
       "      <td>CLV15_MEUR</td>\n",
       "      <td>B1GQ</td>\n",
       "      <td>9866.2</td>\n",
       "      <td>2897770.0</td>\n",
       "      <td>3404.756071</td>\n",
       "      <td>ALB</td>\n",
       "      <td>Albania</td>\n",
       "    </tr>\n",
       "    <tr>\n",
       "      <th>2</th>\n",
       "      <td>AL</td>\n",
       "      <td>2014</td>\n",
       "      <td>CLV15_MEUR</td>\n",
       "      <td>B1GQ</td>\n",
       "      <td>10041.3</td>\n",
       "      <td>2892394.0</td>\n",
       "      <td>3471.622469</td>\n",
       "      <td>ALB</td>\n",
       "      <td>Albania</td>\n",
       "    </tr>\n",
       "    <tr>\n",
       "      <th>3</th>\n",
       "      <td>AL</td>\n",
       "      <td>2015</td>\n",
       "      <td>CLV15_MEUR</td>\n",
       "      <td>B1GQ</td>\n",
       "      <td>10264.1</td>\n",
       "      <td>2885796.0</td>\n",
       "      <td>3556.765620</td>\n",
       "      <td>ALB</td>\n",
       "      <td>Albania</td>\n",
       "    </tr>\n",
       "    <tr>\n",
       "      <th>4</th>\n",
       "      <td>AL</td>\n",
       "      <td>2016</td>\n",
       "      <td>CLV15_MEUR</td>\n",
       "      <td>B1GQ</td>\n",
       "      <td>10604.4</td>\n",
       "      <td>2875592.0</td>\n",
       "      <td>3687.727605</td>\n",
       "      <td>ALB</td>\n",
       "      <td>Albania</td>\n",
       "    </tr>\n",
       "    <tr>\n",
       "      <th>...</th>\n",
       "      <td>...</td>\n",
       "      <td>...</td>\n",
       "      <td>...</td>\n",
       "      <td>...</td>\n",
       "      <td>...</td>\n",
       "      <td>...</td>\n",
       "      <td>...</td>\n",
       "      <td>...</td>\n",
       "      <td>...</td>\n",
       "    </tr>\n",
       "    <tr>\n",
       "      <th>391</th>\n",
       "      <td>XK</td>\n",
       "      <td>2016</td>\n",
       "      <td>CLV15_MEUR</td>\n",
       "      <td>B1GQ</td>\n",
       "      <td>5990.6</td>\n",
       "      <td>1771604.0</td>\n",
       "      <td>3381.455449</td>\n",
       "      <td>XXK</td>\n",
       "      <td>Kosovo</td>\n",
       "    </tr>\n",
       "    <tr>\n",
       "      <th>392</th>\n",
       "      <td>XK</td>\n",
       "      <td>2017</td>\n",
       "      <td>CLV15_MEUR</td>\n",
       "      <td>B1GQ</td>\n",
       "      <td>6279.7</td>\n",
       "      <td>1783531.0</td>\n",
       "      <td>3520.936838</td>\n",
       "      <td>XXK</td>\n",
       "      <td>Kosovo</td>\n",
       "    </tr>\n",
       "    <tr>\n",
       "      <th>393</th>\n",
       "      <td>XK</td>\n",
       "      <td>2018</td>\n",
       "      <td>CLV15_MEUR</td>\n",
       "      <td>B1GQ</td>\n",
       "      <td>6493.6</td>\n",
       "      <td>1798506.0</td>\n",
       "      <td>3610.552314</td>\n",
       "      <td>XXK</td>\n",
       "      <td>Kosovo</td>\n",
       "    </tr>\n",
       "    <tr>\n",
       "      <th>394</th>\n",
       "      <td>XK</td>\n",
       "      <td>2019</td>\n",
       "      <td>CLV15_MEUR</td>\n",
       "      <td>B1GQ</td>\n",
       "      <td>6802.5</td>\n",
       "      <td>1795666.0</td>\n",
       "      <td>3788.288022</td>\n",
       "      <td>XXK</td>\n",
       "      <td>Kosovo</td>\n",
       "    </tr>\n",
       "    <tr>\n",
       "      <th>395</th>\n",
       "      <td>XK</td>\n",
       "      <td>2020</td>\n",
       "      <td>CLV15_MEUR</td>\n",
       "      <td>B1GQ</td>\n",
       "      <td>6439.2</td>\n",
       "      <td>1782115.0</td>\n",
       "      <td>3613.234836</td>\n",
       "      <td>XXK</td>\n",
       "      <td>Kosovo</td>\n",
       "    </tr>\n",
       "  </tbody>\n",
       "</table>\n",
       "<p>396 rows × 9 columns</p>\n",
       "</div>"
      ],
      "text/plain": [
       "    Country_code  year        unit na_item      GDP  Population      GDP/Cap  \\\n",
       "0             AL  2012  CLV15_MEUR    B1GQ   9768.4   2903008.0  3364.923555   \n",
       "1             AL  2013  CLV15_MEUR    B1GQ   9866.2   2897770.0  3404.756071   \n",
       "2             AL  2014  CLV15_MEUR    B1GQ  10041.3   2892394.0  3471.622469   \n",
       "3             AL  2015  CLV15_MEUR    B1GQ  10264.1   2885796.0  3556.765620   \n",
       "4             AL  2016  CLV15_MEUR    B1GQ  10604.4   2875592.0  3687.727605   \n",
       "..           ...   ...         ...     ...      ...         ...          ...   \n",
       "391           XK  2016  CLV15_MEUR    B1GQ   5990.6   1771604.0  3381.455449   \n",
       "392           XK  2017  CLV15_MEUR    B1GQ   6279.7   1783531.0  3520.936838   \n",
       "393           XK  2018  CLV15_MEUR    B1GQ   6493.6   1798506.0  3610.552314   \n",
       "394           XK  2019  CLV15_MEUR    B1GQ   6802.5   1795666.0  3788.288022   \n",
       "395           XK  2020  CLV15_MEUR    B1GQ   6439.2   1782115.0  3613.234836   \n",
       "\n",
       "    ISO_3_Code Country_Name  \n",
       "0          ALB      Albania  \n",
       "1          ALB      Albania  \n",
       "2          ALB      Albania  \n",
       "3          ALB      Albania  \n",
       "4          ALB      Albania  \n",
       "..         ...          ...  \n",
       "391        XXK       Kosovo  \n",
       "392        XXK       Kosovo  \n",
       "393        XXK       Kosovo  \n",
       "394        XXK       Kosovo  \n",
       "395        XXK       Kosovo  \n",
       "\n",
       "[396 rows x 9 columns]"
      ]
     },
     "execution_count": 4,
     "metadata": {},
     "output_type": "execute_result"
    }
   ],
   "source": [
    "# Running the below code will show you the data merged with the excel file\n",
    "model.Merge_excel()"
   ]
  },
  {
   "attachments": {},
   "cell_type": "markdown",
   "metadata": {},
   "source": [
    "# Plotting the results"
   ]
  },
  {
   "cell_type": "code",
   "execution_count": 44,
   "metadata": {},
   "outputs": [
    {
     "ename": "TypeError",
     "evalue": "plot_line() missing 1 required positional argument: 'Country_Name'",
     "output_type": "error",
     "traceback": [
      "\u001b[0;31m---------------------------------------------------------------------------\u001b[0m",
      "\u001b[0;31mTypeError\u001b[0m                                 Traceback (most recent call last)",
      "\u001b[0;32m/var/folders/5k/cbgd218j5d30nkg1dkw057100000gn/T/ipykernel_28039/1019611551.py\u001b[0m in \u001b[0;36m<module>\u001b[0;34m\u001b[0m\n\u001b[0;32m----> 1\u001b[0;31m \u001b[0mmodel\u001b[0m\u001b[0;34m.\u001b[0m\u001b[0mplot_line\u001b[0m\u001b[0;34m(\u001b[0m\u001b[0;34m)\u001b[0m\u001b[0;34m\u001b[0m\u001b[0;34m\u001b[0m\u001b[0m\n\u001b[0m",
      "\u001b[0;31mTypeError\u001b[0m: plot_line() missing 1 required positional argument: 'Country_Name'"
     ]
    }
   ],
   "source": [
    "model.plot_line()"
   ]
  },
  {
   "cell_type": "code",
   "execution_count": 41,
   "metadata": {},
   "outputs": [
    {
     "data": {
      "application/vnd.plotly.v1+json": {
       "config": {
        "plotlyServerURL": "https://plot.ly"
       },
       "data": [
        {
         "coloraxis": "coloraxis",
         "geo": "geo",
         "hovertemplate": "<b>%{hovertext}</b><br><br>year=2012<br>ISO_3_Code=%{location}<br>GDP_Cap=%{z}<extra></extra>",
         "hovertext": [
          "Albania",
          "Austria",
          "Bosnia and Herzegovina",
          "Belgium",
          "Bulgaria",
          "Switzerland",
          "Cyprus",
          "Czechia",
          "Germany",
          "Denmark",
          "Estonia",
          "Greece",
          "Spain",
          "Finland",
          "France",
          "Croatia",
          "Hungary",
          "Ireland",
          "Iceland",
          "Italy",
          "Lithuania",
          "Luxembourg",
          "Latvia",
          "Montenegro",
          "Republic of North Macadonia",
          "Malta",
          "The Netherlands",
          "Norway",
          "Poland",
          "Portugal",
          "Romania",
          "Serbia",
          "Sweden",
          "Slovenia",
          "Slovakia",
          "Turkey",
          "United Kingdom "
         ],
         "locations": [
          "ALB",
          "AUT",
          "BIH",
          "BEL",
          "BGR",
          "CHE",
          "CYP",
          "CZE",
          "DEU",
          "DNK",
          "EST",
          "GRC",
          "ESP",
          "FIN",
          "FRA",
          "HRV",
          "HUN",
          "IRL",
          "ISL",
          "ITA",
          "LTU",
          "LUX",
          "LVA",
          "MNE",
          "MKD",
          "MLT",
          "NLD",
          "NOR",
          "POL",
          "PRT",
          "ROU",
          "SRB",
          "SWE",
          "SVN",
          "SVK",
          "TUR",
          "GBR"
         ],
         "name": "",
         "type": "choropleth",
         "z": [
          3364.923555153827,
          40257.09192339168,
          3567.297386348689,
          36130.82435188724,
          6020.970561293063,
          74257.82515963595,
          21937.539080127746,
          14982.916002130323,
          36158.390795726016,
          46606.72955690836,
          14624.925578226057,
          16273.804152581099,
          22181.984325375553,
          39422.602141312396,
          32803.30832691823,
          10409.74428342108,
          10319.802052472205,
          41933.87774615098,
          44514.43323163577,
          28175.389226090687,
          11366.904367066503,
          95267.62731660104,
          11128.010238589055,
          5406.507734867195,
          3976.1257679165974,
          19240.754312099743,
          39934.69830992159,
          66809.28303385367,
          10330.042787119055,
          16769.704577649223,
          7405.7638148415235,
          4804.224232050083,
          44253.993127597125,
          18182.132195830105,
          13641.248615459997,
          8610.299018114181,
          38712.01343952779
         ]
        }
       ],
       "frames": [
        {
         "data": [
          {
           "coloraxis": "coloraxis",
           "geo": "geo",
           "hovertemplate": "<b>%{hovertext}</b><br><br>year=2012<br>ISO_3_Code=%{location}<br>GDP_Cap=%{z}<extra></extra>",
           "hovertext": [
            "Albania",
            "Austria",
            "Bosnia and Herzegovina",
            "Belgium",
            "Bulgaria",
            "Switzerland",
            "Cyprus",
            "Czechia",
            "Germany",
            "Denmark",
            "Estonia",
            "Greece",
            "Spain",
            "Finland",
            "France",
            "Croatia",
            "Hungary",
            "Ireland",
            "Iceland",
            "Italy",
            "Lithuania",
            "Luxembourg",
            "Latvia",
            "Montenegro",
            "Republic of North Macadonia",
            "Malta",
            "The Netherlands",
            "Norway",
            "Poland",
            "Portugal",
            "Romania",
            "Serbia",
            "Sweden",
            "Slovenia",
            "Slovakia",
            "Turkey",
            "United Kingdom "
           ],
           "locations": [
            "ALB",
            "AUT",
            "BIH",
            "BEL",
            "BGR",
            "CHE",
            "CYP",
            "CZE",
            "DEU",
            "DNK",
            "EST",
            "GRC",
            "ESP",
            "FIN",
            "FRA",
            "HRV",
            "HUN",
            "IRL",
            "ISL",
            "ITA",
            "LTU",
            "LUX",
            "LVA",
            "MNE",
            "MKD",
            "MLT",
            "NLD",
            "NOR",
            "POL",
            "PRT",
            "ROU",
            "SRB",
            "SWE",
            "SVN",
            "SVK",
            "TUR",
            "GBR"
           ],
           "name": "",
           "type": "choropleth",
           "z": [
            3364.923555153827,
            40257.09192339168,
            3567.297386348689,
            36130.82435188724,
            6020.970561293063,
            74257.82515963595,
            21937.539080127746,
            14982.916002130323,
            36158.390795726016,
            46606.72955690836,
            14624.925578226057,
            16273.804152581099,
            22181.984325375553,
            39422.602141312396,
            32803.30832691823,
            10409.74428342108,
            10319.802052472205,
            41933.87774615098,
            44514.43323163577,
            28175.389226090687,
            11366.904367066503,
            95267.62731660104,
            11128.010238589055,
            5406.507734867195,
            3976.1257679165974,
            19240.754312099743,
            39934.69830992159,
            66809.28303385367,
            10330.042787119055,
            16769.704577649223,
            7405.7638148415235,
            4804.224232050083,
            44253.993127597125,
            18182.132195830105,
            13641.248615459997,
            8610.299018114181,
            38712.01343952779
           ]
          }
         ],
         "name": "2012"
        },
        {
         "data": [
          {
           "coloraxis": "coloraxis",
           "geo": "geo",
           "hovertemplate": "<b>%{hovertext}</b><br><br>year=2013<br>ISO_3_Code=%{location}<br>GDP_Cap=%{z}<extra></extra>",
           "hovertext": [
            "Albania",
            "Austria",
            "Belgium",
            "Bulgaria",
            "Switzerland",
            "Cyprus",
            "Czechia",
            "Germany",
            "Denmark",
            "Estonia",
            "Greece",
            "Spain",
            "Finland",
            "France",
            "Croatia",
            "Hungary",
            "Ireland",
            "Iceland",
            "Italy",
            "Lithuania",
            "Luxembourg",
            "Latvia",
            "Montenegro",
            "Republic of North Macadonia",
            "Malta",
            "The Netherlands",
            "Norway",
            "Poland",
            "Portugal",
            "Romania",
            "Serbia",
            "Sweden",
            "Slovenia",
            "Slovakia",
            "Turkey",
            "United Kingdom "
           ],
           "locations": [
            "ALB",
            "AUT",
            "BEL",
            "BGR",
            "CHE",
            "CYP",
            "CZE",
            "DEU",
            "DNK",
            "EST",
            "GRC",
            "ESP",
            "FIN",
            "FRA",
            "HRV",
            "HUN",
            "IRL",
            "ISL",
            "ITA",
            "LTU",
            "LUX",
            "LVA",
            "MNE",
            "MKD",
            "MLT",
            "NLD",
            "NOR",
            "POL",
            "PRT",
            "ROU",
            "SRB",
            "SWE",
            "SVN",
            "SVK",
            "TUR",
            "GBR"
           ],
           "name": "",
           "type": "choropleth",
           "z": [
            3404.756071047737,
            40058.96926830307,
            36094.427945333686,
            6022.292105266048,
            74795.0755436581,
            20400.910982840538,
            14960.824448168883,
            36228.28848523764,
            46856.06468964207,
            14894.930516734916,
            15983.719895688826,
            21912.973172980848,
            38884.222638028376,
            32829.73185356481,
            10402.004626783728,
            10530.338795886242,
            42217.403480730856,
            46210.89490053036,
            27521.810380314044,
            11896.107042452568,
            96059.1316459326,
            11469.173471026397,
            5593.073202629116,
            4087.43855143835,
            20055.43077188888,
            39765.70920300425,
            66614.33004538459,
            10418.869893978423,
            16702.285976862084,
            7453.918501999543,
            4967.3710454841985,
            44437.374926655204,
            17965.913500979445,
            13711.0420644795,
            9229.406903721541,
            39304.349548743514
           ]
          }
         ],
         "name": "2013"
        },
        {
         "data": [
          {
           "coloraxis": "coloraxis",
           "geo": "geo",
           "hovertemplate": "<b>%{hovertext}</b><br><br>year=2014<br>ISO_3_Code=%{location}<br>GDP_Cap=%{z}<extra></extra>",
           "hovertext": [
            "Albania",
            "Austria",
            "Belgium",
            "Bulgaria",
            "Switzerland",
            "Cyprus",
            "Czechia",
            "Germany",
            "Denmark",
            "Estonia",
            "Greece",
            "Spain",
            "Finland",
            "France",
            "Croatia",
            "Hungary",
            "Ireland",
            "Iceland",
            "Italy",
            "Lithuania",
            "Luxembourg",
            "Latvia",
            "Montenegro",
            "Republic of North Macadonia",
            "Malta",
            "The Netherlands",
            "Norway",
            "Poland",
            "Portugal",
            "Romania",
            "Serbia",
            "Sweden",
            "Slovenia",
            "Slovakia",
            "Turkey",
            "United Kingdom "
           ],
           "locations": [
            "ALB",
            "AUT",
            "BEL",
            "BGR",
            "CHE",
            "CYP",
            "CZE",
            "DEU",
            "DNK",
            "EST",
            "GRC",
            "ESP",
            "FIN",
            "FRA",
            "HRV",
            "HUN",
            "IRL",
            "ISL",
            "ITA",
            "LTU",
            "LUX",
            "LVA",
            "MNE",
            "MKD",
            "MLT",
            "NLD",
            "NOR",
            "POL",
            "PRT",
            "ROU",
            "SRB",
            "SWE",
            "SVN",
            "SVK",
            "TUR",
            "GBR"
           ],
           "name": "",
           "type": "choropleth",
           "z": [
            3471.622469138022,
            40058.800256612005,
            36523.62434307261,
            6113.148571210116,
            75606.80576306224,
            20222.49417249417,
            15304.650623229534,
            36917.034276537815,
            47406.63931753339,
            15394.214553825412,
            16172.647691132459,
            22321.864420987706,
            38567.52646630968,
            32860.31129592579,
            10394.745796196627,
            11010.932571591715,
            45591.29959300124,
            46440.42607416688,
            27023.670629265565,
            12435.858061500161,
            96311.85416969874,
            11817.875679251429,
            5687.177102624047,
            4228.691591363797,
            21238.68251425165,
            40212.59008624785,
            67224.16145748702,
            10831.35514006892,
            16931.447552919017,
            7789.37572086784,
            4912.184670002164,
            45197.6098366965,
            18442.956015884836,
            14067.5623053319,
            9553.871228237165,
            40149.40792948347
           ]
          }
         ],
         "name": "2014"
        },
        {
         "data": [
          {
           "coloraxis": "coloraxis",
           "geo": "geo",
           "hovertemplate": "<b>%{hovertext}</b><br><br>year=2015<br>ISO_3_Code=%{location}<br>GDP_Cap=%{z}<extra></extra>",
           "hovertext": [
            "Albania",
            "Austria",
            "Belgium",
            "Bulgaria",
            "Switzerland",
            "Cyprus",
            "Czechia",
            "Germany",
            "Denmark",
            "Estonia",
            "Greece",
            "Spain",
            "Finland",
            "France",
            "Croatia",
            "Hungary",
            "Ireland",
            "Iceland",
            "Italy",
            "Lithuania",
            "Luxembourg",
            "Latvia",
            "Montenegro",
            "Republic of North Macadonia",
            "Malta",
            "The Netherlands",
            "Norway",
            "Poland",
            "Portugal",
            "Romania",
            "Serbia",
            "Sweden",
            "Slovenia",
            "Slovakia",
            "Turkey",
            "United Kingdom "
           ],
           "locations": [
            "ALB",
            "AUT",
            "BEL",
            "BGR",
            "CHE",
            "CYP",
            "CZE",
            "DEU",
            "DNK",
            "EST",
            "GRC",
            "ESP",
            "FIN",
            "FRA",
            "HRV",
            "HUN",
            "IRL",
            "ISL",
            "ITA",
            "LTU",
            "LUX",
            "LVA",
            "MNE",
            "MKD",
            "MLT",
            "NLD",
            "NOR",
            "POL",
            "PRT",
            "ROU",
            "SRB",
            "SWE",
            "SVN",
            "SVK",
            "TUR",
            "GBR"
           ],
           "name": "",
           "type": "choropleth",
           "z": [
            3556.765620300257,
            40101.59202304132,
            37082.07168393331,
            6360.877609862989,
            75935.67158464546,
            21185.396123767427,
            16089.749033878885,
            37269.35707421766,
            48238.75407153893,
            15690.82875113129,
            16243.194660388295,
            23209.948252475562,
            38632.04351512212,
            33079.94430720938,
            10711.12787777293,
            11444.39018297367,
            56219.938015579275,
            47995.442114858706,
            27228.198640388717,
            12784.098105544796,
            96174.67022406645,
            12372.060565048216,
            5874.466925682247,
            4384.50742615887,
            22735.739416999666,
            40827.121864469016,
            67697.12065805566,
            11309.765972995463,
            17322.05140483374,
            8066.561697764547,
            5023.647133353471,
            46730.08216075027,
            18834.208972530556,
            14779.716266191312,
            10001.071613762291,
            40779.92496090374
           ]
          }
         ],
         "name": "2015"
        },
        {
         "data": [
          {
           "coloraxis": "coloraxis",
           "geo": "geo",
           "hovertemplate": "<b>%{hovertext}</b><br><br>year=2016<br>ISO_3_Code=%{location}<br>GDP_Cap=%{z}<extra></extra>",
           "hovertext": [
            "Albania",
            "Austria",
            "Belgium",
            "Bulgaria",
            "Switzerland",
            "Cyprus",
            "Czechia",
            "Germany",
            "Denmark",
            "Estonia",
            "Greece",
            "Spain",
            "Finland",
            "France",
            "Croatia",
            "Hungary",
            "Ireland",
            "Iceland",
            "Italy",
            "Lithuania",
            "Luxembourg",
            "Latvia",
            "Montenegro",
            "Republic of North Macadonia",
            "Malta",
            "The Netherlands",
            "Norway",
            "Poland",
            "Portugal",
            "Romania",
            "Serbia",
            "Sweden",
            "Slovenia",
            "Slovakia",
            "Turkey",
            "United Kingdom ",
            "Kosovo"
           ],
           "locations": [
            "ALB",
            "AUT",
            "BEL",
            "BGR",
            "CHE",
            "CYP",
            "CZE",
            "DEU",
            "DNK",
            "EST",
            "GRC",
            "ESP",
            "FIN",
            "FRA",
            "HRV",
            "HUN",
            "IRL",
            "ISL",
            "ITA",
            "LTU",
            "LUX",
            "LVA",
            "MNE",
            "MKD",
            "MLT",
            "NLD",
            "NOR",
            "POL",
            "PRT",
            "ROU",
            "SRB",
            "SWE",
            "SVN",
            "SVK",
            "TUR",
            "GBR",
            "XXK"
           ],
           "name": "",
           "type": "choropleth",
           "z": [
            3687.7276053070113,
            40356.24048399219,
            37306.63381874664,
            6598.591738302414,
            76673.87283439688,
            22543.0527902829,
            16473.65798411062,
            37646.94918754799,
            49389.73246489422,
            16172.724675214144,
            16275.380322314653,
            23919.888715138182,
            39605.577088073056,
            33351.87069567751,
            11184.08540497949,
            11726.125414971895,
            56757.65283776734,
            50494.84405871368,
            27639.514887122677,
            13254.50276573986,
            98633.75034056458,
            12775.34247827657,
            6046.594601891941,
            4504.803314668528,
            22944.839758889026,
            41529.30187194625,
            67904.32648380137,
            11655.578897042446,
            17729.092872967016,
            8343.285383504588,
            5219.270552763478,
            47195.756539654736,
            19423.037048950966,
            15053.429144094303,
            10196.256836951368,
            41148.79226438368,
            3381.455449411945
           ]
          }
         ],
         "name": "2016"
        },
        {
         "data": [
          {
           "coloraxis": "coloraxis",
           "geo": "geo",
           "hovertemplate": "<b>%{hovertext}</b><br><br>year=2017<br>ISO_3_Code=%{location}<br>GDP_Cap=%{z}<extra></extra>",
           "hovertext": [
            "Albania",
            "Austria",
            "Belgium",
            "Bulgaria",
            "Switzerland",
            "Cyprus",
            "Czechia",
            "Germany",
            "Denmark",
            "Estonia",
            "Greece",
            "Spain",
            "Finland",
            "France",
            "Croatia",
            "Hungary",
            "Ireland",
            "Iceland",
            "Italy",
            "Lithuania",
            "Luxembourg",
            "Latvia",
            "Montenegro",
            "Republic of North Macadonia",
            "Malta",
            "The Netherlands",
            "Norway",
            "Poland",
            "Portugal",
            "Romania",
            "Serbia",
            "Sweden",
            "Slovenia",
            "Slovakia",
            "Turkey",
            "United Kingdom ",
            "Kosovo"
           ],
           "locations": [
            "ALB",
            "AUT",
            "BEL",
            "BGR",
            "CHE",
            "CYP",
            "CZE",
            "DEU",
            "DNK",
            "EST",
            "GRC",
            "ESP",
            "FIN",
            "FRA",
            "HRV",
            "HUN",
            "IRL",
            "ISL",
            "ITA",
            "LTU",
            "LUX",
            "LVA",
            "MNE",
            "MKD",
            "MLT",
            "NLD",
            "NOR",
            "POL",
            "PRT",
            "ROU",
            "SRB",
            "SWE",
            "SVN",
            "SVK",
            "TUR",
            "GBR",
            "XXK"
           ],
           "name": "",
           "type": "choropleth",
           "z": [
            3826.6128205226255,
            40927.16575485888,
            37775.22133856813,
            6830.436932076517,
            76865.64008765314,
            23654.834686863156,
            17284.22451653398,
            38493.9114101362,
            50416.61962761071,
            17113.48512315346,
            16476.905642385867,
            24585.14034466626,
            40751.20786684782,
            34028.56550300932,
            11667.239980232116,
            12268.155309265234,
            61117.59865378671,
            51707.85195168303,
            28135.799890558497,
            14019.433239322674,
            97493.68087264059,
            13326.079064014653,
            6329.984398774396,
            4548.194485032082,
            24892.84092661912,
            42482.00700324626,
            68947.51685758009,
            12252.820190701996,
            18407.27060179893,
            9080.740333830026,
            5356.256121922562,
            47709.63486001665,
            20341.498478867514,
            15469.787279294058,
            10813.71039239041,
            41569.19077174702,
            3520.9368382158764
           ]
          }
         ],
         "name": "2017"
        },
        {
         "data": [
          {
           "coloraxis": "coloraxis",
           "geo": "geo",
           "hovertemplate": "<b>%{hovertext}</b><br><br>year=2018<br>ISO_3_Code=%{location}<br>GDP_Cap=%{z}<extra></extra>",
           "hovertext": [
            "Albania",
            "Austria",
            "Belgium",
            "Bulgaria",
            "Switzerland",
            "Cyprus",
            "Czechia",
            "Germany",
            "Denmark",
            "Estonia",
            "Greece",
            "Spain",
            "Finland",
            "France",
            "Croatia",
            "Hungary",
            "Ireland",
            "Iceland",
            "Italy",
            "Lithuania",
            "Luxembourg",
            "Latvia",
            "Montenegro",
            "Republic of North Macadonia",
            "Malta",
            "The Netherlands",
            "Norway",
            "Poland",
            "Portugal",
            "Romania",
            "Serbia",
            "Sweden",
            "Slovenia",
            "Slovakia",
            "Turkey",
            "United Kingdom ",
            "Kosovo"
           ],
           "locations": [
            "ALB",
            "AUT",
            "BEL",
            "BGR",
            "CHE",
            "CYP",
            "CZE",
            "DEU",
            "DNK",
            "EST",
            "GRC",
            "ESP",
            "FIN",
            "FRA",
            "HRV",
            "HUN",
            "IRL",
            "ISL",
            "ITA",
            "LTU",
            "LUX",
            "LVA",
            "MNE",
            "MKD",
            "MLT",
            "NLD",
            "NOR",
            "POL",
            "PRT",
            "ROU",
            "SRB",
            "SWE",
            "SVN",
            "SVK",
            "TUR",
            "GBR",
            "XXK"
           ],
           "name": "",
           "type": "choropleth",
           "z": [
            3989.0967012783226,
            41685.06802163208,
            38294.42398528449,
            7065.384365522209,
            78462.51766533517,
            24716.744037508273,
            17788.277252097185,
            38744.53088063654,
            51131.324173742774,
            17713.98335118597,
            16793.960431666397,
            25076.488293748826,
            41142.14611300659,
            34551.30338238955,
            12136.325649562672,
            12951.380142970644,
            65697.64938332127,
            52663.796814464054,
            28445.801667162308,
            14781.724240192161,
            96823.78053338427,
            13970.736861804227,
            6651.787794504458,
            4675.610911381048,
            25578.462101193818,
            43232.941530348144,
            69029.36181775917,
            12980.002705343939,
            18965.871919294354,
            9682.667416012539,
            5628.067581487476,
            48038.782076555086,
            21237.469035454404,
            16070.28689428122,
            10998.741809931318,
            41817.151982262134,
            3610.552313976156
           ]
          }
         ],
         "name": "2018"
        },
        {
         "data": [
          {
           "coloraxis": "coloraxis",
           "geo": "geo",
           "hovertemplate": "<b>%{hovertext}</b><br><br>year=2019<br>ISO_3_Code=%{location}<br>GDP_Cap=%{z}<extra></extra>",
           "hovertext": [
            "Albania",
            "Austria",
            "Belgium",
            "Bulgaria",
            "Switzerland",
            "Cyprus",
            "Czechia",
            "Germany",
            "Denmark",
            "Estonia",
            "Greece",
            "Spain",
            "Finland",
            "France",
            "Croatia",
            "Hungary",
            "Ireland",
            "Iceland",
            "Italy",
            "Lithuania",
            "Luxembourg",
            "Latvia",
            "Montenegro",
            "Republic of North Macadonia",
            "Malta",
            "The Netherlands",
            "Norway",
            "Poland",
            "Portugal",
            "Romania",
            "Serbia",
            "Sweden",
            "Slovenia",
            "Slovakia",
            "Turkey",
            "United Kingdom ",
            "Kosovo"
           ],
           "locations": [
            "ALB",
            "AUT",
            "BEL",
            "BGR",
            "CHE",
            "CYP",
            "CZE",
            "DEU",
            "DNK",
            "EST",
            "GRC",
            "ESP",
            "FIN",
            "FRA",
            "HRV",
            "HUN",
            "IRL",
            "ISL",
            "ITA",
            "LTU",
            "LUX",
            "LVA",
            "MNE",
            "MKD",
            "MLT",
            "NLD",
            "NOR",
            "POL",
            "PRT",
            "ROU",
            "SRB",
            "SWE",
            "SVN",
            "SVK",
            "TUR",
            "GBR",
            "XXK"
           ],
           "name": "",
           "type": "choropleth",
           "z": [
            4083.5975904363677,
            42143.196999585154,
            38965.86440125498,
            7403.1873250991885,
            78797.59757327702,
            25737.670667508468,
            18258.840541606416,
            39046.91315250122,
            51672.47925063395,
            18297.580048610376,
            17136.84586248866,
            25422.193038933416,
            41609.88952538085,
            35108.76298177566,
            12641.582475640576,
            13589.175868096985,
            68229.12418641828,
            52331.85150325918,
            28902.118979435716,
            15546.86448709176,
            97151.46263035639,
            14437.323955399257,
            6924.0190169435955,
            4854.193185603996,
            26380.83795453026,
            43820.5969935592,
            69378.07654800522,
            13558.998475014176,
            19501.982023850844,
            10117.408376788062,
            5903.632001314232,
            48466.40603273548,
            21822.252593579342,
            16451.536495988108,
            10923.615786872138,
            42152.803260252294,
            3788.2880223827815
           ]
          }
         ],
         "name": "2019"
        },
        {
         "data": [
          {
           "coloraxis": "coloraxis",
           "geo": "geo",
           "hovertemplate": "<b>%{hovertext}</b><br><br>year=2020<br>ISO_3_Code=%{location}<br>GDP_Cap=%{z}<extra></extra>",
           "hovertext": [
            "Albania",
            "Austria",
            "Belgium",
            "Bulgaria",
            "Switzerland",
            "Cyprus",
            "Czechia",
            "Germany",
            "Denmark",
            "Estonia",
            "Greece",
            "Spain",
            "Finland",
            "France",
            "Croatia",
            "Hungary",
            "Ireland",
            "Iceland",
            "Italy",
            "Lithuania",
            "Luxembourg",
            "Latvia",
            "Montenegro",
            "Republic of North Macadonia",
            "Malta",
            "The Netherlands",
            "Norway",
            "Poland",
            "Portugal",
            "Romania",
            "Serbia",
            "Sweden",
            "Slovenia",
            "Slovakia",
            "Turkey",
            "Kosovo"
           ],
           "locations": [
            "ALB",
            "AUT",
            "BEL",
            "BGR",
            "CHE",
            "CYP",
            "CZE",
            "DEU",
            "DNK",
            "EST",
            "GRC",
            "ESP",
            "FIN",
            "FRA",
            "HRV",
            "HUN",
            "IRL",
            "ISL",
            "ITA",
            "LTU",
            "LUX",
            "LVA",
            "MNE",
            "MKD",
            "MLT",
            "NLD",
            "NOR",
            "POL",
            "PRT",
            "ROU",
            "SRB",
            "SWE",
            "SVN",
            "SVK",
            "TUR",
            "XXK"
           ],
           "name": "",
           "type": "choropleth",
           "z": [
            3964.258043433575,
            39235.99470804838,
            36662.11323296108,
            7159.797004437327,
            76375.93302279923,
            24278.354288545674,
            17182.84534819209,
            37536.74111267908,
            50496.7315344966,
            18139.830967602124,
            15602.620313446809,
            22354.62845977617,
            40575.77409483517,
            32307.121533894067,
            11614.535140882641,
            12977.11884895951,
            71570.24760093787,
            47589.62360010326,
            26384.232734099456,
            15543.95169804838,
            94496.63636305557,
            14196.443314505877,
            5867.114346498401,
            4628.525879528285,
            23124.6258968758,
            41814.23212927009,
            67988.96336896702,
            13290.227776715496,
            17849.710987150334,
            9788.508755673776,
            5881.613263449216,
            46967.38996875263,
            20730.28697990945,
            15880.96681619378,
            10981.388166005225,
            3613.2348361357153
           ]
          }
         ],
         "name": "2020"
        },
        {
         "data": [
          {
           "coloraxis": "coloraxis",
           "geo": "geo",
           "hovertemplate": "<b>%{hovertext}</b><br><br>year=2021<br>ISO_3_Code=%{location}<br>GDP_Cap=%{z}<extra></extra>",
           "hovertext": [
            "Austria",
            "Belgium",
            "Bulgaria",
            "Switzerland",
            "Cyprus",
            "Czechia",
            "Germany",
            "Denmark",
            "Estonia",
            "Greece",
            "Spain",
            "Finland",
            "France",
            "Croatia",
            "Hungary",
            "Ireland",
            "Iceland",
            "Italy",
            "Lithuania",
            "Luxembourg",
            "Latvia",
            "Montenegro",
            "Republic of North Macadonia",
            "Malta",
            "The Netherlands",
            "Norway",
            "Poland",
            "Portugal",
            "Romania",
            "Serbia",
            "Sweden",
            "Slovenia",
            "Slovakia",
            "Turkey"
           ],
           "locations": [
            "AUT",
            "BEL",
            "BGR",
            "CHE",
            "CYP",
            "CZE",
            "DEU",
            "DNK",
            "EST",
            "GRC",
            "ESP",
            "FIN",
            "FRA",
            "HRV",
            "HUN",
            "IRL",
            "ISL",
            "ITA",
            "LTU",
            "LUX",
            "LVA",
            "MNE",
            "MKD",
            "MLT",
            "NLD",
            "NOR",
            "POL",
            "PRT",
            "ROU",
            "SRB",
            "SWE",
            "SVN",
            "SVK",
            "TUR"
           ],
           "name": "",
           "type": "choropleth",
           "z": [
            40878.790470569584,
            38857.65069949052,
            7745.337703143245,
            79010.2879946484,
            25656.942412280263,
            17780.271444639522,
            38528.23769616537,
            52792.02471898761,
            19577.344917703456,
            16981.87558106694,
            23555.62742813911,
            41747.67650325916,
            34337.74508776532,
            13205.330056449446,
            13966.877448161358,
            80615.25782190685,
            49024.924618755285,
            28420.761806633385,
            16464.22337320437,
            97969.21525688088,
            14916.573483419545,
            6644.499540064343,
            4827.804223494882,
            25777.756248788995,
            43677.56073317858,
            70327.75905340555,
            14256.27869301589,
            18827.651527657315,
            10424.165366518793,
            6376.438959087379,
            49250.40669910625,
            22292.941079964363,
            16647.480915443313,
            12160.980191417355
           ]
          }
         ],
         "name": "2021"
        },
        {
         "data": [
          {
           "coloraxis": "coloraxis",
           "geo": "geo",
           "hovertemplate": "<b>%{hovertext}</b><br><br>year=2022<br>ISO_3_Code=%{location}<br>GDP_Cap=%{z}<extra></extra>",
           "hovertext": [
            "Austria",
            "Belgium",
            "Bulgaria",
            "Switzerland",
            "Cyprus",
            "Czechia",
            "Germany",
            "Denmark",
            "Estonia",
            "Greece",
            "Spain",
            "Finland",
            "France",
            "Croatia",
            "Hungary",
            "Ireland",
            "Iceland",
            "Italy",
            "Lithuania",
            "Luxembourg",
            "Latvia",
            "Montenegro",
            "Republic of North Macadonia",
            "Malta",
            "The Netherlands",
            "Norway",
            "Poland",
            "Portugal",
            "Romania",
            "Serbia",
            "Sweden",
            "Slovenia",
            "Slovakia"
           ],
           "locations": [
            "AUT",
            "BEL",
            "BGR",
            "CHE",
            "CYP",
            "CZE",
            "DEU",
            "DNK",
            "EST",
            "GRC",
            "ESP",
            "FIN",
            "FRA",
            "HRV",
            "HUN",
            "IRL",
            "ISL",
            "ITA",
            "LTU",
            "LUX",
            "LVA",
            "MNE",
            "MKD",
            "MLT",
            "NLD",
            "NOR",
            "POL",
            "PRT",
            "ROU",
            "SRB",
            "SWE",
            "SVN",
            "SVK"
           ],
           "name": "",
           "type": "choropleth",
           "z": [
            42700.32650887428,
            39902.62035529988,
            8096.536055237824,
            80005.30050438327,
            26841.567140670162,
            18538.42652457656,
            39188.27613505724,
            54496.715712480975,
            19300.253191930296,
            18362.45726727383,
            24821.909977112296,
            42506.625072703224,
            35105.9278191977,
            14659.044275374421,
            14669.218010921653,
            89306.96497473125,
            51150.305117900956,
            29568.000465118384,
            16713.340494184245,
            97842.10338752737,
            15471.460322419161,
            7084.216337506456,
            5553.38427555394,
            27286.35567046918,
            45334.54435396215,
            72178.76713969996,
            15062.176120531636,
            19982.047986281355,
            11009.977442509382,
            6591.409136683927,
            50198.50127139165,
            23511.13810875198,
            17003.348107498612
           ]
          }
         ],
         "name": "2022"
        }
       ],
       "layout": {
        "coloraxis": {
         "colorbar": {
          "title": {
           "text": "GDP_Cap"
          }
         },
         "colorscale": [
          [
           0,
           "#0d0887"
          ],
          [
           0.1111111111111111,
           "#46039f"
          ],
          [
           0.2222222222222222,
           "#7201a8"
          ],
          [
           0.3333333333333333,
           "#9c179e"
          ],
          [
           0.4444444444444444,
           "#bd3786"
          ],
          [
           0.5555555555555556,
           "#d8576b"
          ],
          [
           0.6666666666666666,
           "#ed7953"
          ],
          [
           0.7777777777777778,
           "#fb9f3a"
          ],
          [
           0.8888888888888888,
           "#fdca26"
          ],
          [
           1,
           "#f0f921"
          ]
         ]
        },
        "geo": {
         "center": {},
         "domain": {
          "x": [
           0,
           1
          ],
          "y": [
           0,
           1
          ]
         },
         "scope": "europe"
        },
        "legend": {
         "tracegroupgap": 0
        },
        "margin": {
         "t": 60
        },
        "sliders": [
         {
          "active": 0,
          "currentvalue": {
           "prefix": "year="
          },
          "len": 0.9,
          "pad": {
           "b": 10,
           "t": 60
          },
          "steps": [
           {
            "args": [
             [
              "2012"
             ],
             {
              "frame": {
               "duration": 0,
               "redraw": true
              },
              "fromcurrent": true,
              "mode": "immediate",
              "transition": {
               "duration": 0,
               "easing": "linear"
              }
             }
            ],
            "label": "2012",
            "method": "animate"
           },
           {
            "args": [
             [
              "2013"
             ],
             {
              "frame": {
               "duration": 0,
               "redraw": true
              },
              "fromcurrent": true,
              "mode": "immediate",
              "transition": {
               "duration": 0,
               "easing": "linear"
              }
             }
            ],
            "label": "2013",
            "method": "animate"
           },
           {
            "args": [
             [
              "2014"
             ],
             {
              "frame": {
               "duration": 0,
               "redraw": true
              },
              "fromcurrent": true,
              "mode": "immediate",
              "transition": {
               "duration": 0,
               "easing": "linear"
              }
             }
            ],
            "label": "2014",
            "method": "animate"
           },
           {
            "args": [
             [
              "2015"
             ],
             {
              "frame": {
               "duration": 0,
               "redraw": true
              },
              "fromcurrent": true,
              "mode": "immediate",
              "transition": {
               "duration": 0,
               "easing": "linear"
              }
             }
            ],
            "label": "2015",
            "method": "animate"
           },
           {
            "args": [
             [
              "2016"
             ],
             {
              "frame": {
               "duration": 0,
               "redraw": true
              },
              "fromcurrent": true,
              "mode": "immediate",
              "transition": {
               "duration": 0,
               "easing": "linear"
              }
             }
            ],
            "label": "2016",
            "method": "animate"
           },
           {
            "args": [
             [
              "2017"
             ],
             {
              "frame": {
               "duration": 0,
               "redraw": true
              },
              "fromcurrent": true,
              "mode": "immediate",
              "transition": {
               "duration": 0,
               "easing": "linear"
              }
             }
            ],
            "label": "2017",
            "method": "animate"
           },
           {
            "args": [
             [
              "2018"
             ],
             {
              "frame": {
               "duration": 0,
               "redraw": true
              },
              "fromcurrent": true,
              "mode": "immediate",
              "transition": {
               "duration": 0,
               "easing": "linear"
              }
             }
            ],
            "label": "2018",
            "method": "animate"
           },
           {
            "args": [
             [
              "2019"
             ],
             {
              "frame": {
               "duration": 0,
               "redraw": true
              },
              "fromcurrent": true,
              "mode": "immediate",
              "transition": {
               "duration": 0,
               "easing": "linear"
              }
             }
            ],
            "label": "2019",
            "method": "animate"
           },
           {
            "args": [
             [
              "2020"
             ],
             {
              "frame": {
               "duration": 0,
               "redraw": true
              },
              "fromcurrent": true,
              "mode": "immediate",
              "transition": {
               "duration": 0,
               "easing": "linear"
              }
             }
            ],
            "label": "2020",
            "method": "animate"
           },
           {
            "args": [
             [
              "2021"
             ],
             {
              "frame": {
               "duration": 0,
               "redraw": true
              },
              "fromcurrent": true,
              "mode": "immediate",
              "transition": {
               "duration": 0,
               "easing": "linear"
              }
             }
            ],
            "label": "2021",
            "method": "animate"
           },
           {
            "args": [
             [
              "2022"
             ],
             {
              "frame": {
               "duration": 0,
               "redraw": true
              },
              "fromcurrent": true,
              "mode": "immediate",
              "transition": {
               "duration": 0,
               "easing": "linear"
              }
             }
            ],
            "label": "2022",
            "method": "animate"
           }
          ],
          "x": 0.1,
          "xanchor": "left",
          "y": 0,
          "yanchor": "top"
         }
        ],
        "template": {
         "data": {
          "bar": [
           {
            "error_x": {
             "color": "#2a3f5f"
            },
            "error_y": {
             "color": "#2a3f5f"
            },
            "marker": {
             "line": {
              "color": "#E5ECF6",
              "width": 0.5
             },
             "pattern": {
              "fillmode": "overlay",
              "size": 10,
              "solidity": 0.2
             }
            },
            "type": "bar"
           }
          ],
          "barpolar": [
           {
            "marker": {
             "line": {
              "color": "#E5ECF6",
              "width": 0.5
             },
             "pattern": {
              "fillmode": "overlay",
              "size": 10,
              "solidity": 0.2
             }
            },
            "type": "barpolar"
           }
          ],
          "carpet": [
           {
            "aaxis": {
             "endlinecolor": "#2a3f5f",
             "gridcolor": "white",
             "linecolor": "white",
             "minorgridcolor": "white",
             "startlinecolor": "#2a3f5f"
            },
            "baxis": {
             "endlinecolor": "#2a3f5f",
             "gridcolor": "white",
             "linecolor": "white",
             "minorgridcolor": "white",
             "startlinecolor": "#2a3f5f"
            },
            "type": "carpet"
           }
          ],
          "choropleth": [
           {
            "colorbar": {
             "outlinewidth": 0,
             "ticks": ""
            },
            "type": "choropleth"
           }
          ],
          "contour": [
           {
            "colorbar": {
             "outlinewidth": 0,
             "ticks": ""
            },
            "colorscale": [
             [
              0,
              "#0d0887"
             ],
             [
              0.1111111111111111,
              "#46039f"
             ],
             [
              0.2222222222222222,
              "#7201a8"
             ],
             [
              0.3333333333333333,
              "#9c179e"
             ],
             [
              0.4444444444444444,
              "#bd3786"
             ],
             [
              0.5555555555555556,
              "#d8576b"
             ],
             [
              0.6666666666666666,
              "#ed7953"
             ],
             [
              0.7777777777777778,
              "#fb9f3a"
             ],
             [
              0.8888888888888888,
              "#fdca26"
             ],
             [
              1,
              "#f0f921"
             ]
            ],
            "type": "contour"
           }
          ],
          "contourcarpet": [
           {
            "colorbar": {
             "outlinewidth": 0,
             "ticks": ""
            },
            "type": "contourcarpet"
           }
          ],
          "heatmap": [
           {
            "colorbar": {
             "outlinewidth": 0,
             "ticks": ""
            },
            "colorscale": [
             [
              0,
              "#0d0887"
             ],
             [
              0.1111111111111111,
              "#46039f"
             ],
             [
              0.2222222222222222,
              "#7201a8"
             ],
             [
              0.3333333333333333,
              "#9c179e"
             ],
             [
              0.4444444444444444,
              "#bd3786"
             ],
             [
              0.5555555555555556,
              "#d8576b"
             ],
             [
              0.6666666666666666,
              "#ed7953"
             ],
             [
              0.7777777777777778,
              "#fb9f3a"
             ],
             [
              0.8888888888888888,
              "#fdca26"
             ],
             [
              1,
              "#f0f921"
             ]
            ],
            "type": "heatmap"
           }
          ],
          "heatmapgl": [
           {
            "colorbar": {
             "outlinewidth": 0,
             "ticks": ""
            },
            "colorscale": [
             [
              0,
              "#0d0887"
             ],
             [
              0.1111111111111111,
              "#46039f"
             ],
             [
              0.2222222222222222,
              "#7201a8"
             ],
             [
              0.3333333333333333,
              "#9c179e"
             ],
             [
              0.4444444444444444,
              "#bd3786"
             ],
             [
              0.5555555555555556,
              "#d8576b"
             ],
             [
              0.6666666666666666,
              "#ed7953"
             ],
             [
              0.7777777777777778,
              "#fb9f3a"
             ],
             [
              0.8888888888888888,
              "#fdca26"
             ],
             [
              1,
              "#f0f921"
             ]
            ],
            "type": "heatmapgl"
           }
          ],
          "histogram": [
           {
            "marker": {
             "pattern": {
              "fillmode": "overlay",
              "size": 10,
              "solidity": 0.2
             }
            },
            "type": "histogram"
           }
          ],
          "histogram2d": [
           {
            "colorbar": {
             "outlinewidth": 0,
             "ticks": ""
            },
            "colorscale": [
             [
              0,
              "#0d0887"
             ],
             [
              0.1111111111111111,
              "#46039f"
             ],
             [
              0.2222222222222222,
              "#7201a8"
             ],
             [
              0.3333333333333333,
              "#9c179e"
             ],
             [
              0.4444444444444444,
              "#bd3786"
             ],
             [
              0.5555555555555556,
              "#d8576b"
             ],
             [
              0.6666666666666666,
              "#ed7953"
             ],
             [
              0.7777777777777778,
              "#fb9f3a"
             ],
             [
              0.8888888888888888,
              "#fdca26"
             ],
             [
              1,
              "#f0f921"
             ]
            ],
            "type": "histogram2d"
           }
          ],
          "histogram2dcontour": [
           {
            "colorbar": {
             "outlinewidth": 0,
             "ticks": ""
            },
            "colorscale": [
             [
              0,
              "#0d0887"
             ],
             [
              0.1111111111111111,
              "#46039f"
             ],
             [
              0.2222222222222222,
              "#7201a8"
             ],
             [
              0.3333333333333333,
              "#9c179e"
             ],
             [
              0.4444444444444444,
              "#bd3786"
             ],
             [
              0.5555555555555556,
              "#d8576b"
             ],
             [
              0.6666666666666666,
              "#ed7953"
             ],
             [
              0.7777777777777778,
              "#fb9f3a"
             ],
             [
              0.8888888888888888,
              "#fdca26"
             ],
             [
              1,
              "#f0f921"
             ]
            ],
            "type": "histogram2dcontour"
           }
          ],
          "mesh3d": [
           {
            "colorbar": {
             "outlinewidth": 0,
             "ticks": ""
            },
            "type": "mesh3d"
           }
          ],
          "parcoords": [
           {
            "line": {
             "colorbar": {
              "outlinewidth": 0,
              "ticks": ""
             }
            },
            "type": "parcoords"
           }
          ],
          "pie": [
           {
            "automargin": true,
            "type": "pie"
           }
          ],
          "scatter": [
           {
            "fillpattern": {
             "fillmode": "overlay",
             "size": 10,
             "solidity": 0.2
            },
            "type": "scatter"
           }
          ],
          "scatter3d": [
           {
            "line": {
             "colorbar": {
              "outlinewidth": 0,
              "ticks": ""
             }
            },
            "marker": {
             "colorbar": {
              "outlinewidth": 0,
              "ticks": ""
             }
            },
            "type": "scatter3d"
           }
          ],
          "scattercarpet": [
           {
            "marker": {
             "colorbar": {
              "outlinewidth": 0,
              "ticks": ""
             }
            },
            "type": "scattercarpet"
           }
          ],
          "scattergeo": [
           {
            "marker": {
             "colorbar": {
              "outlinewidth": 0,
              "ticks": ""
             }
            },
            "type": "scattergeo"
           }
          ],
          "scattergl": [
           {
            "marker": {
             "colorbar": {
              "outlinewidth": 0,
              "ticks": ""
             }
            },
            "type": "scattergl"
           }
          ],
          "scattermapbox": [
           {
            "marker": {
             "colorbar": {
              "outlinewidth": 0,
              "ticks": ""
             }
            },
            "type": "scattermapbox"
           }
          ],
          "scatterpolar": [
           {
            "marker": {
             "colorbar": {
              "outlinewidth": 0,
              "ticks": ""
             }
            },
            "type": "scatterpolar"
           }
          ],
          "scatterpolargl": [
           {
            "marker": {
             "colorbar": {
              "outlinewidth": 0,
              "ticks": ""
             }
            },
            "type": "scatterpolargl"
           }
          ],
          "scatterternary": [
           {
            "marker": {
             "colorbar": {
              "outlinewidth": 0,
              "ticks": ""
             }
            },
            "type": "scatterternary"
           }
          ],
          "surface": [
           {
            "colorbar": {
             "outlinewidth": 0,
             "ticks": ""
            },
            "colorscale": [
             [
              0,
              "#0d0887"
             ],
             [
              0.1111111111111111,
              "#46039f"
             ],
             [
              0.2222222222222222,
              "#7201a8"
             ],
             [
              0.3333333333333333,
              "#9c179e"
             ],
             [
              0.4444444444444444,
              "#bd3786"
             ],
             [
              0.5555555555555556,
              "#d8576b"
             ],
             [
              0.6666666666666666,
              "#ed7953"
             ],
             [
              0.7777777777777778,
              "#fb9f3a"
             ],
             [
              0.8888888888888888,
              "#fdca26"
             ],
             [
              1,
              "#f0f921"
             ]
            ],
            "type": "surface"
           }
          ],
          "table": [
           {
            "cells": {
             "fill": {
              "color": "#EBF0F8"
             },
             "line": {
              "color": "white"
             }
            },
            "header": {
             "fill": {
              "color": "#C8D4E3"
             },
             "line": {
              "color": "white"
             }
            },
            "type": "table"
           }
          ]
         },
         "layout": {
          "annotationdefaults": {
           "arrowcolor": "#2a3f5f",
           "arrowhead": 0,
           "arrowwidth": 1
          },
          "autotypenumbers": "strict",
          "coloraxis": {
           "colorbar": {
            "outlinewidth": 0,
            "ticks": ""
           }
          },
          "colorscale": {
           "diverging": [
            [
             0,
             "#8e0152"
            ],
            [
             0.1,
             "#c51b7d"
            ],
            [
             0.2,
             "#de77ae"
            ],
            [
             0.3,
             "#f1b6da"
            ],
            [
             0.4,
             "#fde0ef"
            ],
            [
             0.5,
             "#f7f7f7"
            ],
            [
             0.6,
             "#e6f5d0"
            ],
            [
             0.7,
             "#b8e186"
            ],
            [
             0.8,
             "#7fbc41"
            ],
            [
             0.9,
             "#4d9221"
            ],
            [
             1,
             "#276419"
            ]
           ],
           "sequential": [
            [
             0,
             "#0d0887"
            ],
            [
             0.1111111111111111,
             "#46039f"
            ],
            [
             0.2222222222222222,
             "#7201a8"
            ],
            [
             0.3333333333333333,
             "#9c179e"
            ],
            [
             0.4444444444444444,
             "#bd3786"
            ],
            [
             0.5555555555555556,
             "#d8576b"
            ],
            [
             0.6666666666666666,
             "#ed7953"
            ],
            [
             0.7777777777777778,
             "#fb9f3a"
            ],
            [
             0.8888888888888888,
             "#fdca26"
            ],
            [
             1,
             "#f0f921"
            ]
           ],
           "sequentialminus": [
            [
             0,
             "#0d0887"
            ],
            [
             0.1111111111111111,
             "#46039f"
            ],
            [
             0.2222222222222222,
             "#7201a8"
            ],
            [
             0.3333333333333333,
             "#9c179e"
            ],
            [
             0.4444444444444444,
             "#bd3786"
            ],
            [
             0.5555555555555556,
             "#d8576b"
            ],
            [
             0.6666666666666666,
             "#ed7953"
            ],
            [
             0.7777777777777778,
             "#fb9f3a"
            ],
            [
             0.8888888888888888,
             "#fdca26"
            ],
            [
             1,
             "#f0f921"
            ]
           ]
          },
          "colorway": [
           "#636efa",
           "#EF553B",
           "#00cc96",
           "#ab63fa",
           "#FFA15A",
           "#19d3f3",
           "#FF6692",
           "#B6E880",
           "#FF97FF",
           "#FECB52"
          ],
          "font": {
           "color": "#2a3f5f"
          },
          "geo": {
           "bgcolor": "white",
           "lakecolor": "white",
           "landcolor": "#E5ECF6",
           "showlakes": true,
           "showland": true,
           "subunitcolor": "white"
          },
          "hoverlabel": {
           "align": "left"
          },
          "hovermode": "closest",
          "mapbox": {
           "style": "light"
          },
          "paper_bgcolor": "white",
          "plot_bgcolor": "#E5ECF6",
          "polar": {
           "angularaxis": {
            "gridcolor": "white",
            "linecolor": "white",
            "ticks": ""
           },
           "bgcolor": "#E5ECF6",
           "radialaxis": {
            "gridcolor": "white",
            "linecolor": "white",
            "ticks": ""
           }
          },
          "scene": {
           "xaxis": {
            "backgroundcolor": "#E5ECF6",
            "gridcolor": "white",
            "gridwidth": 2,
            "linecolor": "white",
            "showbackground": true,
            "ticks": "",
            "zerolinecolor": "white"
           },
           "yaxis": {
            "backgroundcolor": "#E5ECF6",
            "gridcolor": "white",
            "gridwidth": 2,
            "linecolor": "white",
            "showbackground": true,
            "ticks": "",
            "zerolinecolor": "white"
           },
           "zaxis": {
            "backgroundcolor": "#E5ECF6",
            "gridcolor": "white",
            "gridwidth": 2,
            "linecolor": "white",
            "showbackground": true,
            "ticks": "",
            "zerolinecolor": "white"
           }
          },
          "shapedefaults": {
           "line": {
            "color": "#2a3f5f"
           }
          },
          "ternary": {
           "aaxis": {
            "gridcolor": "white",
            "linecolor": "white",
            "ticks": ""
           },
           "baxis": {
            "gridcolor": "white",
            "linecolor": "white",
            "ticks": ""
           },
           "bgcolor": "#E5ECF6",
           "caxis": {
            "gridcolor": "white",
            "linecolor": "white",
            "ticks": ""
           }
          },
          "title": {
           "x": 0.05
          },
          "xaxis": {
           "automargin": true,
           "gridcolor": "white",
           "linecolor": "white",
           "ticks": "",
           "title": {
            "standoff": 15
           },
           "zerolinecolor": "white",
           "zerolinewidth": 2
          },
          "yaxis": {
           "automargin": true,
           "gridcolor": "white",
           "linecolor": "white",
           "ticks": "",
           "title": {
            "standoff": 15
           },
           "zerolinecolor": "white",
           "zerolinewidth": 2
          }
         }
        },
        "updatemenus": [
         {
          "buttons": [
           {
            "args": [
             null,
             {
              "frame": {
               "duration": 500,
               "redraw": true
              },
              "fromcurrent": true,
              "mode": "immediate",
              "transition": {
               "duration": 500,
               "easing": "linear"
              }
             }
            ],
            "label": "&#9654;",
            "method": "animate"
           },
           {
            "args": [
             [
              null
             ],
             {
              "frame": {
               "duration": 0,
               "redraw": true
              },
              "fromcurrent": true,
              "mode": "immediate",
              "transition": {
               "duration": 0,
               "easing": "linear"
              }
             }
            ],
            "label": "&#9724;",
            "method": "animate"
           }
          ],
          "direction": "left",
          "pad": {
           "r": 10,
           "t": 70
          },
          "showactive": false,
          "type": "buttons",
          "x": 0.1,
          "xanchor": "right",
          "y": 0,
          "yanchor": "top"
         }
        ]
       }
      }
     },
     "metadata": {},
     "output_type": "display_data"
    }
   ],
   "source": [
    "model.plot_choropleth()"
   ]
  }
 ],
 "metadata": {
  "kernelspec": {
   "display_name": "base",
   "language": "python",
   "name": "python3"
  },
  "language_info": {
   "codemirror_mode": {
    "name": "ipython",
    "version": 3
   },
   "file_extension": ".py",
   "mimetype": "text/x-python",
   "name": "python",
   "nbconvert_exporter": "python",
   "pygments_lexer": "ipython3",
   "version": "3.9.13"
  },
  "toc-autonumbering": true,
  "vscode": {
   "interpreter": {
    "hash": "47ef90cdf3004d3f859f1fb202523c65c07ba7c22eefd261b181f4744e2d0403"
   }
  }
 },
 "nbformat": 4,
 "nbformat_minor": 4
}
