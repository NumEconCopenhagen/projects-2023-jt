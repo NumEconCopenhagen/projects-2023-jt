{
 "cells": [
  {
   "attachments": {},
   "cell_type": "markdown",
   "metadata": {},
   "source": [
    "# GDP and Population"
   ]
  },
  {
   "attachments": {},
   "cell_type": "markdown",
   "metadata": {},
   "source": [
    "We start by import the modules that we need for our analysis"
   ]
  },
  {
   "cell_type": "code",
   "execution_count": 1,
   "metadata": {},
   "outputs": [
    {
     "name": "stdout",
     "output_type": "stream",
     "text": [
      "Requirement already satisfied: eurostat in /Users/juliane/opt/anaconda3/lib/python3.9/site-packages (1.0.4)\n",
      "Requirement already satisfied: pandas in /Users/juliane/opt/anaconda3/lib/python3.9/site-packages (from eurostat) (1.4.4)\n",
      "Requirement already satisfied: requests in /Users/juliane/opt/anaconda3/lib/python3.9/site-packages (from eurostat) (2.28.1)\n",
      "Requirement already satisfied: python-dateutil>=2.8.1 in /Users/juliane/opt/anaconda3/lib/python3.9/site-packages (from pandas->eurostat) (2.8.2)\n",
      "Requirement already satisfied: pytz>=2020.1 in /Users/juliane/opt/anaconda3/lib/python3.9/site-packages (from pandas->eurostat) (2022.1)\n",
      "Requirement already satisfied: numpy>=1.18.5 in /Users/juliane/opt/anaconda3/lib/python3.9/site-packages (from pandas->eurostat) (1.21.5)\n",
      "Requirement already satisfied: urllib3<1.27,>=1.21.1 in /Users/juliane/opt/anaconda3/lib/python3.9/site-packages (from requests->eurostat) (1.26.11)\n",
      "Requirement already satisfied: idna<4,>=2.5 in /Users/juliane/opt/anaconda3/lib/python3.9/site-packages (from requests->eurostat) (3.3)\n",
      "Requirement already satisfied: charset-normalizer<3,>=2 in /Users/juliane/opt/anaconda3/lib/python3.9/site-packages (from requests->eurostat) (2.0.4)\n",
      "Requirement already satisfied: certifi>=2017.4.17 in /Users/juliane/opt/anaconda3/lib/python3.9/site-packages (from requests->eurostat) (2022.9.24)\n",
      "Requirement already satisfied: six>=1.5 in /Users/juliane/opt/anaconda3/lib/python3.9/site-packages (from python-dateutil>=2.8.1->pandas->eurostat) (1.16.0)\n",
      "Note: you may need to restart the kernel to use updated packages.\n"
     ]
    }
   ],
   "source": [
    "import pandas as pd\n",
    "import numpy as np\n",
    "import matplotlib.pyplot as plt\n",
    "import ipywidgets as widgets\n",
    "from matplotlib_venn import venn2\n",
    "\n",
    "# autoreload modules when code is run\n",
    "%load_ext autoreload\n",
    "%autoreload 2\n",
    "\n",
    "# For this projekt we are going to use the eurostat module, and therefore you will need to run this line of code if you havent installed it yet. If the eurostat module is already installed, you can add a # in front of the next line.\n",
    "%pip install eurostat\n",
    "# user written modules\n",
    "import dataproject as dp"
   ]
  },
  {
   "attachments": {},
   "cell_type": "markdown",
   "metadata": {},
   "source": [
    "In our py-file, we have set up so that our program gets its data directly from the eurostat website. We start by taking a look at the data, so we can clean it"
   ]
  },
  {
   "cell_type": "code",
   "execution_count": 4,
   "metadata": {},
   "outputs": [
    {
     "name": "stdout",
     "output_type": "stream",
     "text": [
      "  freq        unit na_item geo\\TIME_PERIOD  1975  1976  1977  1978  1979  \\\n",
      "0    A  CLV05_MEUR     B1G              AT   NaN   NaN   NaN   NaN   NaN   \n",
      "1    A  CLV05_MEUR     B1G              BA   NaN   NaN   NaN   NaN   NaN   \n",
      "2    A  CLV05_MEUR     B1G              BE   NaN   NaN   NaN   NaN   NaN   \n",
      "3    A  CLV05_MEUR     B1G              BG   NaN   NaN   NaN   NaN   NaN   \n",
      "4    A  CLV05_MEUR     B1G              CH   NaN   NaN   NaN   NaN   NaN   \n",
      "\n",
      "   1980  ...      2013      2014      2015      2016      2017      2018  \\\n",
      "0   NaN  ...  251167.1  252879.7  255017.1  259996.4  266016.9  272985.2   \n",
      "1   NaN  ...    9118.0    9224.4    9358.7    9658.1    9978.2   10355.7   \n",
      "2   NaN  ...  308495.4  313684.3  320657.4  323677.5  328736.7  334655.5   \n",
      "3   NaN  ...   25127.0   25373.6   26129.3   26806.7   27691.2   28654.5   \n",
      "4   NaN  ...  381505.9  390405.6  396747.1  405030.0  410565.5  422877.6   \n",
      "\n",
      "       2019      2020      2021      2022  \n",
      "0  277001.4  259083.6  269392.5  283659.7  \n",
      "1   10650.6   10358.6   11080.5   11427.6  \n",
      "2  342477.2  325482.3  344637.6  355710.6  \n",
      "3   29721.9   28535.0   30816.2   31876.7  \n",
      "4  427969.5  418277.5  435957.0  445107.4  \n",
      "\n",
      "[5 rows x 52 columns]\n"
     ]
    }
   ],
   "source": [
    "print(dp.df.head())"
   ]
  },
  {
   "attachments": {},
   "cell_type": "markdown",
   "metadata": {},
   "source": [
    "As we can see the data is very confusing and does not tell as alot. We therefore have to clean it a bit."
   ]
  },
  {
   "attachments": {},
   "cell_type": "markdown",
   "metadata": {},
   "source": [
    "We start by filtering for the rows we want. We do this in our py file were we chose the gross domestic product in Chain linked volumes (2015), million euro."
   ]
  },
  {
   "attachments": {},
   "cell_type": "markdown",
   "metadata": {},
   "source": [
    "After that we remove the columns that we dont want and rename the columns so that they are representative of the data"
   ]
  },
  {
   "attachments": {},
   "cell_type": "markdown",
   "metadata": {},
   "source": [
    "We then realize that some of our data are aggregates of specific european zones. As we only are after the data for the specific countries, we remove these.\n",
    "We are now left with this dataset:"
   ]
  },
  {
   "cell_type": "code",
   "execution_count": 13,
   "metadata": {},
   "outputs": [
    {
     "name": "stdout",
     "output_type": "stream",
     "text": [
      "         unit na_item Country_code      2012      2013      2014      2015  \\\n",
      "0  CLV15_MEUR    B1GQ           AL   9768.40   9866.20  10041.30  10264.10   \n",
      "1  CLV15_MEUR    B1GQ           AT 338486.50 338572.80 340811.70 344269.20   \n",
      "2  CLV15_MEUR    B1GQ           BA  13695.80  14017.60  14179.30  14791.10   \n",
      "3  CLV15_MEUR    B1GQ           BE 400181.00 402018.80 408364.80 416701.40   \n",
      "4  CLV15_MEUR    B1GQ           BG  44117.00  43869.70  44293.90  45812.30   \n",
      "\n",
      "       2016      2017      2018      2019      2020      2021      2022  \n",
      "0  10604.40  11007.60  11450.00  11689.00  11282.10       NaN       NaN  \n",
      "1 351118.30 359048.50 367756.80 373337.10 349242.10 365156.50 383403.20  \n",
      "2  15270.70  15766.10  16369.80  16842.20  16334.40  17541.80  18225.30  \n",
      "3 421979.70 428814.00 436502.40 446283.80 422356.80 448263.60 462119.80  \n",
      "4  47204.90  48508.80  49811.20  51822.60  49771.20  53571.00  55371.70  \n"
     ]
    }
   ],
   "source": [
    "print(dp.gdp.head())"
   ]
  },
  {
   "attachments": {},
   "cell_type": "markdown",
   "metadata": {},
   "source": [
    "Next we need to get our data for the different populations. This time we filer directly from the eurostat website, ensuring we only get the data we need"
   ]
  },
  {
   "cell_type": "code",
   "execution_count": 14,
   "metadata": {},
   "outputs": [
    {
     "name": "stdout",
     "output_type": "stream",
     "text": [
      "  Country_code       2012       2013       2014       2015       2016  \\\n",
      "0           AD   78115.00   76246.00        NaN        NaN        NaN   \n",
      "1           AL 2903008.00 2897770.00 2892394.00 2885796.00 2875592.00   \n",
      "2           AM 3274285.00        NaN        NaN 3010598.00 2998577.00   \n",
      "3           AT 8408121.00 8451860.00 8507786.00 8584926.00 8700471.00   \n",
      "4           AZ 9235085.00 9356483.00 9477119.00 9593038.00 9705643.00   \n",
      "\n",
      "        2017       2018       2019        2020        2021       2022  \n",
      "0        NaN        NaN   76177.00         NaN         NaN        NaN  \n",
      "1 2876591.00 2870324.00 2862427.00  2845955.00  2829741.00        NaN  \n",
      "2 2986151.00 2972732.00 2965269.00  2959694.00  2963251.00        NaN  \n",
      "3 8772865.00 8822267.00 8858775.00  8901064.00  8932664.00 8978929.00  \n",
      "4 9809981.00 9898085.00 9981457.00 10067108.00 10119133.00        NaN  \n"
     ]
    }
   ],
   "source": [
    "print(dp.population.head())"
   ]
  },
  {
   "attachments": {},
   "cell_type": "markdown",
   "metadata": {},
   "source": [
    "Next we convert the data to \"long\" datasets, making it possible for us to merge them, the merged set will be called \"inner\"."
   ]
  },
  {
   "attachments": {},
   "cell_type": "markdown",
   "metadata": {},
   "source": [
    "In our inner dataset we then delete all the rows that how NaN as values for all years for either GDP or population. Next we use the populations and GDP to calculate GDP per capita for the selected countries"
   ]
  },
  {
   "cell_type": "code",
   "execution_count": 15,
   "metadata": {},
   "outputs": [
    {
     "name": "stdout",
     "output_type": "stream",
     "text": [
      "  Country_code  year        unit na_item       GDP  Population  GDP/Cap\n",
      "0           AL  2012  CLV15_MEUR    B1GQ   9768.40  2903008.00  3364.92\n",
      "1           AT  2012  CLV15_MEUR    B1GQ 338486.50  8408121.00 40257.09\n",
      "2           BA  2012  CLV15_MEUR    B1GQ  13695.80  3839265.00  3567.30\n",
      "3           BE  2012  CLV15_MEUR    B1GQ 400181.00 11075889.00 36130.82\n",
      "4           BG  2012  CLV15_MEUR    B1GQ  44117.00  7327224.00  6020.97\n"
     ]
    }
   ],
   "source": [
    "print(dp.inner.head())"
   ]
  },
  {
   "attachments": {},
   "cell_type": "markdown",
   "metadata": {},
   "source": [
    "Finally we check that we have equal values for all the different parameters, making it possible for us to create scatter plots."
   ]
  },
  {
   "cell_type": "code",
   "execution_count": 16,
   "metadata": {},
   "outputs": [
    {
     "data": {
      "text/plain": [
       "Country_code    396\n",
       "year            396\n",
       "unit            396\n",
       "na_item         396\n",
       "GDP             396\n",
       "Population      396\n",
       "GDP/Cap         396\n",
       "dtype: int64"
      ]
     },
     "execution_count": 16,
     "metadata": {},
     "output_type": "execute_result"
    }
   ],
   "source": [
    "dp.inner.count()"
   ]
  },
  {
   "attachments": {},
   "cell_type": "markdown",
   "metadata": {},
   "source": [
    "The first plot we are making is an interactive plot were you can see the development in GDP for each country in the period 2012-2022"
   ]
  },
  {
   "cell_type": "code",
   "execution_count": 2,
   "metadata": {},
   "outputs": [
    {
     "data": {
      "application/vnd.jupyter.widget-view+json": {
       "model_id": "b96205326d7748e3a6aafcf6163983b5",
       "version_major": 2,
       "version_minor": 0
      },
      "text/plain": [
       "interactive(children=(Dropdown(description='Country_code', index=9, options=('AL', 'AT', 'BA', 'BE', 'BG', 'CH…"
      ]
     },
     "metadata": {},
     "output_type": "display_data"
    }
   ],
   "source": [
    "def plot_e(inner, Country_code): \n",
    "    I = dp.inner['Country_code'] == Country_code\n",
    "    ax=dp.inner.loc[I,:].plot(x='year', y='GDP/Cap', style='-o', legend=False)\n",
    "    ax.set_xlim(dp.inner['year'].min(), dp.inner['year'].max())\n",
    "    ax.set_ylabel('GDP per capita in euros')\n",
    "    ax.set_title(f\"GDP per capita 2012-2022 for {Country_code}\")\n",
    "    ax.set_xticks(np.arange(dp.inner['year'].min(), dp.inner['year'].max()+1))\n",
    "\n",
    "widgets.interact(plot_e, \n",
    "    inner = widgets.fixed(dp.inner),\n",
    "    Country_code = widgets.Dropdown(name='Country_code', \n",
    "                                    options=dp.inner.Country_code.unique(), \n",
    "                                    value='DK')\n",
    "    ); "
   ]
  },
  {
   "attachments": {},
   "cell_type": "markdown",
   "metadata": {},
   "source": [
    "Next up we create an interactive scatterplot of GDP per capita and population for the highlighted years."
   ]
  },
  {
   "cell_type": "code",
   "execution_count": 3,
   "metadata": {},
   "outputs": [
    {
     "data": {
      "application/vnd.jupyter.widget-view+json": {
       "model_id": "022de7fe13bb4f87b4f7320ce6e869fc",
       "version_major": 2,
       "version_minor": 0
      },
      "text/plain": [
       "interactive(children=(Dropdown(description='Year:', index=10, options=(2012, 2013, 2014, 2015, 2016, 2017, 201…"
      ]
     },
     "metadata": {},
     "output_type": "display_data"
    },
    {
     "data": {
      "text/plain": [
       "<function __main__.plot_f(inner, year)>"
      ]
     },
     "execution_count": 3,
     "metadata": {},
     "output_type": "execute_result"
    }
   ],
   "source": [
    "def plot_f(inner, year):\n",
    "    I = dp.inner['year'] == year\n",
    "    ax = dp.inner.loc[I,:].plot(x='GDP/Cap', y='Population', style='o', legend=False)\n",
    "    ax.set_ylabel('Population in millions')\n",
    "    ax.set_xlabel('GDP per capita in euros')\n",
    "    ax.set_title(f\"Scatterplot of GDP per capita and Population for {year}\")\n",
    "    plt.subplots_adjust(left=0.2, right=1, top=0.9, bottom=0.1)\n",
    "    plt.show()\n",
    "    \n",
    "year_widget = widgets.Dropdown(options=dp.inner['year'].unique(), value=2022, description='Year:')\n",
    "widgets.interact(plot_f, inner=widgets.fixed(dp.inner), year=year_widget)"
   ]
  },
  {
   "attachments": {},
   "cell_type": "markdown",
   "metadata": {},
   "source": [
    "We will now do some standard caluculations for the data, mean value, average, etc.\n",
    "In this we also change the format of the output, to make it more readable. "
   ]
  },
  {
   "cell_type": "code",
   "execution_count": 19,
   "metadata": {},
   "outputs": [
    {
     "data": {
      "text/html": [
       "<div>\n",
       "<style scoped>\n",
       "    .dataframe tbody tr th:only-of-type {\n",
       "        vertical-align: middle;\n",
       "    }\n",
       "\n",
       "    .dataframe tbody tr th {\n",
       "        vertical-align: top;\n",
       "    }\n",
       "\n",
       "    .dataframe thead th {\n",
       "        text-align: right;\n",
       "    }\n",
       "</style>\n",
       "<table border=\"1\" class=\"dataframe\">\n",
       "  <thead>\n",
       "    <tr style=\"text-align: right;\">\n",
       "      <th></th>\n",
       "      <th>year</th>\n",
       "      <th>GDP</th>\n",
       "      <th>Population</th>\n",
       "      <th>GDP/Cap</th>\n",
       "    </tr>\n",
       "  </thead>\n",
       "  <tbody>\n",
       "    <tr>\n",
       "      <th>count</th>\n",
       "      <td>396.00</td>\n",
       "      <td>396.00</td>\n",
       "      <td>396.00</td>\n",
       "      <td>396.00</td>\n",
       "    </tr>\n",
       "    <tr>\n",
       "      <th>mean</th>\n",
       "      <td>2016.93</td>\n",
       "      <td>455078.59</td>\n",
       "      <td>16427120.83</td>\n",
       "      <td>28464.50</td>\n",
       "    </tr>\n",
       "    <tr>\n",
       "      <th>std</th>\n",
       "      <td>3.14</td>\n",
       "      <td>732122.54</td>\n",
       "      <td>23181705.27</td>\n",
       "      <td>22191.51</td>\n",
       "    </tr>\n",
       "    <tr>\n",
       "      <th>min</th>\n",
       "      <td>2012.00</td>\n",
       "      <td>3353.70</td>\n",
       "      <td>319575.00</td>\n",
       "      <td>3364.92</td>\n",
       "    </tr>\n",
       "    <tr>\n",
       "      <th>25%</th>\n",
       "      <td>2014.00</td>\n",
       "      <td>36851.28</td>\n",
       "      <td>2076912.75</td>\n",
       "      <td>11794.94</td>\n",
       "    </tr>\n",
       "    <tr>\n",
       "      <th>50%</th>\n",
       "      <td>2017.00</td>\n",
       "      <td>177109.70</td>\n",
       "      <td>6981901.50</td>\n",
       "      <td>20282.00</td>\n",
       "    </tr>\n",
       "    <tr>\n",
       "      <th>75%</th>\n",
       "      <td>2020.00</td>\n",
       "      <td>452793.88</td>\n",
       "      <td>11412821.50</td>\n",
       "      <td>40758.39</td>\n",
       "    </tr>\n",
       "    <tr>\n",
       "      <th>max</th>\n",
       "      <td>2022.00</td>\n",
       "      <td>3261011.60</td>\n",
       "      <td>83614362.00</td>\n",
       "      <td>98633.75</td>\n",
       "    </tr>\n",
       "  </tbody>\n",
       "</table>\n",
       "</div>"
      ],
      "text/plain": [
       "         year        GDP  Population  GDP/Cap\n",
       "count  396.00     396.00      396.00   396.00\n",
       "mean  2016.93  455078.59 16427120.83 28464.50\n",
       "std      3.14  732122.54 23181705.27 22191.51\n",
       "min   2012.00    3353.70   319575.00  3364.92\n",
       "25%   2014.00   36851.28  2076912.75 11794.94\n",
       "50%   2017.00  177109.70  6981901.50 20282.00\n",
       "75%   2020.00  452793.88 11412821.50 40758.39\n",
       "max   2022.00 3261011.60 83614362.00 98633.75"
      ]
     },
     "execution_count": 19,
     "metadata": {},
     "output_type": "execute_result"
    }
   ],
   "source": [
    "pd.options.display.float_format = '{:.2f}'.format\n",
    "dp.inner.describe()"
   ]
  },
  {
   "attachments": {},
   "cell_type": "markdown",
   "metadata": {},
   "source": [
    "From the above calculations we can see that the mean value for GDP per capita across all the countries and the years is 28464.5 euros, with a standard deviation of 22191.51 euros. \n",
    "The GDP per capita values vary quiet a bit with a minimum value of 3364.92 euros and a maximum of 98633.75 euros. \n",
    "\n",
    "By looking at the scatterplot that shows population against GDP per capita in euros, it can be seen that the countries with a high GDP per capita also have a relatively small population, ofcourse this does not mean that a high GDP per capita equals a small population, it is more likely that it is the other way around. \n",
    "\n",
    "By looking at the scatterplot that shows how the GDP per capita has evolved for each country over the years 2012-2022, we can see that there has been a genereal growth in the GDP per capita, with the exception of 2020, which most likely is due to the corona pandemic"
   ]
  }
 ],
 "metadata": {
  "kernelspec": {
   "display_name": "base",
   "language": "python",
   "name": "python3"
  },
  "language_info": {
   "codemirror_mode": {
    "name": "ipython",
    "version": 3
   },
   "file_extension": ".py",
   "mimetype": "text/x-python",
   "name": "python",
   "nbconvert_exporter": "python",
   "pygments_lexer": "ipython3",
   "version": "3.9.13"
  },
  "toc-autonumbering": true,
  "vscode": {
   "interpreter": {
    "hash": "47ef90cdf3004d3f859f1fb202523c65c07ba7c22eefd261b181f4744e2d0403"
   }
  }
 },
 "nbformat": 4,
 "nbformat_minor": 4
}
