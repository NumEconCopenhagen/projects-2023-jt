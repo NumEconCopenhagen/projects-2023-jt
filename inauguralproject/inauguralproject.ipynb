{
 "cells": [
  {
   "cell_type": "markdown",
   "metadata": {},
   "source": [
    "# Inaugural Project"
   ]
  },
  {
   "attachments": {},
   "cell_type": "markdown",
   "metadata": {},
   "source": [
    "> **Note the following:** \n",
    "> 1. This is an example of how to structure your **inaugural project**.\n",
    "> 1. Remember the general advice on structuring and commenting your code\n",
    "> 1. The `inauguralproject.py` file includes a function which can be used multiple times in this notebook."
   ]
  },
  {
   "cell_type": "code",
   "execution_count": null,
   "metadata": {},
   "outputs": [],
   "source": [
    "import numpy as np\n",
    "import matplotlib.pyplot as plt\n",
    "import scipy.optimize\n",
    "import mpl_toolkits.mplot3d\n",
    "\n",
    "# autoreload modules when code is run. Otherwise, python will not see recent changes. \n",
    "%load_ext autoreload\n",
    "%autoreload 2\n",
    "\n",
    "# Import your own code\n",
    "import inauguralproject\n",
    "from HouseholdSpecializationModel import  HouseholdSpecializationModelClass\n",
    "\n"
   ]
  },
  {
   "cell_type": "code",
   "execution_count": null,
   "metadata": {},
   "outputs": [],
   "source": [
    "model = HouseholdSpecializationModelClass()\n",
    "\n",
    "# set values of alpha and sigma\n",
    "alpha_values = [0.25, 0.5, 0.75]\n",
    "sigma_values = [0.5, 1, 1.5]\n",
    "\n",
    "# create empty lists\n",
    "HM_list = []\n",
    "HF_list = []\n",
    "\n",
    "# loop over alpha and sigma values\n",
    "for alpha in alpha_values:\n",
    "    for sigma in sigma_values:\n",
    "        \n",
    "        # set values of alpha and sigma in model parameters\n",
    "        model.par.alpha = alpha\n",
    "        model.par.sigma = sigma\n",
    "        \n",
    "        # solve model discretely\n",
    "        opt = model.solve_discrete()\n",
    "        \n",
    "        # append optimal HM and HF values to lists\n",
    "        HM_list.append(opt.HM)\n",
    "        HF_list.append(opt.HF)\n",
    "        \n",
    "# print lists of HM and HF values\n",
    "#print(\"HM values:\", HM_list)\n",
    "#print(\"HF values:\", HF_list)\n",
    "\n",
    "\n",
    "# Converting to arrays to use numpy functions\n",
    "HM_array = np.array(HM_list)\n",
    "HF_array = np.array(HF_list)\n",
    "\n",
    "# Finding the ratio\n",
    "HF_HM_ratio = HF_array / HM_array\n",
    "\n",
    "# Plotting\n",
    "#print(\"HF / HM Ratio\", HF_HM_ratio)\n",
    "\n",
    "# Reshaping the array to a matrix with alpha on the rows and sigma on the columns\n",
    "HF_HM_matrix = HF_HM_ratio.reshape(len(alpha_values), len(sigma_values))\n",
    "\n",
    "# Plotting the ratios for the different alphas with sigma as a fixed variable\n",
    "for i in range(len(sigma_values)):\n",
    "    plt.plot(alpha_values, HF_HM_matrix[:,i], label='Sigma='+str(sigma_values[i]))\n",
    "\n",
    "plt.xlabel('Alpha')\n",
    "plt.ylabel('HF/HM Ratio')\n",
    "plt.title('HF/HM Ratio for different alpha and sigma values')\n",
    "plt.legend()\n",
    "plt.show()\n",
    "\n"
   ]
  },
  {
   "cell_type": "markdown",
   "metadata": {},
   "source": [
    "# Question 2"
   ]
  },
  {
   "attachments": {},
   "cell_type": "markdown",
   "metadata": {},
   "source": [
    "plotting $Wf/Wm$ ratio"
   ]
  },
  {
   "cell_type": "code",
   "execution_count": null,
   "metadata": {},
   "outputs": [],
   "source": [
    "# Create arrays for WF/WM ratio\n",
    "WFlist = np.linspace(0.8, 1.2, 9)\n",
    "WM = np.ones(9)\n",
    "WF = np.array(WFlist)\n",
    "WF_WM_r = WF / WM\n",
    "\n",
    "# Take log of values\n",
    "log_wf_wm_r = np.log(WF_WM_r)\n",
    "log_hf_hm = np.log(HF_HM_ratio)\n",
    "\n",
    "# Plot\n",
    "print(len(log_wf_wm_r), len(log_hf_hm))\n",
    "plt.scatter(log_hf_hm, log_wf_wm_r)\n",
    "slope, intercept = np.polyfit(log_hf_hm, log_wf_wm_r, 1)\n",
    "plt.plot(log_hf_hm, slope * log_hf_hm + intercept, color='blue')\n",
    "plt.xlabel(\"Log of Hf/Hm Ratio\")\n",
    "plt.ylabel(\"Log of Wf/Wm Ratio\")\n",
    "plt.title(\"Log of Hf/Hm and Wf/Wm\")\n",
    "plt.show()"
   ]
  },
  {
   "cell_type": "markdown",
   "metadata": {},
   "source": [
    "# Question 3"
   ]
  },
  {
   "attachments": {},
   "cell_type": "markdown",
   "metadata": {},
   "source": [
    "Plot the $Wf / Wm$ ratio for the continuous values "
   ]
  },
  {
   "cell_type": "code",
   "execution_count": null,
   "metadata": {},
   "outputs": [],
   "source": [
    "model = HouseholdSpecializationModelClass()\n",
    "\n",
    "# set values of alpha and sigma\n",
    "alpha_values = [0.25, 0.5, 0.75]\n",
    "sigma_values = [0.5, 1, 1.5]\n",
    "\n",
    "# create empty lists\n",
    "HM_list = []\n",
    "HF_list = []\n",
    "\n",
    "# loop over alpha and sigma values\n",
    "for alpha in alpha_values:\n",
    "    for sigma in sigma_values:\n",
    "        \n",
    "        # set values of alpha and sigma in model parameters\n",
    "        model.par.alpha = alpha\n",
    "        model.par.sigma = sigma\n",
    "        \n",
    "        # solve model continuously\n",
    "        opt = model.solve()\n",
    "        \n",
    "        # append optimal HM and HF values to lists\n",
    "        HM_list.append(opt.HM)\n",
    "        HF_list.append(opt.HF)\n",
    "        \n",
    "# print lists of HM and HF values\n",
    "#print(\"HM values:\", HM_list)\n",
    "#print(\"HF values:\", HF_list)\n",
    "\n",
    "\n",
    "# Converting to arrays to use numpy functions\n",
    "HM_array = np.array(HM_list)\n",
    "HF_array = np.array(HF_list)\n",
    "\n",
    "# Finding the ratio\n",
    "HF_HM_ratio = HF_array / HM_array\n",
    "\n",
    "# Plotting\n",
    "#print(\"HF / HM Ratio\", HF_HM_ratio)\n",
    "\n",
    "# Reshaping the array to a matrix with alpha on the rows and sigma on the columns\n",
    "HF_HM_matrix = HF_HM_ratio.reshape(len(alpha_values), len(sigma_values))\n",
    "\n",
    "# Plotting the ratios for the different alphas with sigma as a fixed variable\n",
    "for i in range(len(sigma_values)):\n",
    "    plt.plot(alpha_values, HF_HM_matrix[:,i], label='Sigma='+str(sigma_values[i]))\n",
    "\n",
    "plt.xlabel('Alpha')\n",
    "plt.ylabel('HF/HM Ratio')\n",
    "plt.title('HF/HM Ratio for different alpha and sigma values')\n",
    "plt.legend()\n",
    "plt.show()\n"
   ]
  },
  {
   "attachments": {},
   "cell_type": "markdown",
   "metadata": {},
   "source": [
    "# Question 4"
   ]
  },
  {
   "cell_type": "markdown",
   "metadata": {},
   "source": []
  },
  {
   "cell_type": "code",
   "execution_count": null,
   "metadata": {},
   "outputs": [],
   "source": []
  },
  {
   "attachments": {},
   "cell_type": "markdown",
   "metadata": {},
   "source": [
    "# Question 5"
   ]
  },
  {
   "cell_type": "markdown",
   "metadata": {},
   "source": []
  },
  {
   "cell_type": "markdown",
   "metadata": {},
   "source": [
    "ADD CONCISE CONLUSION."
   ]
  }
 ],
 "metadata": {
  "kernelspec": {
   "display_name": "base",
   "language": "python",
   "name": "python3"
  },
  "language_info": {
   "codemirror_mode": {
    "name": "ipython",
    "version": 3
   },
   "file_extension": ".py",
   "mimetype": "text/x-python",
   "name": "python",
   "nbconvert_exporter": "python",
   "pygments_lexer": "ipython3",
   "version": "3.9.13"
  },
  "toc-autonumbering": true,
  "vscode": {
   "interpreter": {
    "hash": "47ef90cdf3004d3f859f1fb202523c65c07ba7c22eefd261b181f4744e2d0403"
   }
  }
 },
 "nbformat": 4,
 "nbformat_minor": 4
}
