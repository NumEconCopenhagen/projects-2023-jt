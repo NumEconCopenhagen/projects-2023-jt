{
 "cells": [
  {
   "cell_type": "markdown",
   "metadata": {},
   "source": [
    "# Inaugural Project"
   ]
  },
  {
   "cell_type": "code",
   "execution_count": 49,
   "metadata": {},
   "outputs": [
    {
     "name": "stdout",
     "output_type": "stream",
     "text": [
      "The autoreload extension is already loaded. To reload it, use:\n",
      "  %reload_ext autoreload\n",
      "LM = 7.0000\n",
      "HM = 1.5000\n",
      "LF = 7.0000\n",
      "HF = 2.0000\n"
     ]
    },
    {
     "data": {
      "text/plain": [
       "namespace(LM=7.0, HM=1.5, LF=7.0, HF=2.0)"
      ]
     },
     "execution_count": 49,
     "metadata": {},
     "output_type": "execute_result"
    }
   ],
   "source": [
    "\n",
    "# autoreload modules when code is run. Otherwise, python will not see recent changes. \n",
    "%load_ext autoreload\n",
    "%autoreload 2\n",
    "\n",
    "from inagtobias import householdclass\n",
    "model = householdclass()\n",
    "model.solve_discrete(do_print=True)"
   ]
  },
  {
   "cell_type": "code",
   "execution_count": 55,
   "metadata": {},
   "outputs": [
    {
     "name": "stdout",
     "output_type": "stream",
     "text": [
      "[namespace(LM=3.0, HM=5.5, LF=6.0, HF=3.0), namespace(LM=3.0, HM=5.5, LF=6.0, HF=3.0), namespace(LM=3.0, HM=5.5, LF=6.0, HF=3.0), namespace(LM=3.0, HM=5.5, LF=6.0, HF=3.0), namespace(LM=3.0, HM=5.5, LF=6.0, HF=3.0), namespace(LM=3.0, HM=5.5, LF=6.0, HF=3.0), namespace(LM=3.0, HM=5.5, LF=6.0, HF=3.0), namespace(LM=3.0, HM=5.5, LF=6.0, HF=3.0), namespace(LM=3.0, HM=5.5, LF=6.0, HF=3.0)]\n"
     ]
    },
    {
     "name": "stderr",
     "output_type": "stream",
     "text": [
      "/Users/tobiasbeyer/Desktop/Polit/3. Semester/Prog/projects-2023-jt/inauguralproject/inagtobias.py:62: RuntimeWarning: divide by zero encountered in reciprocal\n",
      "  \n",
      "/Users/tobiasbeyer/Desktop/Polit/3. Semester/Prog/projects-2023-jt/inauguralproject/inagtobias.py:62: RuntimeWarning: invalid value encountered in reciprocal\n",
      "  \n"
     ]
    }
   ],
   "source": [
    "dsolve = model.solve_discrete()\n",
    "al = [0.25, 0.5, 0.75]\n",
    "sl = [0.5, 1, 1.5]\n",
    "solutions = []\n",
    "\n",
    "for i in al:\n",
    "    model.par.alpha = i\n",
    "    for j in sl:\n",
    "        model.par.sigma = j\n",
    "        solutions.append(dsolve)\n",
    "       \n",
    "print(solutions)\n",
    "\n",
    "\n"
   ]
  }
 ],
 "metadata": {
  "kernelspec": {
   "display_name": "base",
   "language": "python",
   "name": "python3"
  },
  "language_info": {
   "codemirror_mode": {
    "name": "ipython",
    "version": 3
   },
   "file_extension": ".py",
   "mimetype": "text/x-python",
   "name": "python",
   "nbconvert_exporter": "python",
   "pygments_lexer": "ipython3",
   "version": "3.9.13"
  },
  "toc-autonumbering": true,
  "vscode": {
   "interpreter": {
    "hash": "e4dc7e57357fb9946664ec6bf4aceec1850953e91c14f176c35e505538dfecf0"
   }
  }
 },
 "nbformat": 4,
 "nbformat_minor": 4
}
