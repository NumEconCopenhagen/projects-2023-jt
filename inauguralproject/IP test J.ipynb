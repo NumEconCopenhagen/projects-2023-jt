{
 "cells": [
  {
   "cell_type": "markdown",
   "metadata": {},
   "source": [
    "# Inaugural Project"
   ]
  },
  {
   "attachments": {},
   "cell_type": "markdown",
   "metadata": {},
   "source": [
    "> **Note the following:** \n",
    "> 1. This is an example of how to structure your **inaugural project**.\n",
    "> 1. Remember the general advice on structuring and commenting your code\n",
    "> 1. The `inauguralproject.py` file includes a function which can be used multiple times in this notebook."
   ]
  },
  {
   "cell_type": "markdown",
   "metadata": {},
   "source": [
    "Imports and set magics:"
   ]
  },
  {
   "cell_type": "code",
   "execution_count": null,
   "metadata": {},
   "outputs": [],
   "source": [
    "\n",
    "# autoreload modules when code is run. Otherwise, python will not see recent changes. \n",
    "%load_ext autoreload\n",
    "%autoreload 2\n",
    "\n",
    "from types import SimpleNamespace\n",
    "import numpy as np\n",
    "from scipy.optimize import optimize\n",
    "from scipy.optimize import minimize_scalar\n",
    "import matplotlib.pyplot as plt\n",
    "import pandas as pd\n",
    "plt.rcParams.update({\"axes.grid\":True,\"grid.color\":\"black\",\"grid.alpha\":\"0.25\",\"grid.linestyle\":\"--\"})\n",
    "plt.rcParams.update({'font.size': 14})\n",
    "\n",
    "\n"
   ]
  },
  {
   "attachments": {},
   "cell_type": "markdown",
   "metadata": {},
   "source": [
    "$$\n",
    "\\begin{equation}\n",
    "    \\max_{L_M, H_M, L_F, H_F} \\frac{Q^{1-\\rho}}{1-\\rho} - \\nu \\left( \\frac{T^{1+\\frac{1}{\\epsilon}_M}} {1+\\frac{1}{\\epsilon}} + \\frac{T^{1+\\frac{1}{\\epsilon}}_F} {1+\\frac{1}{\\epsilon}} \\right)\n",
    "\\end{equation}\n",
    "$$"
   ]
  },
  {
   "attachments": {},
   "cell_type": "markdown",
   "metadata": {},
   "source": [
    "Solving the maximization problem given the baseline parameters. "
   ]
  },
  {
   "cell_type": "markdown",
   "metadata": {},
   "source": [
    "# Question 1"
   ]
  },
  {
   "cell_type": "markdown",
   "metadata": {},
   "source": [
    "**Explain how you solve the model**"
   ]
  },
  {
   "cell_type": "code",
   "execution_count": 23,
   "metadata": {},
   "outputs": [
    {
     "name": "stdout",
     "output_type": "stream",
     "text": [
      "[       nan 0.30769231        nan        nan 1.                nan\n",
      "        nan 3.25              nan]\n"
     ]
    },
    {
     "name": "stderr",
     "output_type": "stream",
     "text": [
      "/var/folders/5k/cbgd218j5d30nkg1dkw057100000gn/T/ipykernel_64907/3432239118.py:33: RuntimeWarning: invalid value encountered in true_divide\n",
      "  ratio = Hf_array / Hm_array\n"
     ]
    }
   ],
   "source": [
    "from JHouseholdSpecializationModel import HouseholdSpecializationModelClass\n",
    "\n",
    "# Defining the model, by using the imported class. \n",
    "Model = HouseholdSpecializationModelClass()\n",
    "\n",
    "vec_alpha = [0.25 , 0.50 , 0.75]\n",
    "vec_sigma = [0.5 , 1.0 , 1.5]\n",
    "\n",
    "# empty lists for Hm og Hf \n",
    "Hm_list =[]\n",
    "Hf_list =[]\n",
    "\n",
    "# We make a loop that loops over the two vectors alpha and sigma to illustrate how Hf/Hm changes.\n",
    "# Creating the loop \n",
    "for alpha in vec_alpha : \n",
    "    for sigma in vec_sigma : \n",
    "\n",
    "        Model.par.alpha = alpha\n",
    "        Model.par.sigma = sigma\n",
    "      \n",
    "        # Solving the model\n",
    "        opt = Model.solve_discrete()\n",
    "\n",
    "        # add the optimal values for Hm and Hf to the empty lists\n",
    "        Hm_list.append(opt.HM)\n",
    "        Hf_list.append(opt.HF)\n",
    "\n",
    "# we transform the lists in to arrays, so that we can do calculations with them.\n",
    "Hm_array = np.array(Hm_list)\n",
    "Hf_array = np.array(Hf_list)\n",
    "\n",
    "# Creating the Hf-Hm ratio\n",
    "ratio = Hf_array / Hm_array\n",
    "print(ratio)\n",
    "       \n",
    "# We create a matrix with alpha values for the rows and sigma values for the columns.       \n",
    "matrix = ratio.reshape(len(vec_alpha),len(vec_sigma)) \n",
    "\n",
    "        \n",
    "\n",
    "\n"
   ]
  },
  {
   "cell_type": "markdown",
   "metadata": {},
   "source": [
    "# Question 2"
   ]
  },
  {
   "cell_type": "markdown",
   "metadata": {},
   "source": [
    "Explain your code and procedure"
   ]
  },
  {
   "cell_type": "code",
   "execution_count": null,
   "metadata": {},
   "outputs": [],
   "source": [
    "# code\n",
    "\n",
    "\n",
    "\n"
   ]
  },
  {
   "cell_type": "markdown",
   "metadata": {},
   "source": [
    "# Question 3"
   ]
  },
  {
   "cell_type": "markdown",
   "metadata": {},
   "source": [
    "Explain your code and procedure"
   ]
  },
  {
   "cell_type": "code",
   "execution_count": 15,
   "metadata": {},
   "outputs": [
    {
     "name": "stdout",
     "output_type": "stream",
     "text": [
      "[0.00000000e+00 2.77777778e-04 5.55555556e-04 ... 2.39994444e+01\n",
      " 2.39997222e+01 2.40000000e+01]\n"
     ]
    }
   ],
   "source": [
    "# Due to the choice set now being continuous, to be able to make an actual choice set,\n",
    "# we assume that each person now can schedule their work down to the minute, \n",
    "# which could be written as a linspace: \n",
    "\n",
    "continuous = np.linspace(0,24,86401) # the reason for using 86401, is that that is the amount of seconds in a day.\n",
    "print(continuous)"
   ]
  },
  {
   "cell_type": "markdown",
   "metadata": {},
   "source": [
    "ADD CONCISE CONLUSION."
   ]
  },
  {
   "cell_type": "code",
   "execution_count": null,
   "metadata": {},
   "outputs": [],
   "source": []
  }
 ],
 "metadata": {
  "kernelspec": {
   "display_name": "base",
   "language": "python",
   "name": "python3"
  },
  "language_info": {
   "codemirror_mode": {
    "name": "ipython",
    "version": 3
   },
   "file_extension": ".py",
   "mimetype": "text/x-python",
   "name": "python",
   "nbconvert_exporter": "python",
   "pygments_lexer": "ipython3",
   "version": "3.9.13"
  },
  "toc-autonumbering": true,
  "vscode": {
   "interpreter": {
    "hash": "e4dc7e57357fb9946664ec6bf4aceec1850953e91c14f176c35e505538dfecf0"
   }
  }
 },
 "nbformat": 4,
 "nbformat_minor": 4
}
