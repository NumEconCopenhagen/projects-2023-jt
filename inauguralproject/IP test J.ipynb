{
 "cells": [
  {
   "cell_type": "markdown",
   "metadata": {},
   "source": [
    "# Inaugural Project"
   ]
  },
  {
   "attachments": {},
   "cell_type": "markdown",
   "metadata": {},
   "source": [
    "> **Note the following:** \n",
    "> 1. This is an example of how to structure your **inaugural project**.\n",
    "> 1. Remember the general advice on structuring and commenting your code\n",
    "> 1. The `inauguralproject.py` file includes a function which can be used multiple times in this notebook."
   ]
  },
  {
   "cell_type": "markdown",
   "metadata": {},
   "source": [
    "Imports and set magics:"
   ]
  },
  {
   "cell_type": "code",
   "execution_count": 3,
   "metadata": {},
   "outputs": [],
   "source": [
    "\n",
    "# autoreload modules when code is run. Otherwise, python will not see recent changes. \n",
    "%load_ext autoreload\n",
    "%autoreload 2\n",
    "\n",
    "from types import SimpleNamespace\n",
    "import numpy as np\n",
    "from scipy.optimize import optimize\n",
    "from scipy.optimize import minimize_scalar\n",
    "import matplotlib.pyplot as plt\n",
    "plt.rcParams.update({\"axes.grid\":True,\"grid.color\":\"black\",\"grid.alpha\":\"0.25\",\"grid.linestyle\":\"--\"})\n",
    "plt.rcParams.update({'font.size': 14})\n",
    "\n",
    "\n"
   ]
  },
  {
   "attachments": {},
   "cell_type": "markdown",
   "metadata": {},
   "source": [
    "$$\n",
    "\\begin{equation}\n",
    "    \\max_{L_M, H_M, L_F, H_F} \\frac{Q^{1-\\rho}}{1-\\rho} - \\nu \\left( \\frac{T^{1+\\frac{1}{\\epsilon}_M}} {1+\\frac{1}{\\epsilon}} + \\frac{T^{1+\\frac{1}{\\epsilon}}_F} {1+\\frac{1}{\\epsilon}} \\right)\n",
    "\\end{equation}\n",
    "$$"
   ]
  },
  {
   "attachments": {},
   "cell_type": "markdown",
   "metadata": {},
   "source": [
    "Solving the maximization problem given the baseline parameters. "
   ]
  },
  {
   "cell_type": "markdown",
   "metadata": {},
   "source": [
    "# Question 1"
   ]
  },
  {
   "cell_type": "markdown",
   "metadata": {},
   "source": [
    "**Explain how you solve the model**"
   ]
  },
  {
   "cell_type": "code",
   "execution_count": 4,
   "metadata": {},
   "outputs": [
    {
     "name": "stdout",
     "output_type": "stream",
     "text": [
      "0.25 0.5\n",
      "LM = 8.0000\n",
      "HM = 0.0000\n",
      "LF = 8.0000\n",
      "HF = 0.0000\n",
      "0.25 1.0\n",
      "LM = 2.0000\n",
      "HM = 6.5000\n",
      "LF = 7.0000\n",
      "HF = 2.0000\n",
      "0.25 1.5\n",
      "LM = 8.0000\n",
      "HM = 0.0000\n",
      "LF = 8.0000\n",
      "HF = 0.0000\n",
      "0.5 0.5\n",
      "LM = 8.0000\n",
      "HM = 0.0000\n",
      "LF = 8.0000\n",
      "HF = 0.0000\n",
      "0.5 1.0\n",
      "LM = 4.5000\n",
      "HM = 4.5000\n",
      "LF = 4.5000\n",
      "HF = 4.5000\n",
      "0.5 1.5\n",
      "LM = 8.0000\n",
      "HM = 0.0000\n",
      "LF = 8.0000\n",
      "HF = 0.0000\n",
      "0.75 0.5\n",
      "LM = 8.0000\n",
      "HM = 0.0000\n",
      "LF = 8.0000\n",
      "HF = 0.0000\n",
      "0.75 1.0\n",
      "LM = 6.5000\n",
      "HM = 2.0000\n",
      "LF = 2.5000\n",
      "HF = 6.5000\n",
      "0.75 1.5\n",
      "LM = 8.0000\n",
      "HM = 0.0000\n",
      "LF = 8.0000\n",
      "HF = 0.0000\n"
     ]
    }
   ],
   "source": [
    "# We make a loop that loops over the two vectors alpha and sigma to illustrate how Hf/Hm changes.\n",
    "from JHouseholdSpecializationModel import HouseholdSpecializationModelClass\n",
    "\n",
    "Model = HouseholdSpecializationModelClass()\n",
    "\n",
    "vec_alpha = [0.25 , 0.50 , 0.75]\n",
    "vec_sigma = [0.5 , 1.0 , 1.5]\n",
    "\n",
    "\n",
    "\n",
    "# Creating the loop \n",
    "for alpha in vec_alpha : \n",
    "    for sigma in vec_sigma : \n",
    "        Model.par.alpha = alpha\n",
    "        Model.par.sigma = sigma\n",
    "        print(alpha, sigma)\n",
    "\n",
    "        Model.solve_discrete(do_print=True)\n",
    "       \n",
    "       \n",
    "        \n",
    "\n",
    "\n"
   ]
  },
  {
   "cell_type": "markdown",
   "metadata": {},
   "source": [
    "# Question 2"
   ]
  },
  {
   "cell_type": "markdown",
   "metadata": {},
   "source": [
    "Explain your code and procedure"
   ]
  },
  {
   "cell_type": "code",
   "execution_count": null,
   "metadata": {},
   "outputs": [],
   "source": [
    "# code"
   ]
  },
  {
   "cell_type": "markdown",
   "metadata": {},
   "source": [
    "# Question 3"
   ]
  },
  {
   "cell_type": "markdown",
   "metadata": {},
   "source": [
    "Explain your code and procedure"
   ]
  },
  {
   "cell_type": "code",
   "execution_count": null,
   "metadata": {},
   "outputs": [],
   "source": [
    "# code"
   ]
  },
  {
   "cell_type": "markdown",
   "metadata": {},
   "source": [
    "ADD CONCISE CONLUSION."
   ]
  },
  {
   "cell_type": "code",
   "execution_count": null,
   "metadata": {},
   "outputs": [],
   "source": []
  }
 ],
 "metadata": {
  "kernelspec": {
   "display_name": "base",
   "language": "python",
   "name": "python3"
  },
  "language_info": {
   "codemirror_mode": {
    "name": "ipython",
    "version": 3
   },
   "file_extension": ".py",
   "mimetype": "text/x-python",
   "name": "python",
   "nbconvert_exporter": "python",
   "pygments_lexer": "ipython3",
   "version": "3.9.13"
  },
  "toc-autonumbering": true,
  "vscode": {
   "interpreter": {
    "hash": "e4dc7e57357fb9946664ec6bf4aceec1850953e91c14f176c35e505538dfecf0"
   }
  }
 },
 "nbformat": 4,
 "nbformat_minor": 4
}
