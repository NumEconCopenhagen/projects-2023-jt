{
 "cells": [
  {
   "cell_type": "markdown",
   "metadata": {},
   "source": [
    "# Inaugural Project"
   ]
  },
  {
   "attachments": {},
   "cell_type": "markdown",
   "metadata": {},
   "source": [
    "> **Note the following:** \n",
    "> 1. This is an example of how to structure your **inaugural project**.\n",
    "> 1. Remember the general advice on structuring and commenting your code\n",
    "> 1. The `inauguralproject.py` file includes a function which can be used multiple times in this notebook."
   ]
  },
  {
   "cell_type": "markdown",
   "metadata": {},
   "source": [
    "Imports and set magics:"
   ]
  },
  {
   "cell_type": "code",
   "execution_count": 34,
   "metadata": {},
   "outputs": [
    {
     "name": "stdout",
     "output_type": "stream",
     "text": [
      "The autoreload extension is already loaded. To reload it, use:\n",
      "  %reload_ext autoreload\n"
     ]
    }
   ],
   "source": [
    "\n",
    "# autoreload modules when code is run. Otherwise, python will not see recent changes. \n",
    "%load_ext autoreload\n",
    "%autoreload 2\n",
    "\n",
    "from types import SimpleNamespace\n",
    "import numpy as np\n",
    "from scipy.optimize import optimize\n",
    "from scipy.optimize import minimize\n",
    "import matplotlib.pyplot as plt\n",
    "plt.rcParams.update({\"axes.grid\":True,\"grid.color\":\"black\",\"grid.alpha\":\"0.25\",\"grid.linestyle\":\"--\"})\n",
    "plt.rcParams.update({'font.size': 14})\n",
    "\n",
    "from HouseholdSpecializationModel import HouseholdSpecializationModelClass"
   ]
  },
  {
   "attachments": {},
   "cell_type": "markdown",
   "metadata": {},
   "source": [
    "$$\n",
    "\\begin{equation}\n",
    "    \\max_{L_M, H_M, L_F, H_F} \\frac{Q^{1-\\rho}}{1-\\rho} - \\nu \\left( \\frac{T^{1+\\frac{1}{\\epsilon}_M}} {1+\\frac{1}{\\epsilon}} + \\frac{T^{1+\\frac{1}{\\epsilon}}_F} {1+\\frac{1}{\\epsilon}} \\right)\n",
    "\\end{equation}\n",
    "$$"
   ]
  },
  {
   "cell_type": "code",
   "execution_count": 18,
   "metadata": {},
   "outputs": [],
   "source": [
    "par = SimpleNamespace()\n",
    "# Preferences: \n",
    "par.rho = 2.0\n",
    "par.nu = 0.001\n",
    "par.epsilon = 1.0\n",
    "par.omega = 0.5\n",
    "\n",
    "# Household production: \n",
    "par.alpha = 0.5\n",
    "par.sigma = 1.0\n",
    "\n",
    "# Wages: \n",
    "par.omega_M = par.omega_F = 1\n",
    "par.Wf_vec = np.linspace(0.8,1.2,5)\n",
    "\n",
    "par.alpha_dict = {0.25, 0.50, 0.75}\n",
    "par.sigma_dict = {0.5,1.0,1.5}\n"
   ]
  },
  {
   "cell_type": "code",
   "execution_count": 23,
   "metadata": {},
   "outputs": [],
   "source": [
    "def u_func(Q,Tm,Tf,epsilon,rho,nu) : \n",
    "    return (Q^(1-rho))/(1-rho)-nu * (Tm^(1+ 1/epsilon)/(1+ 1/epsilon) + Tf^(1+ 1/epsilon)/(1+ 1/epsilon))"
   ]
  },
  {
   "cell_type": "code",
   "execution_count": 52,
   "metadata": {},
   "outputs": [],
   "source": [
    "omega = 0.5\n",
    "omega_m = omega_f = 1\n",
    "x= np.linspace(0,24,49)\n",
    "Lm =Lf = x \n",
    "Hm = x\n",
    "Hf = x\n",
    "sigma = 1\n",
    "\n",
    "if sigma == 0 :\n",
    "    H= optimize.minimize(Hm,Hf)\n",
    "if sigma == 1 : \n",
    "    H= Hm**(1-sigma) * Hf**sigma \n",
    "else : \n",
    "    H= ((1-alpha)*Hm**((sigma-1)/sigma) + alpha* Hf**((sigma-1)/sigma))**(sigma/(sigma-1))\n",
    "\n",
    "\n",
    "C = omega_m * Lm + omega_f * Lf\n",
    "Q = C**omega * H**(1-omega)\n",
    "Tm = Lm + Hm \n",
    "Tf = Lf + Hf \n"
   ]
  },
  {
   "cell_type": "code",
   "execution_count": 51,
   "metadata": {},
   "outputs": [
    {
     "ename": "AttributeError",
     "evalue": "scipy.optimize.optimize is deprecated and has no attribute optimize. Try looking in scipy.optimize instead.",
     "output_type": "error",
     "traceback": [
      "\u001b[0;31m---------------------------------------------------------------------------\u001b[0m",
      "\u001b[0;31mAttributeError\u001b[0m                            Traceback (most recent call last)",
      "\u001b[0;32m/var/folders/5k/cbgd218j5d30nkg1dkw057100000gn/T/ipykernel_69448/2055985459.py\u001b[0m in \u001b[0;36m<module>\u001b[0;34m\u001b[0m\n\u001b[0;32m----> 1\u001b[0;31m \u001b[0moptimize\u001b[0m\u001b[0;34m.\u001b[0m\u001b[0moptimize\u001b[0m\u001b[0;34m(\u001b[0m\u001b[0mQ\u001b[0m \u001b[0;34m=\u001b[0m \u001b[0mC\u001b[0m\u001b[0;34m^\u001b[0m\u001b[0momega\u001b[0m \u001b[0;34m*\u001b[0m \u001b[0mH\u001b[0m\u001b[0;34m^\u001b[0m\u001b[0;34m(\u001b[0m\u001b[0;36m1\u001b[0m\u001b[0;34m-\u001b[0m\u001b[0momega\u001b[0m\u001b[0;34m)\u001b[0m\u001b[0;34m,\u001b[0m\u001b[0mTm\u001b[0m\u001b[0;34m=\u001b[0m\u001b[0mLm\u001b[0m\u001b[0;34m+\u001b[0m\u001b[0mHm\u001b[0m \u001b[0;34m,\u001b[0m\u001b[0mTf\u001b[0m\u001b[0;34m=\u001b[0m\u001b[0mLf\u001b[0m\u001b[0;34m+\u001b[0m\u001b[0mHf\u001b[0m \u001b[0;34m,\u001b[0m\u001b[0mepsilon\u001b[0m\u001b[0;34m=\u001b[0m\u001b[0;36m1.0\u001b[0m\u001b[0;34m,\u001b[0m\u001b[0mrho\u001b[0m\u001b[0;34m=\u001b[0m\u001b[0;36m2.0\u001b[0m\u001b[0;34m,\u001b[0m\u001b[0mnu\u001b[0m\u001b[0;34m=\u001b[0m\u001b[0;36m0.001\u001b[0m\u001b[0;34m,\u001b[0m \u001b[0mdo_print\u001b[0m\u001b[0;34m=\u001b[0m\u001b[0;32mTrue\u001b[0m\u001b[0;34m)\u001b[0m\u001b[0;34m\u001b[0m\u001b[0;34m\u001b[0m\u001b[0m\n\u001b[0m",
      "\u001b[0;32m~/opt/anaconda3/lib/python3.9/site-packages/scipy/optimize/optimize.py\u001b[0m in \u001b[0;36m__getattr__\u001b[0;34m(name)\u001b[0m\n\u001b[1;32m     62\u001b[0m \u001b[0;32mdef\u001b[0m \u001b[0m__getattr__\u001b[0m\u001b[0;34m(\u001b[0m\u001b[0mname\u001b[0m\u001b[0;34m)\u001b[0m\u001b[0;34m:\u001b[0m\u001b[0;34m\u001b[0m\u001b[0;34m\u001b[0m\u001b[0m\n\u001b[1;32m     63\u001b[0m     \u001b[0;32mif\u001b[0m \u001b[0mname\u001b[0m \u001b[0;32mnot\u001b[0m \u001b[0;32min\u001b[0m \u001b[0m__all__\u001b[0m\u001b[0;34m:\u001b[0m\u001b[0;34m\u001b[0m\u001b[0;34m\u001b[0m\u001b[0m\n\u001b[0;32m---> 64\u001b[0;31m         raise AttributeError(\n\u001b[0m\u001b[1;32m     65\u001b[0m             \u001b[0;34m\"scipy.optimize.optimize is deprecated and has no attribute \"\u001b[0m\u001b[0;34m\u001b[0m\u001b[0;34m\u001b[0m\u001b[0m\n\u001b[1;32m     66\u001b[0m             f\"{name}. Try looking in scipy.optimize instead.\")\n",
      "\u001b[0;31mAttributeError\u001b[0m: scipy.optimize.optimize is deprecated and has no attribute optimize. Try looking in scipy.optimize instead."
     ]
    }
   ],
   "source": [
    "optimize.optimize(Q = C^omega * H^(1-omega),Tm=Lm+Hm ,Tf=Lf+Hf ,epsilon=1.0,rho=2.0,nu=0.001, do_print=True)\n",
    "\n",
    "# a. objective function (to minimize)\n",
    "def value_of_choice(x1,alpha,I,p1,p2):\n",
    "    x2 = (I-p1*x1)/p2\n",
    "    return -u_func(x1,x2,alpha)\n",
    "\n",
    "# b. call solver\n",
    "sol_case1 = optimize.minimize_scalar(\n",
    "    value_of_choice,\n",
    "    method='bounded',\n",
    "    bounds=(0,I/p1),\n",
    "    args=(alpha,I,p1,p2)) # Notice the use of a tuple here\n",
    "\n",
    "# c. unpack solution\n",
    "x1 = sol_case1.x\n",
    "x2 = (I-p1*x1)/p2\n",
    "u = u_func(x1,x2,alpha)\n",
    "print_solution(x1,x2,u,I,p1,p2)"
   ]
  },
  {
   "cell_type": "code",
   "execution_count": null,
   "metadata": {},
   "outputs": [],
   "source": [
    "choice_set = []\n",
    "for i in range(49):\n",
    "    choice_set.append(i*24/48)\n",
    "print(choice_set)\n"
   ]
  },
  {
   "cell_type": "code",
   "execution_count": null,
   "metadata": {},
   "outputs": [],
   "source": [
    "from HouseholdSpecializationModel import HouseholdSpecializationModelClass\n",
    "model = HouseholdSpecializationModelClass()\n"
   ]
  },
  {
   "cell_type": "markdown",
   "metadata": {},
   "source": [
    "# Question 1"
   ]
  },
  {
   "cell_type": "markdown",
   "metadata": {},
   "source": [
    "**Explain how you solve the model**"
   ]
  },
  {
   "cell_type": "code",
   "execution_count": null,
   "metadata": {},
   "outputs": [],
   "source": [
    "# code for solving the model (remember documentation and comments)\n",
    "\n",
    "a = np.array([1,2,3])\n",
    "b = inauguralproject.square(a)\n",
    "print(b)"
   ]
  },
  {
   "cell_type": "markdown",
   "metadata": {},
   "source": [
    "# Question 2"
   ]
  },
  {
   "cell_type": "markdown",
   "metadata": {},
   "source": [
    "Explain your code and procedure"
   ]
  },
  {
   "cell_type": "code",
   "execution_count": null,
   "metadata": {},
   "outputs": [],
   "source": [
    "# code"
   ]
  },
  {
   "cell_type": "markdown",
   "metadata": {},
   "source": [
    "# Question 3"
   ]
  },
  {
   "cell_type": "markdown",
   "metadata": {},
   "source": [
    "Explain your code and procedure"
   ]
  },
  {
   "cell_type": "code",
   "execution_count": null,
   "metadata": {},
   "outputs": [],
   "source": [
    "# code"
   ]
  },
  {
   "cell_type": "markdown",
   "metadata": {},
   "source": [
    "ADD CONCISE CONLUSION."
   ]
  }
 ],
 "metadata": {
  "kernelspec": {
   "display_name": "base",
   "language": "python",
   "name": "python3"
  },
  "language_info": {
   "codemirror_mode": {
    "name": "ipython",
    "version": 3
   },
   "file_extension": ".py",
   "mimetype": "text/x-python",
   "name": "python",
   "nbconvert_exporter": "python",
   "pygments_lexer": "ipython3",
   "version": "3.9.13"
  },
  "toc-autonumbering": true,
  "vscode": {
   "interpreter": {
    "hash": "e4dc7e57357fb9946664ec6bf4aceec1850953e91c14f176c35e505538dfecf0"
   }
  }
 },
 "nbformat": 4,
 "nbformat_minor": 4
}
