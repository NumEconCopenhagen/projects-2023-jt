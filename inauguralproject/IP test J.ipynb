{
 "cells": [
  {
   "cell_type": "markdown",
   "metadata": {},
   "source": [
    "# Inaugural Project"
   ]
  },
  {
   "attachments": {},
   "cell_type": "markdown",
   "metadata": {},
   "source": [
    "> **Note the following:** \n",
    "> 1. This is an example of how to structure your **inaugural project**.\n",
    "> 1. Remember the general advice on structuring and commenting your code\n",
    "> 1. The `inauguralproject.py` file includes a function which can be used multiple times in this notebook."
   ]
  },
  {
   "cell_type": "markdown",
   "metadata": {},
   "source": [
    "Imports and set magics:"
   ]
  },
  {
   "cell_type": "code",
   "execution_count": 2,
   "metadata": {},
   "outputs": [],
   "source": [
    "\n",
    "# autoreload modules when code is run. Otherwise, python will not see recent changes. \n",
    "%load_ext autoreload\n",
    "%autoreload 2\n",
    "\n",
    "from types import SimpleNamespace\n",
    "import numpy as np\n",
    "from scipy.optimize import optimize\n",
    "from scipy.optimize import minimize_scalar\n",
    "import matplotlib.pyplot as plt\n",
    "plt.rcParams.update({\"axes.grid\":True,\"grid.color\":\"black\",\"grid.alpha\":\"0.25\",\"grid.linestyle\":\"--\"})\n",
    "plt.rcParams.update({'font.size': 14})\n",
    "\n",
    "\n"
   ]
  },
  {
   "attachments": {},
   "cell_type": "markdown",
   "metadata": {},
   "source": [
    "$$\n",
    "\\begin{equation}\n",
    "    \\max_{L_M, H_M, L_F, H_F} \\frac{Q^{1-\\rho}}{1-\\rho} - \\nu \\left( \\frac{T^{1+\\frac{1}{\\epsilon}_M}} {1+\\frac{1}{\\epsilon}} + \\frac{T^{1+\\frac{1}{\\epsilon}}_F} {1+\\frac{1}{\\epsilon}} \\right)\n",
    "\\end{equation}\n",
    "$$"
   ]
  },
  {
   "attachments": {},
   "cell_type": "markdown",
   "metadata": {},
   "source": [
    "Given data, with the baseline parameters"
   ]
  },
  {
   "cell_type": "code",
   "execution_count": 3,
   "metadata": {},
   "outputs": [],
   "source": [
    "\n",
    "x= np.linspace(0,24,49)\n",
    "Lm = x\n",
    "Lf = x \n",
    "Hm = x\n",
    "Hf = x\n",
    "\n",
    "\n",
    "# Baseline Parameters \n",
    "par= SimpleNamespace()\n",
    "par.rho = 2.0\n",
    "par.nu = 0.001 \n",
    "par.epsilon = 1.0\n",
    "par.omega = 0.5\n",
    "par.alpha = 0.5\n",
    "par.sigma = 1\n",
    "par.omega_m = 1\n",
    "par.omega_f = 1\n",
    "\n",
    "alpha_dict = [0.25 , 0.50 , 0.75]\n",
    "sigma_dict = [0.5 , 1.0 , 1.5]\n",
    "\n",
    "\n",
    "if par.sigma == 0 :\n",
    "    H= min(Hm,Hf)\n",
    "if par.sigma == 1 : \n",
    "    H= Hm**(1-par.sigma) * Hf**par.sigma \n",
    "else : \n",
    "    H= ((1-par.alpha)*Hm**((par.sigma-1)/par.sigma) + par.alpha* Hf**((par.sigma-1)/par.sigma))**(par.sigma/(par.sigma-1))\n",
    "\n",
    "\n",
    "C = par.omega_m * Lm + par.omega_f * Lf\n",
    "Q = C**par.omega * H**(1-par.omega)\n",
    "Tm = Lm + Hm \n",
    "Tf = Lf + Hf \n",
    "Lm = Hm = Lf = Hf >= 0 \n",
    "Tm = Tf  <= 24 \n",
    "\n",
    "\n",
    "\n"
   ]
  },
  {
   "attachments": {},
   "cell_type": "markdown",
   "metadata": {},
   "source": [
    "Defining the maximization problem"
   ]
  },
  {
   "cell_type": "code",
   "execution_count": 4,
   "metadata": {},
   "outputs": [],
   "source": [
    "epsilon = par.epsilon\n",
    "rho = par.rho\n",
    "nu = par.nu\n",
    "def u_func(Q,Tm,Tf,epsilon,rho,nu) : \n",
    "    return (Q^(1-rho))/(1-rho)-nu * (Tm^(1+ 1/(epsilon))/(1+ 1/epsilon) + Tf^(1+ 1/epsilon)/(1+ 1/epsilon))\n"
   ]
  },
  {
   "attachments": {},
   "cell_type": "markdown",
   "metadata": {},
   "source": [
    "Solving the maximization problem given the baseline parameters. "
   ]
  },
  {
   "cell_type": "markdown",
   "metadata": {},
   "source": [
    "# Question 1"
   ]
  },
  {
   "cell_type": "markdown",
   "metadata": {},
   "source": [
    "**Explain how you solve the model**"
   ]
  },
  {
   "cell_type": "code",
   "execution_count": 6,
   "metadata": {},
   "outputs": [
    {
     "name": "stdout",
     "output_type": "stream",
     "text": [
      "LM = 8.0000\n",
      "HM = 0.0000\n",
      "LF = 0.0000\n",
      "HF = 8.0000\n",
      "0.25 0.5\n",
      "LM = 8.0000\n",
      "HM = 0.0000\n",
      "LF = 0.0000\n",
      "HF = 8.0000\n",
      "0.25 1.0\n",
      "LM = 8.0000\n",
      "HM = 0.0000\n",
      "LF = 0.0000\n",
      "HF = 8.0000\n",
      "0.25 1.5\n",
      "LM = 8.0000\n",
      "HM = 0.0000\n",
      "LF = 0.0000\n",
      "HF = 8.0000\n",
      "0.5 0.5\n",
      "LM = 8.0000\n",
      "HM = 0.0000\n",
      "LF = 0.0000\n",
      "HF = 8.0000\n",
      "0.5 1.0\n",
      "LM = 8.0000\n",
      "HM = 0.0000\n",
      "LF = 0.0000\n",
      "HF = 8.0000\n",
      "0.5 1.5\n",
      "LM = 8.0000\n",
      "HM = 0.0000\n",
      "LF = 0.0000\n",
      "HF = 8.0000\n",
      "0.75 0.5\n",
      "LM = 8.0000\n",
      "HM = 0.0000\n",
      "LF = 0.0000\n",
      "HF = 8.0000\n",
      "0.75 1.0\n",
      "LM = 8.0000\n",
      "HM = 0.0000\n",
      "LF = 0.0000\n",
      "HF = 8.0000\n",
      "0.75 1.5\n"
     ]
    }
   ],
   "source": [
    "# We make a loop that loops over the two vectors alpha and sigma to illustrate how Hf/Hm changes.\n",
    "from HouseholdSpecializationModel import HouseholdSpecializationModelClass\n",
    "\n",
    "Model = HouseholdSpecializationModelClass()\n",
    "vec_alpha = [0.25 , 0.50 , 0.75]\n",
    "vec_sigma = [0.5 , 1.0 , 1.5]\n",
    "\n",
    "# Creating the loop \n",
    "for i in vec_alpha : \n",
    "    for j in vec_sigma : \n",
    "        Model.solve_discrete(do_print=True)\n",
    "        print(i,j)\n",
    "        \n"
   ]
  },
  {
   "cell_type": "markdown",
   "metadata": {},
   "source": [
    "# Question 2"
   ]
  },
  {
   "cell_type": "markdown",
   "metadata": {},
   "source": [
    "Explain your code and procedure"
   ]
  },
  {
   "cell_type": "code",
   "execution_count": null,
   "metadata": {},
   "outputs": [],
   "source": [
    "# code"
   ]
  },
  {
   "cell_type": "markdown",
   "metadata": {},
   "source": [
    "# Question 3"
   ]
  },
  {
   "cell_type": "markdown",
   "metadata": {},
   "source": [
    "Explain your code and procedure"
   ]
  },
  {
   "cell_type": "code",
   "execution_count": null,
   "metadata": {},
   "outputs": [],
   "source": [
    "# code"
   ]
  },
  {
   "cell_type": "markdown",
   "metadata": {},
   "source": [
    "ADD CONCISE CONLUSION."
   ]
  },
  {
   "cell_type": "code",
   "execution_count": null,
   "metadata": {},
   "outputs": [],
   "source": []
  }
 ],
 "metadata": {
  "kernelspec": {
   "display_name": "base",
   "language": "python",
   "name": "python3"
  },
  "language_info": {
   "codemirror_mode": {
    "name": "ipython",
    "version": 3
   },
   "file_extension": ".py",
   "mimetype": "text/x-python",
   "name": "python",
   "nbconvert_exporter": "python",
   "pygments_lexer": "ipython3",
   "version": "3.9.13"
  },
  "toc-autonumbering": true,
  "vscode": {
   "interpreter": {
    "hash": "e4dc7e57357fb9946664ec6bf4aceec1850953e91c14f176c35e505538dfecf0"
   }
  }
 },
 "nbformat": 4,
 "nbformat_minor": 4
}
