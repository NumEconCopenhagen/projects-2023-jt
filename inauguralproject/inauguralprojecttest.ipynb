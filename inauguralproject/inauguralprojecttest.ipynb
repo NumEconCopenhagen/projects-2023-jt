{
 "cells": [
  {
   "attachments": {},
   "cell_type": "markdown",
   "metadata": {},
   "source": [
    "# Inaugural Project"
   ]
  },
  {
   "attachments": {},
   "cell_type": "markdown",
   "metadata": {},
   "source": [
    "> **Note the following:** \n",
    "> 1. This is an example of how to structure your **inaugural project**.\n",
    "> 1. Remember the general advice on structuring and commenting your code\n",
    "> 1. The `inauguralproject.py` file includes a function which can be used multiple times in this notebook."
   ]
  },
  {
   "cell_type": "code",
   "execution_count": 4,
   "metadata": {},
   "outputs": [],
   "source": [
    "import numpy as np\n",
    "import matplotlib.pyplot as plt\n",
    "import scipy.optimize\n",
    "import mpl_toolkits.mplot3d\n",
    "import ipywidgets\n",
    "\n",
    "\n",
    "# autoreload modules when code is run. Otherwise, python will not see recent changes. \n",
    "%load_ext autoreload\n",
    "%autoreload 2\n",
    "\n",
    "# Import your own code\n",
    "#import inauguralproject\n",
    "from HouseholdSpecializationModeltest import  HouseholdSpecializationModelClass\n",
    "# We import our class as model\n",
    "model = HouseholdSpecializationModelClass()\n"
   ]
  },
  {
   "attachments": {},
   "cell_type": "markdown",
   "metadata": {},
   "source": [
    "# Question 1"
   ]
  },
  {
   "attachments": {},
   "cell_type": "markdown",
   "metadata": {},
   "source": [
    "Illustrate how $HF/HM$ changes when varying α ∈{0.25,0.50,0.75} and σ = {0.5,1.0,1.5}."
   ]
  },
  {
   "attachments": {},
   "cell_type": "markdown",
   "metadata": {},
   "source": [
    "To solve this question, we run the module 'solve_discrete' for each set of alpha and sigma values that we have, this will give us 9 values, which we then place in a matrix. "
   ]
  },
  {
   "cell_type": "code",
   "execution_count": null,
   "metadata": {},
   "outputs": [],
   "source": [
    "# Defining alphas and sigmas\n",
    "alphas = [0.25, 0.50, 0.75]\n",
    "sigmas = [0.5, 1, 1.5]\n",
    "\n",
    "# Creating empty HM and HF lists\n",
    "\n",
    "HF_list = []\n",
    "HM_list = []\n",
    "\n",
    "for i in alphas:\n",
    "    for j in sigmas:\n",
    "        model.par.alpha = i\n",
    "        model.par.sigma = j\n",
    "         # solve model discretely\n",
    "        opt = model.solve_discrete()\n",
    "        \n",
    "        # append optimal HM and HF values to lists\n",
    "        HM_list.append(opt.HM)\n",
    "        HF_list.append(opt.HF)\n",
    "\n",
    "#Converting the lists into numpy arrays, to use numpy functions\n",
    "\n",
    "HFarray = np.array(HF_list)\n",
    "HMarray = np.array(HM_list) \n",
    "\n",
    "# Dividing by eachother\n",
    "HFHMarray = HFarray/HMarray\n",
    "\n",
    "# Reshaping the array to a matrix with alpha on the rows and sigma on the columns\n",
    "HF_HM_matrix = HFHMarray.reshape(len(alphas), len(sigmas))\n",
    "\n",
    "print(HF_HM_matrix)\n",
    "\n",
    "# Plotting the ratios for the different alphas with sigma as a fixed variable\n",
    "for i in range(len(sigmas)):\n",
    "    plt.plot(alphas, HF_HM_matrix[:,i], label='Sigma='+str(sigmas[i]))\n",
    "\n",
    "plt.xlabel('Alpha')\n",
    "plt.ylabel('HF/HM Ratio')\n",
    "plt.title('HF/HM Ratio for different alpha and sigma values')\n",
    "plt.legend()\n",
    "plt.show()\n",
    "\n",
    "\n"
   ]
  },
  {
   "attachments": {},
   "cell_type": "markdown",
   "metadata": {},
   "source": [
    "We are now making a table that shows the evolution of the HF/HM relationship for the different values of alpha and sigma."
   ]
  },
  {
   "attachments": {},
   "cell_type": "markdown",
   "metadata": {},
   "source": [
    "|   | $\\sigma=0.5$ | $\\sigma=1$   | $\\sigma=1.5$ |\n",
    "|---|--------------|--------------|---------------|\n",
    "| $\\alpha=0.25$ | 0.545         | 0.308       | 0.214         |\n",
    "| $\\alpha=0.50$ | 1.000         | 1.000       | 1.000         |\n",
    "| $\\alpha=0.75$ | 1.833         | 3.250       | 4.667         |"
   ]
  },
  {
   "attachments": {},
   "cell_type": "markdown",
   "metadata": {},
   "source": [
    "From the table we can see that when alpha is equal to 0.5, the HF/HM ratio will always be 1, no mattter the value og sigma. When alpha is 0.25, the ratio is decreasing when sigma increases, and when alpha is 0.75 the ratio will increase with an increasing sigmavalue. This means that when alpha <0.5 there will be an inverse relationship between size of sigma and the size of the HF/HM ratio. When alpha >0.5 there will be a direct relationship. "
   ]
  },
  {
   "attachments": {},
   "cell_type": "markdown",
   "metadata": {},
   "source": [
    "# Question 2"
   ]
  },
  {
   "attachments": {},
   "cell_type": "markdown",
   "metadata": {},
   "source": [
    "plotting $Wf/Wm$ ratio"
   ]
  },
  {
   "attachments": {},
   "cell_type": "markdown",
   "metadata": {},
   "source": [
    "In question 2 we are looking at how the wageratio (wF/wM) affects the workratio (HF/HM). To do this we are resetting our alpha and sigma values, so that we have the basline parameters of alpha = 0.5 and sigma =1.0. From here we call on the 'solve_wF_vec' module from the .py-file, to calculate and plot the two log-values against each other. \n",
    "It should be noted that the log (wF/wM) is equal to log(wF); this is due to reason that it is only wF that changes, and therefore it is assumed that wM is still equal to the baseline value of 1. "
   ]
  },
  {
   "cell_type": "code",
   "execution_count": null,
   "metadata": {},
   "outputs": [],
   "source": [
    "model.par.alpha = 0.5\n",
    "model.par.sigma = 1\n",
    "model.solve_wF_vec(discrete=True, do_plot=True, do_print=True)\n",
    "model.run_regression(print_beta=True)"
   ]
  },
  {
   "attachments": {},
   "cell_type": "markdown",
   "metadata": {},
   "source": [
    "From this result we can see that when the wageratio increases, the workratio will decrease."
   ]
  },
  {
   "attachments": {},
   "cell_type": "markdown",
   "metadata": {},
   "source": [
    "# Question 3"
   ]
  },
  {
   "attachments": {},
   "cell_type": "markdown",
   "metadata": {},
   "source": [
    "For question 3 we are asked to plot the same as in question two, but with the change that the choice set, for hours working for men and women in either the house or in the market, is now continuos; this means that when doing plot, we will get more accurate results for the maximization-problem. \n",
    "To solve the question, we use the 'solve' module from the .py file, and solve the continuous maximization problem with the 'Nelder-Mead' method."
   ]
  },
  {
   "cell_type": "code",
   "execution_count": null,
   "metadata": {},
   "outputs": [],
   "source": [
    "model.solve_wF_vec(do_plot=True, do_print=True)\n",
    "model.run_regression(print_beta=True)\n"
   ]
  },
  {
   "attachments": {},
   "cell_type": "markdown",
   "metadata": {},
   "source": [
    "The result is very similar to that of question 2, but the regression line here perfectly follows the plotted values. From this regression, have also calculated the two beta-values, beta0 and beta1, whis shows the intercept- and slope-values. "
   ]
  },
  {
   "attachments": {},
   "cell_type": "markdown",
   "metadata": {},
   "source": [
    "# Question 4"
   ]
  },
  {
   "attachments": {},
   "cell_type": "markdown",
   "metadata": {},
   "source": [
    "Choose $\\alpha$ and $\\sigma$ such that it minimizes the expression. Illustrate how the model fit the data and discuss the economic interpretation of the results."
   ]
  },
  {
   "attachments": {},
   "cell_type": "markdown",
   "metadata": {},
   "source": [
    "For question 4, we have made a new method on our class, called estimate. What this function does it that it calculates the beta0 and beta1 values given an alpha and a sigma. We have then added an optimization model for the R-squared formula and then we are using scipy to minimize our R-squared value."
   ]
  },
  {
   "cell_type": "code",
   "execution_count": null,
   "metadata": {},
   "outputs": [],
   "source": [
    "\n",
    "model.estimate(do_print=True)\n",
    "model.solve_wF_vec(do_plot=True)\n",
    "model.run_regression(print_beta=True)"
   ]
  },
  {
   "attachments": {},
   "cell_type": "markdown",
   "metadata": {},
   "source": [
    "After running our method, we can now see that the values that produces the best result compared to the targets for our beta values are an alpha value of 0.9820 and a sigma value of 1. It should however be noted that those exact values will not produce the correct results as in the code there are a lot more digits in the values, which has quite a large impact on the estimated beta values."
   ]
  },
  {
   "attachments": {},
   "cell_type": "markdown",
   "metadata": {},
   "source": [
    "The economic interpretation of the results is quite logical, since it shows that the higher the wages are for women compared to men, the less time they want to spend working at home. "
   ]
  },
  {
   "attachments": {},
   "cell_type": "markdown",
   "metadata": {},
   "source": [
    "# Question 5"
   ]
  },
  {
   "attachments": {},
   "cell_type": "markdown",
   "metadata": {},
   "source": [
    "We discover in Q4 that mens domestic output is significantly lower than womens. We therefore thought and interesting extension of the model would be to try and compensate men a bit if they stay home, to see if this could improve their productivity and hereby bring alpha closer to 0.5"
   ]
  },
  {
   "cell_type": "code",
   "execution_count": 12,
   "metadata": {},
   "outputs": [],
   "source": [
    "from HouseholdSpecializationModeltest import HouseholdSpecializationModelClassExt\n",
    "model = HouseholdSpecializationModelClassExt()"
   ]
  },
  {
   "cell_type": "code",
   "execution_count": 20,
   "metadata": {},
   "outputs": [
    {
     "name": "stdout",
     "output_type": "stream",
     "text": [
      "alpha = 0.5000\n",
      "epsilon_f = 2.1793\n",
      "sigma = 1.9057\n",
      "beta0 = 0.4000\n",
      "beta1 = -0.1000\n",
      "R-squared = 0.0000\n"
     ]
    },
    {
     "data": {
      "text/plain": [
       "(2.1793140301654663, 1.905749323192758)"
      ]
     },
     "execution_count": 20,
     "metadata": {},
     "output_type": "execute_result"
    }
   ],
   "source": [
    "\n",
    "model.estimate(do_print=True)"
   ]
  },
  {
   "attachments": {},
   "cell_type": "markdown",
   "metadata": {},
   "source": [
    "For our extension of our model, we have split the disutility into the parameters $\\epsilon_m$ and $\\epsilon_f$. These show the disutility from working in the market for men and women respectively. We have added these to our model and then we have locked our alpha value at 0.5 as the data suggested.\n",
    "\n",
    "Then we create a new optimizer where we try to find values for our $\\epsilon_f$ and $\\sigma$ that can make our model fit the data."
   ]
  },
  {
   "cell_type": "code",
   "execution_count": 24,
   "metadata": {},
   "outputs": [
    {
     "name": "stdout",
     "output_type": "stream",
     "text": [
      "alpha = 0.5000\n",
      "epsilon_f = 2.1793\n",
      "sigma = 1.9057\n",
      "beta0 = 0.4000\n",
      "beta1 = -0.1000\n",
      "R-squared = 0.0000\n"
     ]
    }
   ],
   "source": [
    "from HouseholdSpecializationModeltest import HouseholdSpecializationModelClassExt\n",
    "modelext = HouseholdSpecializationModelClassExt()\n",
    "modelext.estimate(do_print=True)"
   ]
  },
  {
   "attachments": {},
   "cell_type": "markdown",
   "metadata": {},
   "source": [
    "ADD CONCISE CONLUSION."
   ]
  }
 ],
 "metadata": {
  "kernelspec": {
   "display_name": "base",
   "language": "python",
   "name": "python3"
  },
  "language_info": {
   "codemirror_mode": {
    "name": "ipython",
    "version": 3
   },
   "file_extension": ".py",
   "mimetype": "text/x-python",
   "name": "python",
   "nbconvert_exporter": "python",
   "pygments_lexer": "ipython3",
   "version": "3.9.16"
  },
  "toc-autonumbering": true,
  "vscode": {
   "interpreter": {
    "hash": "47ef90cdf3004d3f859f1fb202523c65c07ba7c22eefd261b181f4744e2d0403"
   }
  }
 },
 "nbformat": 4,
 "nbformat_minor": 4
}
