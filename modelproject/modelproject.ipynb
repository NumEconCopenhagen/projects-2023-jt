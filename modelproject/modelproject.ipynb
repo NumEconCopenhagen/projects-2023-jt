{
 "cells": [
  {
   "attachments": {},
   "cell_type": "markdown",
   "metadata": {},
   "source": [
    "# The Solow Model with Human Capital"
   ]
  },
  {
   "attachments": {},
   "cell_type": "markdown",
   "metadata": {},
   "source": [
    "Imports and set magics:"
   ]
  },
  {
   "cell_type": "code",
   "execution_count": 40,
   "metadata": {},
   "outputs": [
    {
     "name": "stdout",
     "output_type": "stream",
     "text": [
      "The autoreload extension is already loaded. To reload it, use:\n",
      "  %reload_ext autoreload\n"
     ]
    }
   ],
   "source": [
    "import numpy as np\n",
    "from scipy import optimize\n",
    "import sympy as sm\n",
    "from scipy import linalg\n",
    "from types import SimpleNamespace\n",
    "import pandas as pd \n",
    "import matplotlib.pyplot as plt\n",
    "import ipywidgets \n",
    "\n",
    "\n",
    "# autoreload modules when code is run\n",
    "%load_ext autoreload\n",
    "%autoreload 2\n",
    "\n",
    "# We import our own code from the ModelProject.py file\n",
    "from modelproject import SolowModelClass \n",
    "#We import our model\n",
    "model = SolowModelClass()\n",
    "\n"
   ]
  },
  {
   "attachments": {},
   "cell_type": "markdown",
   "metadata": {},
   "source": [
    "# Model description"
   ]
  },
  {
   "attachments": {},
   "cell_type": "markdown",
   "metadata": {},
   "source": [
    "**The solow model with human capital** \n",
    " \n",
    "The solow model investigates how a country grows over time and how different variables affects this growth. \n",
    "\n",
    "The \"base-line\" model that we will look at, will be an extended solow model, the solow model with human capital. \n",
    "\n",
    "In the solow model with human capital, there is an inclusion of human capital in the production function and accumulation of human capital by consumers. * \n",
    " \n",
    "\n",
    "This project will look at the variation with human capital and how the implemtation of human capital affects the growth. Firstly it will be assumed that the human capitala is equal to the countrys population and later we will change this by making the human capital a part of the total population. Finally, we wil see how the parameters $ \\alpha$ , $ \\phi$ and $\\delta$ will affect the growth\n",
    "\n",
    "\n",
    "\n",
    "\n",
    ". * \"Introducing Advanced Macroeconomics, by H.J.Whitta-Jacobsen and P.B.Sørensen\""
   ]
  },
  {
   "attachments": {},
   "cell_type": "markdown",
   "metadata": {},
   "source": [
    "The Solow-model with Human capital is given as below, by the book \"Introducing Advanced Macroeconomics, by H.J.Whitta- Jacobsen and P.B.Sørensen\"\n",
    "\n",
    "**The production function :**\n",
    "$ Y_{t} = K_{t}^{\\alpha} H_{t}^{\\phi} (A_{t} L_{t})^{1-\\alpha -\\phi} $\n",
    "\n",
    "**Accumulation of physical capital :**\n",
    "$ K_{t+1} - K_{t} = s_{K} Y_{t} - \\delta K_{t} $\n",
    "\n",
    "**Accumulation of human capital :**\n",
    "$ H_{t+1} - H_{t} = s_{H} Y_{t} - \\delta H_{t} $\n",
    "\n",
    "**Growth in labor :**\n",
    "$ L_{t+1} = (1 + n) L_{t} $\n",
    "\n",
    "**Growth in technology :** \n",
    "$ A_{t+1} = (1 + g) A_{t} $ \n",
    "\n",
    "\n",
    "*where we have*\n",
    "## Variables \n",
    "$Y_t$ is the Production\n",
    "\n",
    "$K_t$ is the  physical capital\n",
    "\n",
    "$H_t$ is the human capital \n",
    "\n",
    "$A_t$ is the technology\n",
    "\n",
    "$L_t$ is the labor \n",
    "## Parameters\n",
    "$\\alpha$ is the income share to physical capital\n",
    "\n",
    "$\\phi$ is the income share to human capital\n",
    "\n",
    "$\\delta$ is the depreciation rate\n",
    "\n",
    "$n$ is the populaiton growth rate\n",
    "\n",
    "$g$ is the productivity\n",
    "\n",
    "$s_H$ is the savings rate in human capital\n",
    "\n",
    "$s_K$ is the savings rate in physical capital\n"
   ]
  },
  {
   "attachments": {},
   "cell_type": "markdown",
   "metadata": {},
   "source": [
    "We can compute the variables as per effective worker variables: \n",
    "$$\n",
    "\\tilde{y_{t}}= \\tilde{k_{t}}^{\\alpha} \\tilde{h_{t}}^{\\phi} \n",
    "$$\n",
    "$$\n",
    "\\tilde{k}_{t+1} = \\frac{1}{(1+n)(1+g)} \\left( s_{K} \\tilde{y_{t}} + (1-\\delta) \\tilde{k_{t}} \\right)\n",
    "$$\n",
    "$$ \n",
    "\\tilde{h}_{t+1} = \\frac{1}{(1+n)(1+g)} \\left( s_{H} \\tilde{y_{t}} + (1-\\delta) \\tilde{h_{t}} \\right)\n",
    "$$\n",
    "\n",
    "The transition-equations can be found by substituting for y in the two latter equations"
   ]
  },
  {
   "attachments": {},
   "cell_type": "markdown",
   "metadata": {},
   "source": [
    "## Steady State"
   ]
  },
  {
   "attachments": {},
   "cell_type": "markdown",
   "metadata": {},
   "source": [
    "#### We will start by solving the steady states analytically"
   ]
  },
  {
   "attachments": {},
   "cell_type": "markdown",
   "metadata": {},
   "source": [
    "We will start by calculating the steady state values for $ h^* $ and $ k^*$"
   ]
  },
  {
   "cell_type": "code",
   "execution_count": 3,
   "metadata": {},
   "outputs": [],
   "source": [
    "\n",
    "# We name our variables \n",
    "k = sm.symbols('k')\n",
    "h = sm.symbols('h')\n",
    "alpha = sm.symbols('alpha')\n",
    "delta = sm.symbols('delta')\n",
    "s_K = sm.symbols('s_K')\n",
    "s_H = sm.symbols('s_H')\n",
    "g = sm.symbols('g')\n",
    "n = sm.symbols('n')\n",
    "phi = sm.symbols('phi')"
   ]
  },
  {
   "cell_type": "code",
   "execution_count": 83,
   "metadata": {},
   "outputs": [
    {
     "data": {
      "text/latex": [
       "$\\displaystyle \\left(\\frac{\\left(\\delta + g n + g + n\\right) \\left(\\left(\\frac{k^{- \\alpha} \\left(\\delta + g n + g + n\\right)}{s_{H}}\\right)^{\\frac{1}{\\phi - 1}}\\right)^{- \\phi}}{s_{K}}\\right)^{\\frac{1}{\\alpha - 1}}$"
      ],
      "text/plain": [
       "((delta + g*n + g + n)/(s_K*(((delta + g*n + g + n)/(k**alpha*s_H))**(1/(phi - 1)))**phi))**(1/(alpha - 1))"
      ]
     },
     "execution_count": 83,
     "metadata": {},
     "output_type": "execute_result"
    }
   ],
   "source": [
    "# We call on the module from the SolowModelClass, to solve the steady state\n",
    "model.SteadyStateValues_k(k,h,alpha,delta,s_K,s_H,g,n,phi)"
   ]
  },
  {
   "cell_type": "code",
   "execution_count": 84,
   "metadata": {},
   "outputs": [
    {
     "data": {
      "text/latex": [
       "$\\displaystyle \\left(\\frac{\\left(\\delta + g n + g + n\\right) \\left(\\left(\\frac{h^{- \\phi} \\left(\\delta + g n + g + n\\right)}{s_{K}}\\right)^{\\frac{1}{\\alpha - 1}}\\right)^{- \\alpha}}{s_{H}}\\right)^{\\frac{1}{\\phi - 1}}$"
      ],
      "text/plain": [
       "((delta + g*n + g + n)/(s_H*(((delta + g*n + g + n)/(h**phi*s_K))**(1/(alpha - 1)))**alpha))**(1/(phi - 1))"
      ]
     },
     "execution_count": 84,
     "metadata": {},
     "output_type": "execute_result"
    }
   ],
   "source": [
    "model.SteadyStateValues_h(k,h,alpha,delta,s_K,s_H,g,n,phi)  "
   ]
  },
  {
   "attachments": {},
   "cell_type": "markdown",
   "metadata": {},
   "source": [
    "We can write these two expressions a bit nicer"
   ]
  },
  {
   "attachments": {},
   "cell_type": "markdown",
   "metadata": {},
   "source": [
    "$$\n",
    "\\tilde{k}^* = \\left( \\frac { s_K ^{1-\\phi}  s_H^\\phi} { n+ g + \\delta + ng } \\right) ^\\frac{1}{1-\\phi - \\alpha}\n",
    "$$\n",
    "$$\n",
    "\\tilde{h}^* = \\left( \\frac { s_K ^\\alpha  s_H^{1-\\alpha}} { n+ g + \\delta + ng } \\right) ^\\frac{1}{1-\\phi - \\alpha}\n",
    "$$\n",
    "\n",
    "\n",
    " \n",
    " \n",
    " \n",
    " \n",
    " \n",
    " \n",
    " \n",
    " \n",
    " \n",
    " \n",
    " \n",
    " \n",
    "\n",
    " \n",
    " \n",
    " \n",
    " \n",
    " \n",
    " \n",
    " \n",
    " \n",
    " \n",
    " \n",
    " \n",
    " \n",
    " \n",
    "\n"
   ]
  },
  {
   "attachments": {},
   "cell_type": "markdown",
   "metadata": {},
   "source": [
    "We now have the the two Steady State equations for $h^*$ and $k^*$. \n"
   ]
  },
  {
   "attachments": {},
   "cell_type": "markdown",
   "metadata": {},
   "source": [
    "Now we will calculate the steady state values for $k^*$ and $h^*$"
   ]
  },
  {
   "cell_type": "code",
   "execution_count": 5,
   "metadata": {},
   "outputs": [
    {
     "name": "stdout",
     "output_type": "stream",
     "text": [
      "The steady state value for k is 63.15712297843114 and the steady state value for h is 32.58907545687048\n"
     ]
    }
   ],
   "source": [
    "# We define the two stedy states:\n",
    "k_tilde = ((s_K**(1-phi) * s_H**phi)/(n+g+delta +n*g))**(1/(1-phi-alpha))\n",
    "h_tilde = ( (s_K**(alpha) * s_H**(1-alpha))/(n+g+delta +n*g))**(1/(1-phi-alpha))\n",
    "        \n",
    "# Now we turn them in to pyhton function, using sympy lambdify.\n",
    "kss_function = sm.lambdify((alpha,phi,delta,n,g,s_K,s_H),k_tilde)\n",
    "hss_function = sm.lambdify((alpha,phi,delta,n,g,s_K,s_H),h_tilde) \n",
    "\n",
    "print('The steady state value for k is',kss_function(0.333,0.333,0.02,0.014,0.016,0.25,0.129),\n",
    "      'and the steady state value for h is',hss_function(0.333,0.333,0.02,0.014,0.016,0.25,0.129))\n"
   ]
  },
  {
   "attachments": {},
   "cell_type": "markdown",
   "metadata": {},
   "source": [
    "We can now also derive the Nullclines which show respectively when $\\Delta \\tilde{h}=0$ and when $\\Delta \\tilde{k} =0$\n",
    "\n",
    "The equations for the Nullclines are found in the book and they look as follows:\n",
    "$$ \\Delta \\tilde{k} =0 \\iff \\tilde{h}=\\left(\\frac{{(n + g + \\delta + n \\cdot g)}}{{s_K}}\\right)^{\\frac{1}{{\\phi}}} \\cdot k_{\\tilde{t}}^{\\frac{{1 - \\alpha}}{{\\phi}}}\n",
    "$$\n",
    "$$\n",
    "\\Delta \\tilde{h}=0 \\iff \\tilde{h}=\\left(\\frac{{s_H}}{{n + g + \\delta + n \\cdot g}}\\right)^{\\frac{1}{{1 - \\phi}}} \\cdot k_{\\tilde{t}}^{\\frac{{\\alpha}}{{1 - \\alpha}}}\n",
    "$$\n",
    "\n",
    "We have added a method that simulates these nullclines given our parameter values over a period of time to show the interception is the steady state level for the model as represented by the red not on the graphs.\n"
   ]
  },
  {
   "cell_type": "code",
   "execution_count": 6,
   "metadata": {},
   "outputs": [
    {
     "name": "stdout",
     "output_type": "stream",
     "text": [
      "ktilde in steady state: 63.1571229784311, htilde in steady state: 32.5890754568704\n"
     ]
    },
    {
     "data": {
      "image/png": "[encoded data removed]",
      "text/plain": [
       "<Figure size 640x480 with 1 Axes>"
      ]
     },
     "metadata": {},
     "output_type": "display_data"
    }
   ],
   "source": [
    "model.Nullclines(do_sim=True)"
   ]
  },
  {
   "cell_type": "code",
   "execution_count": 7,
   "metadata": {},
   "outputs": [
    {
     "data": {
      "application/vnd.jupyter.widget-view+json": {
       "model_id": "93a6db2a60d6477ab2092a472e61bd95",
       "version_major": 2,
       "version_minor": 0
      },
      "text/plain": [
       "interactive(children=(FloatSlider(value=0.25, description='s_K', max=1.0, min=0.01, step=0.01), FloatSlider(va…"
      ]
     },
     "metadata": {},
     "output_type": "display_data"
    }
   ],
   "source": [
    "\n",
    "model.Nullclines2()"
   ]
  },
  {
   "attachments": {},
   "cell_type": "markdown",
   "metadata": {},
   "source": [
    "## Numerical solution"
   ]
  },
  {
   "attachments": {},
   "cell_type": "markdown",
   "metadata": {},
   "source": [
    "For our numerical solution we have chosen to create a simulation of our model and show the tilde variables convergence towards steady state:"
   ]
  },
  {
   "cell_type": "code",
   "execution_count": 8,
   "metadata": {},
   "outputs": [
    {
     "data": {
      "image/png": "[encoded data removed]",
      "text/plain": [
       "<Figure size 640x480 with 1 Axes>"
      ]
     },
     "metadata": {},
     "output_type": "display_data"
    }
   ],
   "source": [
    "from modelproject import SimulationClass\n",
    "simulation = SimulationClass()\n",
    "simulation.simulate(periods=500)\n"
   ]
  },
  {
   "attachments": {},
   "cell_type": "markdown",
   "metadata": {},
   "source": [
    "The parameters used for the simulation are the following:\n",
    "$$\n",
    "\\alpha = 1/3\\\\\n",
    "\\phi = 1/3\\\\\n",
    "\\delta = 0.02\\\\\n",
    "n = 0.014\\\\\n",
    "g = 0.016\\\\\n",
    "s_K = 0.25\\\\\n",
    "s_H = 0.129\n",
    "\n",
    "$$\n",
    "These parameters were taken from the books on which our model is based.\n",
    "As we can clearly see that with these parameters it is taking us upwards of 500 periods to reach the expected steady state level."
   ]
  },
  {
   "attachments": {},
   "cell_type": "markdown",
   "metadata": {},
   "source": [
    "# Further analysis"
   ]
  },
  {
   "attachments": {},
   "cell_type": "markdown",
   "metadata": {},
   "source": [
    "For further analysis the accumulation of capital in an economy and the convergence towards steady state levels. We will now simulate what would happen if half the economy's capital was destroyed at period 200."
   ]
  },
  {
   "cell_type": "code",
   "execution_count": 9,
   "metadata": {},
   "outputs": [
    {
     "data": {
      "image/png": "[encoded data removed]",
      "text/plain": [
       "<Figure size 640x480 with 1 Axes>"
      ]
     },
     "metadata": {},
     "output_type": "display_data"
    }
   ],
   "source": [
    "simulation.simulate(periods=500, destroy_period=200)          "
   ]
  },
  {
   "attachments": {},
   "cell_type": "markdown",
   "metadata": {},
   "source": [
    "As we can see, if the country were to lose half of their physical capital in period 200, it would not only affect the physical capital but also the human capital. This happens because of the cross effects between them as both are affected by a change in Y."
   ]
  },
  {
   "attachments": {},
   "cell_type": "markdown",
   "metadata": {},
   "source": [
    "Lastly in our analysis we want to see how a change in the saving rates for both physical and human capital affect our simulation of capital accumulation"
   ]
  },
  {
   "cell_type": "code",
   "execution_count": 10,
   "metadata": {},
   "outputs": [
    {
     "data": {
      "application/vnd.jupyter.widget-view+json": {
       "model_id": "1e8645b584eb41b1b26592d1e77c8a29",
       "version_major": 2,
       "version_minor": 0
      },
      "text/plain": [
       "interactive(children=(FloatSlider(value=0.25, description='s_K', max=0.5, min=0.1, step=0.05), FloatSlider(val…"
      ]
     },
     "metadata": {},
     "output_type": "display_data"
    },
    {
     "data": {
      "text/plain": [
       "<function modelproject.SimulationClass.simulate.<locals>.update_simulation(s_K, s_H)>"
      ]
     },
     "metadata": {},
     "output_type": "display_data"
    }
   ],
   "source": [
    "simulation.simulate(periods=500, interactive=True)"
   ]
  },
  {
   "attachments": {},
   "cell_type": "markdown",
   "metadata": {},
   "source": [
    "If we with the sliders try to increase either of the saving rates, we are going to see both steady state levels and growth path increases. Intuitively this comes from the cross effects between an increase in either types of capital.\n",
    "\n",
    "As both are factors in the production function both will lead to an increase in Y, meaning that when you then take the saving rate of the other production factor the total amount of savings will automatically increase. We are however seeing decreasing marginal product for both, meaning that the distance between the two factors the less the more of a difference will we see in the cross effects."
   ]
  },
  {
   "attachments": {},
   "cell_type": "markdown",
   "metadata": {},
   "source": [
    "# Conclusion"
   ]
  },
  {
   "attachments": {},
   "cell_type": "markdown",
   "metadata": {},
   "source": [
    "We have now gone over some of the main tools to analyze the Solow model with Human capital. We found that with the parameter values from the book, which have been found through empirical analysis, that there will be a convergence towards a steady state level of capital in the economy.\n",
    "\n",
    "It is however important to realize that this convergence is only for the tilde adjusted per capita values. With technological progress in the economy, the total level of capital and output will converge to a steady growth path.\n",
    "\n",
    "Other than that, we analyzed what would happen if the economy suddenly lost half of its physical capital during its convergence towards steady state. We saw that not only would the physical capital be affected, but also human capital and obviously output.\n",
    "\n",
    "Lastly we tested what different savings rates would mean for the convergence. We saw that higher saving rates lead to higher levels of steady state.\n",
    "\n",
    "It is however important to realize that, it is not an easy thing to change the savings rate in an economy. The population obviously need to consume a certain level to maintain a certain standard of living.\n",
    "\n",
    "As it is with these types of models, there are a lot of things can we couldve analyzed deeper, for example it would be interesting to calcute the golden rule savings rate for different parameter values and compare that way. We chose to use the parameter values for USA from the book, but international comparison wouldve been interesting. Other than that it could also have been interesting to look at the convergence speed and calculated that, it wouldve given us a more definitive answer to many of our questions."
   ]
  },
  {
   "attachments": {},
   "cell_type": "markdown",
   "metadata": {},
   "source": [
    "# Extension to the model"
   ]
  },
  {
   "attachments": {},
   "cell_type": "markdown",
   "metadata": {},
   "source": [
    "We will now add a tax ($\\tau$) on capital, the tax revenue will be "
   ]
  },
  {
   "attachments": {},
   "cell_type": "markdown",
   "metadata": {},
   "source": [
    "Our model can now be written as follow: \n",
    "\n",
    "$$\n",
    "Y_{t} = K_{t}^{\\alpha} H_{t}^{\\phi} (A_{t} L_{t})^{1-\\alpha -\\phi}\n",
    "$$\n",
    "\n",
    "\n",
    "$$\n",
    "K_{t+1}  = s_{K} Y_{t} + (1- \\delta - \\tau) K_{t}\n",
    "$$\n",
    "\n",
    "$$ \n",
    "H_{t+1} = \\tau K_{t} + (1 - \\delta) H_{t} \n",
    "$$\n",
    "\n",
    "$$\n",
    "L_{t+1} = (1 + n) L_{t}\n",
    "$$\n",
    "\n",
    "$$\n",
    "A_{t+1} = (1 + g) A_{t}\n",
    "$$ \n",
    "\n",
    "We can now compute the variables as per effective worker variables: \n",
    "$$\n",
    "\\tilde{y_{t}}= \\tilde{k_{t}}^{\\alpha} \\tilde{h_{t}}^{\\phi} \n",
    "$$\n",
    "$$\n",
    "\\tilde{k}_{t+1} = \\frac{1}{(1+n)(1+g)} \\left( s_{K} \\tilde{k_{t}}^{\\alpha} \\tilde{h_{t}}^{\\phi} + (1-\\delta- \\tau) \\tilde{k_{t}} \\right)\n",
    "$$\n",
    "$$ \n",
    "\\tilde{h}_{t+1} = \\frac{1}{(1+n)(1+g)} \\left( \\tau \\tilde{k_{t}} + (1-\\delta) \\tilde{h_{t}} \\right)\n",
    "$$\n"
   ]
  },
  {
   "cell_type": "code",
   "execution_count": 41,
   "metadata": {},
   "outputs": [],
   "source": [
    "\n",
    "from modelproject import ExtensionClass\n",
    "Extension = ExtensionClass()  "
   ]
  },
  {
   "cell_type": "code",
   "execution_count": 59,
   "metadata": {},
   "outputs": [],
   "source": [
    "# We set the parameters\n",
    "k = sm.symbols('k')\n",
    "h = sm.symbols('h')\n",
    "alpha = sm.symbols('alpha')\n",
    "delta = sm.symbols('delta')\n",
    "tau = sm.symbols('tau')\n",
    "s_K = sm.symbols('s_K')\n",
    "g = sm.symbols('g')\n",
    "n = sm.symbols('n')\n",
    "phi = sm.symbols('phi')\n",
    "y = k**alpha * h**phi\n",
    "\n"
   ]
  },
  {
   "attachments": {},
   "cell_type": "markdown",
   "metadata": {},
   "source": [
    "We will now calculate the steady state functions for k and h"
   ]
  },
  {
   "cell_type": "code",
   "execution_count": 63,
   "metadata": {},
   "outputs": [
    {
     "data": {
      "text/latex": [
       "$\\displaystyle \\left(\\frac{\\left(\\frac{k \\tau}{\\delta + g n + g + n}\\right)^{- \\phi} \\left(\\delta + g n + g + n + \\tau\\right)}{s_{K}}\\right)^{\\frac{1}{\\alpha - 1}}$"
      ],
      "text/plain": [
       "((delta + g*n + g + n + tau)/(s_K*(k*tau/(delta + g*n + g + n))**phi))**(1/(alpha - 1))"
      ]
     },
     "execution_count": 63,
     "metadata": {},
     "output_type": "execute_result"
    }
   ],
   "source": [
    "Extension.steady_statek(alpha,phi,delta,n,g,s_K,tau)\n"
   ]
  },
  {
   "cell_type": "code",
   "execution_count": 64,
   "metadata": {},
   "outputs": [
    {
     "data": {
      "text/latex": [
       "$\\displaystyle \\frac{\\tau \\left(\\frac{h^{- \\phi} \\left(\\delta + g n + g + n + \\tau\\right)}{s_{K}}\\right)^{\\frac{1}{\\alpha - 1}}}{\\delta + g n + g + n}$"
      ],
      "text/plain": [
       "tau*((delta + g*n + g + n + tau)/(h**phi*s_K))**(1/(alpha - 1))/(delta + g*n + g + n)"
      ]
     },
     "execution_count": 64,
     "metadata": {},
     "output_type": "execute_result"
    }
   ],
   "source": [
    "Extension.steady_stateh(alpha,phi,delta,n,g,s_K,tau)"
   ]
  },
  {
   "attachments": {},
   "cell_type": "markdown",
   "metadata": {},
   "source": [
    "We can reformulate these steady states to make them nicer and more readable\n",
    "\n",
    "$$\n",
    "\\tilde{k}^* = \\left(\\frac{s_K}{\\delta + \\tau + n + g +ng} \\right)^\\frac{1}{1-\\alpha-\\phi} \\left( \\frac{\\tau}{\\delta + \\tau + n +g +ng} \\right) ^\\frac{\\phi}{1-\\alpha - \\phi}\n",
    "$$\n",
    "$$\n",
    "\\tilde{h}^* = \\left(\\frac{s_K}{\\delta + \\tau + n + g +ng} \\right)^\\frac{1}{1-\\alpha-\\phi} \\left( \\frac{\\tau}{\\delta + \\tau + n +g +ng} \\right) ^\\frac{1-\\alpha}{1-\\alpha - \\phi}\n",
    "$$"
   ]
  },
  {
   "attachments": {},
   "cell_type": "markdown",
   "metadata": {},
   "source": [
    "Now we will claculate the steady state values: "
   ]
  },
  {
   "cell_type": "code",
   "execution_count": 86,
   "metadata": {},
   "outputs": [
    {
     "ename": "SyntaxError",
     "evalue": "invalid syntax (<lambdifygenerated-748>, line 1)",
     "output_type": "error",
     "traceback": [
      "Traceback \u001b[0;36m(most recent call last)\u001b[0m:\n",
      "  File \u001b[1;32m\"/Users/juliane/opt/anaconda3/lib/python3.9/site-packages/IPython/core/interactiveshell.py\"\u001b[0m, line \u001b[1;32m3457\u001b[0m, in \u001b[1;35mrun_code\u001b[0m\n    exec(code_obj, self.user_global_ns, self.user_ns)\n",
      "  File \u001b[1;32m\"/var/folders/5k/cbgd218j5d30nkg1dkw057100000gn/T/ipykernel_30673/234218872.py\"\u001b[0m, line \u001b[1;32m6\u001b[0m, in \u001b[1;35m<module>\u001b[0m\n    kss_function = sm.lambdify((alpha,phi,delta,n,g,tau,s_K),k_tilde)\n",
      "\u001b[0;36m  File \u001b[0;32m\"/Users/juliane/opt/anaconda3/lib/python3.9/site-packages/sympy/utilities/lambdify.py\"\u001b[0;36m, line \u001b[0;32m900\u001b[0;36m, in \u001b[0;35mlambdify\u001b[0;36m\u001b[0m\n\u001b[0;31m    c = compile(funcstr, filename, 'exec')\u001b[0m\n",
      "\u001b[0;36m  File \u001b[0;32m\"<lambdifygenerated-748>\"\u001b[0;36m, line \u001b[0;32m1\u001b[0m\n\u001b[0;31m    def _lambdifygenerated(0.33, 0.33, 0.02, 0.014, 0.016, 0.2, 0.25):\u001b[0m\n\u001b[0m                           ^\u001b[0m\n\u001b[0;31mSyntaxError\u001b[0m\u001b[0;31m:\u001b[0m invalid syntax\n"
     ]
    }
   ],
   "source": [
    " # We define the two stedy state-functions:\n",
    "k_tilde = (s_K / (delta + tau + n + g + n*g)**(1/(1-alpha-phi))) * (tau/(delta + n + g + n*g))**((phi)/(1-alpha-phi))\n",
    "h_tilde = (s_K / (delta + tau + n + g + n*g)**(1/(1-alpha-phi))) * (tau/(delta + n + g + n*g))**((1-alpha)/(1-alpha-phi))\n",
    "\n",
    "# now we turn them in to pyhton function, using sympy lambdify\n",
    "kss_function = sm.lambdify((alpha,phi,delta,n,g,tau,s_K),k_tilde)\n",
    "hss_function = sm.lambdify((alpha,phi,delta,n,g,tau,s_K),h_tilde)\n",
    "\n",
    "# Now we call on the functions, to get the steady state values for k and h\n",
    "kss = kss_function(0.33,0.33,0.02,0.014,0.016,0.25,0.2)\n",
    "hss = hss_function(0.33,0.33,0.02,0.014,0.016,0.25,0.2)"
   ]
  },
  {
   "cell_type": "code",
   "execution_count": 87,
   "metadata": {},
   "outputs": [
    {
     "ename": "SyntaxError",
     "evalue": "invalid syntax (<lambdifygenerated-749>, line 1)",
     "output_type": "error",
     "traceback": [
      "Traceback \u001b[0;36m(most recent call last)\u001b[0m:\n",
      "  File \u001b[1;32m\"/Users/juliane/opt/anaconda3/lib/python3.9/site-packages/IPython/core/interactiveshell.py\"\u001b[0m, line \u001b[1;32m3457\u001b[0m, in \u001b[1;35mrun_code\u001b[0m\n    exec(code_obj, self.user_global_ns, self.user_ns)\n",
      "  File \u001b[1;32m\"/var/folders/5k/cbgd218j5d30nkg1dkw057100000gn/T/ipykernel_30673/639984579.py\"\u001b[0m, line \u001b[1;32m1\u001b[0m, in \u001b[1;35m<module>\u001b[0m\n    Extension.ss_functions(phi,delta,n,g,s_K,tau)\n",
      "  File \u001b[1;32m\"/Users/juliane/Desktop/projects-2023-jt-2/modelproject/modelproject.py\"\u001b[0m, line \u001b[1;32m458\u001b[0m, in \u001b[1;35mss_functions\u001b[0m\n    kss_function = sm.lambdify((alpha,phi,delta,n,g,tau,s_K),k_tilde)\n",
      "\u001b[0;36m  File \u001b[0;32m\"/Users/juliane/opt/anaconda3/lib/python3.9/site-packages/sympy/utilities/lambdify.py\"\u001b[0;36m, line \u001b[0;32m900\u001b[0;36m, in \u001b[0;35mlambdify\u001b[0;36m\u001b[0m\n\u001b[0;31m    c = compile(funcstr, filename, 'exec')\u001b[0m\n",
      "\u001b[0;36m  File \u001b[0;32m\"<lambdifygenerated-749>\"\u001b[0;36m, line \u001b[0;32m1\u001b[0m\n\u001b[0;31m    def _lambdifygenerated(0.33, 0.33, 0.02, 0.014, 0.016, 0.2, 0.25):\u001b[0m\n\u001b[0m                           ^\u001b[0m\n\u001b[0;31mSyntaxError\u001b[0m\u001b[0;31m:\u001b[0m invalid syntax\n"
     ]
    }
   ],
   "source": [
    "Extension.ss_functions(phi,delta,n,g,s_K,tau)"
   ]
  },
  {
   "cell_type": "code",
   "execution_count": 99,
   "metadata": {},
   "outputs": [
    {
     "data": {
      "text/plain": [
       "     fun: array([-2.86430332e-06, -2.86430332e-06])\n",
       " message: 'A solution was found at the specified tolerance.'\n",
       "     nit: 12\n",
       "  status: 1\n",
       " success: True\n",
       "       x: array([0.00097002, 0.00097002])"
      ]
     },
     "execution_count": 99,
     "metadata": {},
     "output_type": "execute_result"
    }
   ],
   "source": [
    "alpha = 0.33\n",
    "phi = 0.33\n",
    "delta = 0.02\n",
    "n = 0.014\n",
    "g = 0.016\n",
    "s_K = 0.25\n",
    "tau = 0.2\n",
    "ßß\n",
    "\n",
    "def ss_values(phi,delta,n,g,s_K,tau):\n",
    "    \n",
    "    # We define the objective function\n",
    "    f = lambda k: k**alpha\n",
    "    obj_kss = lambda kss: kss- (1/((1+n)*(1+g))* (s_K* f(kss) * ((tau/delta) *kss) + (1-delta-tau)*kss))\n",
    "   \n",
    "    # We use a solver to find the steady state value for k\n",
    "    kss = optimize.root(obj_kss,[1,1],method='broyden1')\n",
    "\n",
    "    return kss\n",
    "\n",
    "ss_values(phi,delta,n,g,s_K,tau)"
   ]
  }
 ],
 "metadata": {
  "kernelspec": {
   "display_name": "base",
   "language": "python",
   "name": "python3"
  },
  "language_info": {
   "codemirror_mode": {
    "name": "ipython",
    "version": 3
   },
   "file_extension": ".py",
   "mimetype": "text/x-python",
   "name": "python",
   "nbconvert_exporter": "python",
   "pygments_lexer": "ipython3",
   "version": "3.9.13"
  },
  "toc-autonumbering": true,
  "vscode": {
   "interpreter": {
    "hash": "47ef90cdf3004d3f859f1fb202523c65c07ba7c22eefd261b181f4744e2d0403"
   }
  }
 },
 "nbformat": 4,
 "nbformat_minor": 4
}
