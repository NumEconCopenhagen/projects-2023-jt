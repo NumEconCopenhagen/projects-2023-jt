{
 "cells": [
  {
   "attachments": {},
   "cell_type": "markdown",
   "metadata": {},
   "source": [
    "# The Solow Model with Human Capital"
   ]
  },
  {
   "cell_type": "markdown",
   "metadata": {},
   "source": [
    "Imports and set magics:"
   ]
  },
  {
   "cell_type": "code",
   "execution_count": 1,
   "metadata": {},
   "outputs": [],
   "source": [
    "import numpy as np\n",
    "from scipy import optimize\n",
    "import sympy as sm\n",
    "from scipy import linalg\n",
    "from types import SimpleNamespace\n",
    "import pandas as pd \n",
    "import matplotlib.pyplot as plt\n",
    "import ipywidgets \n",
    "\n",
    "\n",
    "# autoreload modules when code is run\n",
    "%load_ext autoreload\n",
    "%autoreload 2\n",
    "\n",
    "# We import our own code from the ModelProject.py file\n",
    "from ModelProject import SolowModelClass \n",
    "#We import our model\n",
    "model = SolowModelClass()\n"
   ]
  },
  {
   "cell_type": "markdown",
   "metadata": {},
   "source": [
    "# Model description"
   ]
  },
  {
   "attachments": {},
   "cell_type": "markdown",
   "metadata": {},
   "source": [
    "**The solow model with human capital** \n",
    " \n",
    "The solow model investigates how a country grows over time and how different variables affects this growth. \n",
    "\n",
    "The \"base-line\" model that we will look at, will be an extended solow model, the solow model with human capital. \n",
    "\n",
    "In the solow model with human capital, there is an inclusion of human capital in the production function and accumulation of human capital by consumers. * \n",
    " \n",
    "\n",
    "This project will look at the variation with human capital and how the implemtation of human capital affects the growth. Firstly it will be assumed that the human capitala is equal to the countrys population and later we will change this by making the human capital a part of the total population. Finally, we wil see how the parameters $ \\alpha$ , $ \\phi$ and $\\delta$ will affect the growth\n",
    "\n",
    "\n",
    "\n",
    "\n",
    ". * \"Introducing Advanced Macroeconomics, by H.J.Whitta-Jacobsen and P.B.Sørensen\""
   ]
  },
  {
   "attachments": {},
   "cell_type": "markdown",
   "metadata": {},
   "source": [
    "The Solow-model with Human capital is given as below, by the book \"Introducing Advanced Macroeconomics, by H.J.Whitta- Jacobsen and P.B.Sørensen\"\n",
    "\n",
    "\n",
    "$$\n",
    "Y_{t} = K_{t}^{\\alpha} H_{t}^{\\phi} (A_{t} L_{t})^{1-\\alpha -\\phi}\n",
    "$$\n",
    "\n",
    "$$\n",
    "r_{t} = \\alpha \\left( \\frac{K_{t}}{A_{t} L_{t}} \\right)^{\\alpha -1} \\left(\\frac{H_{t}}{A_{t} L_{t}}\\right)^{\\phi}\n",
    "$$\n",
    "\n",
    "$$\n",
    "w{_t} = ( 1 - \\alpha) \\left( \\frac{K_{t}}{A_{t} L_{t}} \\right)^{\\alpha} \\left(\\frac{H_{t}}{A_{t} L_{t}}\\right)^{\\phi} A_{t}\n",
    "$$\n",
    "\n",
    "$$\n",
    "K_{t+1} - K_{t} = s_{K} Y_{t} - \\delta K_{t}\n",
    "$$\n",
    "\n",
    "$$ \n",
    "H_{t+1} - H_{t} = s_{H} Y_{t} - \\delta H_{t}\n",
    "$$\n",
    "\n",
    "\n",
    "$$\n",
    "L_{t+1} = (1 + n) L_{t}\n",
    "$$\n",
    "\n",
    "$$\n",
    "A_{t+1} = (1 + g) A_{t}\n",
    "$$ \n",
    "\n",
    "We can now compute the variables as per effective worker variables: \n",
    "$$\n",
    "\\tilde{y_{t}}= \\tilde{k_{t}}^{\\alpha} \\tilde{h_{t}}^{\\phi} \n",
    "$$\n",
    "$$\n",
    "\\tilde{k}_{t+1} = \\frac{1}{(1+n)(1+g)} \\left( s_{K} \\tilde{y_{t}} + (1-\\delta) \\tilde{k_{t}} \\right)\n",
    "$$\n",
    "$$ \n",
    "\\tilde{h}_{t+1} = \\frac{1}{(1+n)(1+g)} \\left( s_{H} \\tilde{y_{t}} + (1-\\delta) \\tilde{h_{t}} \\right)\n",
    "$$\n",
    "\n",
    "The transition-equations can be found by substituting for y in the two latter equations"
   ]
  },
  {
   "attachments": {},
   "cell_type": "markdown",
   "metadata": {},
   "source": [
    "## Steady State"
   ]
  },
  {
   "attachments": {},
   "cell_type": "markdown",
   "metadata": {},
   "source": [
    "#### We will start by solving the steady states analytically"
   ]
  },
  {
   "attachments": {},
   "cell_type": "markdown",
   "metadata": {},
   "source": [
    "We will start by calculating the steady state values for $ h^* $ and $ k^*$"
   ]
  },
  {
   "cell_type": "code",
   "execution_count": 2,
   "metadata": {},
   "outputs": [
    {
     "name": "stdout",
     "output_type": "stream",
     "text": [
      "k_ss =  \\left(\\frac{\\left(\\delta + g n + g + n\\right) \\left(\\left(\\frac{k^{- \\alpha} \\left(\\delta + g n + g + n\\right)}{s_{H}}\\right)^{\\frac{1}{\\phi - 1}}\\right)^{- \\phi}}{s_{K}}\\right)^{\\frac{1}{\\alpha - 1}} h_ss =  \\left(\\frac{\\left(\\delta + g n + g + n\\right) \\left(\\left(\\frac{h^{- \\phi} \\left(\\delta + g n + g + n\\right)}{s_{K}}\\right)^{\\frac{1}{\\alpha - 1}}\\right)^{- \\alpha}}{s_{H}}\\right)^{\\frac{1}{\\phi - 1}}\n"
     ]
    }
   ],
   "source": [
    "\n",
    "# We name our variables \n",
    "k = sm.symbols('k')\n",
    "h = sm.symbols('h')\n",
    "alpha = sm.symbols('alpha')\n",
    "delta = sm.symbols('delta')\n",
    "s_K = sm.symbols('s_K')\n",
    "s_H = sm.symbols('s_H')\n",
    "g = sm.symbols('g')\n",
    "n = sm.symbols('n')\n",
    "phi = sm.symbols('phi')\n",
    "# We call on the module from the SolowModelClass, to solve the steady state\n",
    "model.SteadyStateValues(k,h,alpha,delta,s_K,s_H,g,n,phi)\n"
   ]
  },
  {
   "attachments": {},
   "cell_type": "markdown",
   "metadata": {},
   "source": [
    "We will now make it in to equations, by using the printed LaTex code: "
   ]
  },
  {
   "attachments": {},
   "cell_type": "markdown",
   "metadata": {},
   "source": [
    "$$\n",
    "k^* =  \\left(\\frac{\\left(\\delta + g n + g + n\\right) \\left(\\left(\\frac{k^{- \\alpha} \\left(\\delta + g n + g + n\\right)}{s_{H}}\\right)^{\\frac{1}{\\phi - 1}}\\right)^{- \\phi}}{s_{K}}\\right)^{\\frac{1}{\\alpha - 1}} \n",
    "$$\n",
    "$$\n",
    "h^* =  \\left(\\frac{\\left(\\delta + g n + g + n\\right) \\left(\\left(\\frac{h^{- \\phi} \\left(\\delta + g n + g + n\\right)}{s_{K}}\\right)^{\\frac{1}{\\alpha - 1}}\\right)^{- \\alpha}}{s_{H}}\\right)^{\\frac{1}{\\phi - 1}}\n",
    "$$\n"
   ]
  },
  {
   "attachments": {},
   "cell_type": "markdown",
   "metadata": {},
   "source": [
    "We can write these two expressions a bit nicer"
   ]
  },
  {
   "attachments": {},
   "cell_type": "markdown",
   "metadata": {},
   "source": [
    "$$\n",
    "\\tilde{k}^* = \\left( \\frac { s_K ^{1-\\phi}  s_H^\\phi} { n+ g + \\delta + ng } \\right) ^\\frac{1}{1-\\phi - \\alpha}\n",
    "$$\n",
    "$$\n",
    "\\tilde{h}^* = \\left( \\frac { s_K ^\\alpha  s_H^{1-\\alpha}} { n+ g + \\delta + ng } \\right) ^\\frac{1}{1-\\phi - \\alpha}\n",
    "$$\n",
    "\n",
    "\n",
    " \n",
    " \n",
    " \n",
    " \n",
    " \n",
    " \n",
    " \n",
    " \n",
    " \n",
    " \n",
    " \n",
    " \n",
    "\n",
    " \n",
    " \n",
    " \n",
    " \n",
    " \n",
    " \n",
    " \n",
    " \n",
    " \n",
    " \n",
    " \n",
    " \n",
    " \n",
    "\n"
   ]
  },
  {
   "attachments": {},
   "cell_type": "markdown",
   "metadata": {},
   "source": [
    "We now have the the two Steady State equations for $h^*$ and $k^*$. \n"
   ]
  },
  {
   "attachments": {},
   "cell_type": "markdown",
   "metadata": {},
   "source": [
    "Now we will calculate the steady state values for $k^*$ and $h^*$"
   ]
  },
  {
   "cell_type": "code",
   "execution_count": 3,
   "metadata": {},
   "outputs": [
    {
     "name": "stdout",
     "output_type": "stream",
     "text": [
      "The steady state value for k is 23.415563047356898 and the steady state value for h is 32.58907545687048\n"
     ]
    }
   ],
   "source": [
    "# We define the two stedy states:\n",
    "k_tilde = ((s_K**(1-phi) * s_H**phi)/(n+g+delta +n*g))**(1/(1-phi-alpha))\n",
    "h_tilde = ( (s_K**(alpha) * s_H**(1-alpha))/(n+g+delta +n*g))**(1/(1-phi-alpha))\n",
    "        \n",
    "# Now we turn them in to pyhton function, using sympy lambdify.\n",
    "kss_function = sm.lambdify((alpha,phi,delta,n,g,s_K,s_H),k_tilde)\n",
    "hss_function = sm.lambdify((alpha,phi,delta,n,g,s_K,s_H),h_tilde) \n",
    "\n",
    "print('The steady state value for k is',kss_function(0.333,0.2,0.02,0.014,0.016,0.25,0.129),\n",
    "      'and the steady state value for h is',hss_function(0.333,0.333,0.02,0.014,0.016,0.25,0.129))\n"
   ]
  },
  {
   "cell_type": "markdown",
   "metadata": {},
   "source": [
    "If your model allows for an analytical solution, you should provide here.\n",
    "\n",
    "You may use Sympy for this. Then you can characterize the solution as a function of a parameter of the model.\n",
    "\n",
    "To characterize the solution, first derive a steady state equation as a function of a parameter using Sympy.solve and then turn it into a python function by Sympy.lambdify. See the lecture notes for details. "
   ]
  },
  {
   "attachments": {},
   "cell_type": "markdown",
   "metadata": {},
   "source": [
    "1. Find Steady State\n",
    "2. Compute the null-clines"
   ]
  },
  {
   "cell_type": "markdown",
   "metadata": {},
   "source": [
    "## Numerical solution"
   ]
  },
  {
   "cell_type": "markdown",
   "metadata": {},
   "source": [
    "You can always solve a model numerically. \n",
    "\n",
    "Define first the set of parameters you need. \n",
    "\n",
    "Then choose one of the optimization algorithms that we have gone through in the lectures based on what you think is most fitting for your model.\n",
    "\n",
    "Are there any problems with convergence? Does the model converge for all starting values? Make a lot of testing to figure these things out. "
   ]
  },
  {
   "cell_type": "markdown",
   "metadata": {},
   "source": [
    "# Further analysis"
   ]
  },
  {
   "cell_type": "code",
   "execution_count": 33,
   "metadata": {},
   "outputs": [
    {
     "ename": "TypeError",
     "evalue": "unsupported operand type(s) for ** or pow(): 'list' and 'float'",
     "output_type": "error",
     "traceback": [
      "\u001b[0;31m---------------------------------------------------------------------------\u001b[0m",
      "\u001b[0;31mTypeError\u001b[0m                                 Traceback (most recent call last)",
      "\u001b[0;32m/var/folders/5k/cbgd218j5d30nkg1dkw057100000gn/T/ipykernel_16318/3977246185.py\u001b[0m in \u001b[0;36m<module>\u001b[0;34m\u001b[0m\n\u001b[1;32m     22\u001b[0m \u001b[0;34m\u001b[0m\u001b[0m\n\u001b[1;32m     23\u001b[0m \u001b[0;32mfor\u001b[0m \u001b[0mt\u001b[0m \u001b[0;32min\u001b[0m \u001b[0mrange\u001b[0m\u001b[0;34m(\u001b[0m\u001b[0;36m101\u001b[0m\u001b[0;34m)\u001b[0m\u001b[0;34m:\u001b[0m\u001b[0;34m\u001b[0m\u001b[0;34m\u001b[0m\u001b[0m\n\u001b[0;32m---> 24\u001b[0;31m     \u001b[0myt\u001b[0m \u001b[0;34m=\u001b[0m \u001b[0mht\u001b[0m\u001b[0;34m**\u001b[0m\u001b[0malpha\u001b[0m \u001b[0;34m*\u001b[0m \u001b[0mkt\u001b[0m\u001b[0;34m**\u001b[0m\u001b[0mphi\u001b[0m\u001b[0;34m\u001b[0m\u001b[0;34m\u001b[0m\u001b[0m\n\u001b[0m\u001b[1;32m     25\u001b[0m     \u001b[0mkt\u001b[0m \u001b[0;34m=\u001b[0m \u001b[0;34m(\u001b[0m\u001b[0ms_K\u001b[0m \u001b[0;34m*\u001b[0m \u001b[0myt\u001b[0m \u001b[0;34m+\u001b[0m\u001b[0;34m(\u001b[0m\u001b[0;36m1\u001b[0m\u001b[0;34m-\u001b[0m\u001b[0mdelta\u001b[0m\u001b[0;34m)\u001b[0m\u001b[0;34m*\u001b[0m\u001b[0mkt\u001b[0m\u001b[0;34m)\u001b[0m\u001b[0;34m/\u001b[0m\u001b[0;34m(\u001b[0m\u001b[0;34m(\u001b[0m\u001b[0;36m1\u001b[0m\u001b[0;34m+\u001b[0m\u001b[0mn\u001b[0m\u001b[0;34m)\u001b[0m\u001b[0;34m(\u001b[0m\u001b[0;36m1\u001b[0m\u001b[0;34m+\u001b[0m\u001b[0mg\u001b[0m\u001b[0;34m)\u001b[0m\u001b[0;34m)\u001b[0m\u001b[0;34m\u001b[0m\u001b[0;34m\u001b[0m\u001b[0m\n\u001b[1;32m     26\u001b[0m     \u001b[0mht\u001b[0m \u001b[0;34m=\u001b[0m \u001b[0;34m(\u001b[0m\u001b[0ms_H\u001b[0m \u001b[0;34m*\u001b[0m \u001b[0myt\u001b[0m \u001b[0;34m+\u001b[0m\u001b[0;34m(\u001b[0m\u001b[0;36m1\u001b[0m\u001b[0;34m-\u001b[0m\u001b[0mdelta\u001b[0m\u001b[0;34m)\u001b[0m\u001b[0;34m*\u001b[0m\u001b[0mht\u001b[0m\u001b[0;34m)\u001b[0m\u001b[0;34m/\u001b[0m\u001b[0;34m(\u001b[0m\u001b[0;34m(\u001b[0m\u001b[0;36m1\u001b[0m\u001b[0;34m+\u001b[0m\u001b[0mn\u001b[0m\u001b[0;34m)\u001b[0m\u001b[0;34m(\u001b[0m\u001b[0;36m1\u001b[0m\u001b[0;34m+\u001b[0m\u001b[0mg\u001b[0m\u001b[0;34m)\u001b[0m\u001b[0;34m)\u001b[0m\u001b[0;34m\u001b[0m\u001b[0;34m\u001b[0m\u001b[0m\n",
      "\u001b[0;31mTypeError\u001b[0m: unsupported operand type(s) for ** or pow(): 'list' and 'float'"
     ]
    }
   ],
   "source": [
    "#Simulating how ktilde and htilde change over time\n",
    "\n",
    "# we set our start values\n",
    "kt_0 = 1\n",
    "ht_0 = 1\n",
    "yt_0 = 1\n",
    "alpha = 1/3\n",
    "phi = 1/3\n",
    "delta = 0.02\n",
    "n = 0.014\n",
    "g = 0.016\n",
    "s_K = 0.25\n",
    "s_H = 0.129\n",
    "\n",
    "\n",
    "# we initialize lists for ht and kt\n",
    "kt_list = []\n",
    "ht_list = []\n",
    "yt_list = []\n",
    "\n",
    "for t in range(101):\n",
    "    if t==0: \n",
    "        yt = yt_0\n",
    "        ht = ht_0\n",
    "        kt = kt_0\n",
    "    else :\n",
    "        yt = ht**alpha * kt**phi \n",
    "        kt = (s_K * yt +(1-delta)*kt)/((1+n)(1+g))\n",
    "        ht = (s_H * yt +(1-delta)*ht)/((1+n)(1+g))\n",
    "   \n",
    "    kt_list.append(kt)\n",
    "    ht_list.append(ht)\n",
    "\n",
    "\n",
    "                "
   ]
  },
  {
   "cell_type": "markdown",
   "metadata": {},
   "source": [
    "Make detailed vizualizations of how your model changes with parameter values. \n",
    "\n",
    "Try to make an extension of the model. "
   ]
  },
  {
   "attachments": {},
   "cell_type": "markdown",
   "metadata": {},
   "source": [
    "1. Human Capital is a part of the populaiton - Interactive diagram?\n",
    "\n",
    "$$\n",
    "L_{t} = \\lambda N_{t}\n",
    "$$  \n",
    "where $ 0< \\lambda < 1 $\n",
    "\n",
    "$$\n",
    "N_{t+1} = (1 + n) N_{t} \n",
    "$$\n",
    "\n",
    "2. How changes in alpha, phi and delta affect the growth - interactive diagram. "
   ]
  },
  {
   "cell_type": "markdown",
   "metadata": {},
   "source": [
    "# Conclusion"
   ]
  },
  {
   "cell_type": "markdown",
   "metadata": {},
   "source": [
    "Add concise conclusion. "
   ]
  },
  {
   "cell_type": "code",
   "execution_count": null,
   "metadata": {},
   "outputs": [],
   "source": [
    "production = model.ProductionFunction()\n",
    "\n"
   ]
  },
  {
   "cell_type": "code",
   "execution_count": 27,
   "metadata": {},
   "outputs": [
    {
     "ename": "NameError",
     "evalue": "name 'y_tilde' is not defined",
     "output_type": "error",
     "traceback": [
      "\u001b[0;31m---------------------------------------------------------------------------\u001b[0m",
      "\u001b[0;31mNameError\u001b[0m                                 Traceback (most recent call last)",
      "\u001b[0;32m/var/folders/5k/cbgd218j5d30nkg1dkw057100000gn/T/ipykernel_16318/2579031696.py\u001b[0m in \u001b[0;36m<module>\u001b[0;34m\u001b[0m\n\u001b[1;32m      2\u001b[0m \u001b[0mmodel2\u001b[0m \u001b[0;34m=\u001b[0m \u001b[0mSolowModelClass\u001b[0m\u001b[0;34m(\u001b[0m\u001b[0;34m)\u001b[0m\u001b[0;34m\u001b[0m\u001b[0;34m\u001b[0m\u001b[0m\n\u001b[1;32m      3\u001b[0m \u001b[0;34m\u001b[0m\u001b[0m\n\u001b[0;32m----> 4\u001b[0;31m \u001b[0mmodel2\u001b[0m\u001b[0;34m.\u001b[0m\u001b[0mnext_period_physicalcapital\u001b[0m\u001b[0;34m(\u001b[0m\u001b[0mn\u001b[0m \u001b[0;34m,\u001b[0m \u001b[0mg\u001b[0m\u001b[0;34m,\u001b[0m \u001b[0ms_K\u001b[0m\u001b[0;34m,\u001b[0m\u001b[0my_tilde\u001b[0m\u001b[0;34m,\u001b[0m\u001b[0mdelta\u001b[0m\u001b[0;34m,\u001b[0m\u001b[0mk_tilde\u001b[0m\u001b[0;34m)\u001b[0m\u001b[0;34m\u001b[0m\u001b[0;34m\u001b[0m\u001b[0m\n\u001b[0m",
      "\u001b[0;31mNameError\u001b[0m: name 'y_tilde' is not defined"
     ]
    }
   ],
   "source": [
    "from ModelProjectJ import SolowModelClass\n",
    "model2 = SolowModelClass()\n",
    "\n",
    "model2.next_period_physicalcapital(n , g, s_K,y_tilde,delta,k_tilde)"
   ]
  }
 ],
 "metadata": {
  "kernelspec": {
   "display_name": "base",
   "language": "python",
   "name": "python3"
  },
  "language_info": {
   "codemirror_mode": {
    "name": "ipython",
    "version": 3
   },
   "file_extension": ".py",
   "mimetype": "text/x-python",
   "name": "python",
   "nbconvert_exporter": "python",
   "pygments_lexer": "ipython3",
   "version": "3.9.13"
  },
  "toc-autonumbering": true,
  "vscode": {
   "interpreter": {
    "hash": "47ef90cdf3004d3f859f1fb202523c65c07ba7c22eefd261b181f4744e2d0403"
   }
  }
 },
 "nbformat": 4,
 "nbformat_minor": 4
}
