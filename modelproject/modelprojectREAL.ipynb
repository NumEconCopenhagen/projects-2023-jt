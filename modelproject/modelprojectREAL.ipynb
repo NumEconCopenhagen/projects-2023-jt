{
 "cells": [
  {
   "attachments": {},
   "cell_type": "markdown",
   "metadata": {},
   "source": [
    "# The Solow Model with Human Capital"
   ]
  },
  {
   "attachments": {},
   "cell_type": "markdown",
   "metadata": {},
   "source": [
    "Imports and set magics:"
   ]
  },
  {
   "cell_type": "code",
   "execution_count": 48,
   "metadata": {},
   "outputs": [
    {
     "name": "stdout",
     "output_type": "stream",
     "text": [
      "The autoreload extension is already loaded. To reload it, use:\n",
      "  %reload_ext autoreload\n"
     ]
    }
   ],
   "source": [
    "import numpy as np\n",
    "from scipy import optimize\n",
    "import sympy as sm\n",
    "from scipy import linalg\n",
    "from types import SimpleNamespace\n",
    "import pandas as pd \n",
    "import matplotlib.pyplot as plt\n",
    "import ipywidgets \n",
    "\n",
    "\n",
    "# autoreload modules when code is run\n",
    "%load_ext autoreload\n",
    "%autoreload 2\n",
    "\n",
    "#We import our the classes that we are going to need\n",
    "\n",
    "from modelprojectREAL import SolowGeneral\n",
    "from modelprojectREAL import SolowModelClass\n",
    "from modelprojectREAL import SimulationClass\n",
    "\n",
    "modelreg = SolowGeneral()\n",
    "model = SolowModelClass()\n",
    "simulation = SimulationClass()\n",
    "\n",
    "\n"
   ]
  },
  {
   "attachments": {},
   "cell_type": "markdown",
   "metadata": {},
   "source": [
    "# Model description\n",
    "\n",
    "**The Solow Model (with human capital)**\n",
    "\n",
    "For our model project we have decided to look into the Solow model.\n",
    "The Solow model is a macroeconomic model that analyses economic growth and accumulation of capital over time.\n",
    "\n",
    "We will start by analysing the general Solow model with just population growth and technological progress.\n",
    "\n",
    "For our extension of the model, we are going to add human capital to our model to see how that changes to dynamics of our model. \n",
    "\n",
    "Further we will analyze how changes in the different parameters will change the models projections. \n"
   ]
  },
  {
   "attachments": {},
   "cell_type": "markdown",
   "metadata": {},
   "source": [
    "**The general Solow Model**\n",
    "\n",
    "The general Solow-model is given as below, by the book \"Introducing Advanced Macroeconomics, by H.J.Whitta- Jacobsen and P.B.Sørensen\"\n",
    "\n",
    "**The production functiion :**\n",
    "$ K_t^\\alpha (A_t L_t)^{1-\\alpha} $\n",
    "\n",
    "**Accumulation of physical capital :**\n",
    "$ K_{t+1} - K_{t} = s_{K} Y_{t} - \\delta K_{t} $\n",
    "\n",
    "**Accumulation of physical capital :**\n",
    "$ S_t = sY_t $\n",
    "\n",
    "**Growth in labor :**\n",
    "$ L_{t+1} = (1 + n) L_{t} $\n",
    "\n",
    "**Growth in technology :** \n",
    "$ A_{t+1} = (1 + g) A_{t} $ \n"
   ]
  },
  {
   "attachments": {},
   "cell_type": "markdown",
   "metadata": {},
   "source": [
    "## Variables \n",
    "$Y_t$ is the Production\n",
    "\n",
    "$K_t$ is the  physical capital\n",
    "\n",
    "$A_t$ is the technology\n",
    "\n",
    "$S_t$ is the total amount of savings\n",
    "\n",
    "$L_t$ is the labor \n",
    "## Parameters\n",
    "$\\alpha$ is the income share to physical capital\n",
    "\n",
    "$\\delta$ is the depreciation rate\n",
    "\n",
    "$n$ is the populaiton growth rate\n",
    "\n",
    "$g$ is the productivity\n",
    "\n",
    "$s$ is the savings rate in physical capital"
   ]
  },
  {
   "attachments": {},
   "cell_type": "markdown",
   "metadata": {},
   "source": [
    "To start analysing our general Solow model, we start by defining our parameters"
   ]
  },
  {
   "cell_type": "code",
   "execution_count": 49,
   "metadata": {},
   "outputs": [],
   "source": [
    "# We define the parameters used in the model\n",
    "alpha = sm.symbols('alpha')\n",
    "delta = sm.symbols('delta')\n",
    "s = sm.symbols('s')\n",
    "g = sm.symbols('g')\n",
    "n = sm.symbols('n')"
   ]
  },
  {
   "attachments": {},
   "cell_type": "markdown",
   "metadata": {},
   "source": [
    "We then solve it for the algebraic steady state via our method:"
   ]
  },
  {
   "cell_type": "code",
   "execution_count": 50,
   "metadata": {},
   "outputs": [
    {
     "data": {
      "text/latex": [
       "$\\displaystyle \\left(\\frac{\\delta + g n + g + n}{s}\\right)^{\\frac{1}{\\alpha - 1}}$"
      ],
      "text/plain": [
       "((delta + g*n + g + n)/s)**(1/(alpha - 1))"
      ]
     },
     "execution_count": 50,
     "metadata": {},
     "output_type": "execute_result"
    }
   ],
   "source": [
    "modelreg.steadystate_analytical()"
   ]
  },
  {
   "attachments": {},
   "cell_type": "markdown",
   "metadata": {},
   "source": [
    "The steady state level shows when the accumulation of capital in the economy slows down because the amount that is depreciated is equal to the amount that iis accumulated"
   ]
  },
  {
   "attachments": {},
   "cell_type": "markdown",
   "metadata": {},
   "source": [
    "We now want to look at numerical solution for our steady state level:\n",
    "\n",
    "For that we are going to use the following parameter values from the book:\n",
    "\n",
    "\n",
    "$\n",
    "\\alpha = 1/3$\n",
    "\n",
    "$\\delta = 0.02$\n",
    "\n",
    "$s = 0.20$\n",
    "\n",
    "$g = 0.02$\n",
    "\n",
    "$n = 0.01$\n"
   ]
  },
  {
   "cell_type": "code",
   "execution_count": 51,
   "metadata": {},
   "outputs": [
    {
     "data": {
      "text/plain": [
       "7.952238885017917"
      ]
     },
     "execution_count": 51,
     "metadata": {},
     "output_type": "execute_result"
    }
   ],
   "source": [
    "modelreg.steadystate_value()"
   ]
  },
  {
   "attachments": {},
   "cell_type": "markdown",
   "metadata": {},
   "source": [
    "We then see that our steady state level of  technology adjusted capital for the given parameter values is at 7.95"
   ]
  },
  {
   "attachments": {},
   "cell_type": "markdown",
   "metadata": {},
   "source": [
    "## Transition Diagram"
   ]
  },
  {
   "attachments": {},
   "cell_type": "markdown",
   "metadata": {},
   "source": [
    "The transition diagram show the evolution of $\\tilde{k}_{t+1}$ compared to a 45 degree line where $\\tilde{k}_{t}$ =  $\\tilde{k}_{t}$. Where they intercept would be the steady state level of capital in the economy."
   ]
  },
  {
   "cell_type": "code",
   "execution_count": 52,
   "metadata": {},
   "outputs": [
    {
     "data": {
      "image/png": "[encoded data removed]",
      "text/plain": [
       "<Figure size 1000x600 with 1 Axes>"
      ]
     },
     "metadata": {},
     "output_type": "display_data"
    }
   ],
   "source": [
    "modelreg.plot_transition_diagram()"
   ]
  },
  {
   "attachments": {},
   "cell_type": "markdown",
   "metadata": {},
   "source": [
    "## Simulation of general model"
   ]
  },
  {
   "cell_type": "code",
   "execution_count": 53,
   "metadata": {},
   "outputs": [
    {
     "data": {
      "application/vnd.jupyter.widget-view+json": {
       "model_id": "05e79bcb9a5e4bc688d44f3c31070908",
       "version_major": 2,
       "version_minor": 0
      },
      "text/plain": [
       "interactive(children=(FloatSlider(value=0.3333333333333333, description='Alpha:', max=0.5, step=0.01), FloatSl…"
      ]
     },
     "metadata": {},
     "output_type": "display_data"
    }
   ],
   "source": [
    "modelreg.simulation()"
   ]
  },
  {
   "attachments": {},
   "cell_type": "markdown",
   "metadata": {},
   "source": [
    "## Adding Human capital to our model"
   ]
  },
  {
   "attachments": {},
   "cell_type": "markdown",
   "metadata": {},
   "source": [
    "For our extension of the model, we are now going to add a new form of capital to our model. This is called Human Capital. Human capital is generally defined as accumulation of education, health, learning and other things that makes us more productive."
   ]
  },
  {
   "attachments": {},
   "cell_type": "markdown",
   "metadata": {},
   "source": [
    "## The model with human capital"
   ]
  },
  {
   "attachments": {},
   "cell_type": "markdown",
   "metadata": {},
   "source": [
    "The full models is defined with the following equations\n",
    "\n",
    "**The production function :**\n",
    "$ Y_{t} = K_{t}^{\\alpha} H_{t}^{\\phi} (A_{t} L_{t})^{1-\\alpha -\\phi} $\n",
    "\n",
    "**Accumulation of physical capital :**\n",
    "$ K_{t+1} - K_{t} = s_{K} Y_{t} - \\delta K_{t} $\n",
    "\n",
    "**Accumulation of human capital :**\n",
    "$ H_{t+1} - H_{t} = s_{H} Y_{t} - \\delta H_{t} $\n",
    "\n",
    "**Growth in labor :**\n",
    "$ L_{t+1} = (1 + n) L_{t} $\n",
    "\n",
    "**Growth in technology :** \n",
    "$ A_{t+1} = (1 + g) A_{t} $ "
   ]
  },
  {
   "attachments": {},
   "cell_type": "markdown",
   "metadata": {},
   "source": [
    "\n",
    "**Most of the parameters and variables remain the same, however we are going to introduce some new ones:**\n",
    "\n",
    "$H_t$ is the human capital\n",
    "\n",
    "$\\phi$ is the income share to human capital\n",
    "\n",
    "$s_H$ is the savings rate in human capital\n",
    "\n",
    "$s_K$ is the savings rate in physical capital"
   ]
  },
  {
   "attachments": {},
   "cell_type": "markdown",
   "metadata": {},
   "source": [
    "We can compute the variables as per effective worker variables: \n",
    "$$\n",
    "\\tilde{y_{t}}= \\tilde{k_{t}}^{\\alpha} \\tilde{h_{t}}^{\\phi} \n",
    "$$\n",
    "$$\n",
    "\\tilde{k}_{t+1} = \\frac{1}{(1+n)(1+g)} \\left( s_{K} \\tilde{y_{t}} + (1-\\delta) \\tilde{k_{t}} \\right)\n",
    "$$\n",
    "$$ \n",
    "\\tilde{h}_{t+1} = \\frac{1}{(1+n)(1+g)} \\left( s_{H} \\tilde{y_{t}} + (1-\\delta) \\tilde{h_{t}} \\right)\n",
    "$$\n",
    "\n",
    "The transition-equations can be found by substituting for y in the two latter equations"
   ]
  },
  {
   "attachments": {},
   "cell_type": "markdown",
   "metadata": {},
   "source": [
    "## Steady State"
   ]
  },
  {
   "attachments": {},
   "cell_type": "markdown",
   "metadata": {},
   "source": [
    "#### We will start by solving the steady states analytically"
   ]
  },
  {
   "attachments": {},
   "cell_type": "markdown",
   "metadata": {},
   "source": [
    "First we calculate the steady state values for $ h^* $ and $ k^*$"
   ]
  },
  {
   "cell_type": "code",
   "execution_count": 54,
   "metadata": {},
   "outputs": [],
   "source": [
    "# We name our variables \n",
    "k = sm.symbols('k')\n",
    "h = sm.symbols('h')\n",
    "alpha = sm.symbols('alpha')\n",
    "delta = sm.symbols('delta')\n",
    "s_K = sm.symbols('s_K')\n",
    "s_H = sm.symbols('s_H')\n",
    "g = sm.symbols('g')\n",
    "n = sm.symbols('n')\n",
    "phi = sm.symbols('phi')"
   ]
  },
  {
   "cell_type": "code",
   "execution_count": 55,
   "metadata": {},
   "outputs": [
    {
     "data": {
      "text/latex": [
       "$\\displaystyle \\left(\\frac{\\left(\\delta + g n + g + n\\right) \\left(\\left(\\frac{k^{- \\alpha} \\left(\\delta + g n + g + n\\right)}{s_{H}}\\right)^{\\frac{1}{\\phi - 1}}\\right)^{- \\phi}}{s_{K}}\\right)^{\\frac{1}{\\alpha - 1}}$"
      ],
      "text/plain": [
       "((delta + g*n + g + n)/(s_K*(((delta + g*n + g + n)/(k**alpha*s_H))**(1/(phi - 1)))**phi))**(1/(alpha - 1))"
      ]
     },
     "execution_count": 55,
     "metadata": {},
     "output_type": "execute_result"
    }
   ],
   "source": [
    "# We call on the module from the SolowModelClass, to solve the steady state values\n",
    "model.SteadyStateValues_k(k,h,alpha,delta,s_K,s_H,g,n,phi)"
   ]
  },
  {
   "cell_type": "code",
   "execution_count": 56,
   "metadata": {},
   "outputs": [
    {
     "data": {
      "text/latex": [
       "$\\displaystyle \\left(\\frac{\\left(\\delta + g n + g + n\\right) \\left(\\left(\\frac{h^{- \\phi} \\left(\\delta + g n + g + n\\right)}{s_{K}}\\right)^{\\frac{1}{\\alpha - 1}}\\right)^{- \\alpha}}{s_{H}}\\right)^{\\frac{1}{\\phi - 1}}$"
      ],
      "text/plain": [
       "((delta + g*n + g + n)/(s_H*(((delta + g*n + g + n)/(h**phi*s_K))**(1/(alpha - 1)))**alpha))**(1/(phi - 1))"
      ]
     },
     "execution_count": 56,
     "metadata": {},
     "output_type": "execute_result"
    }
   ],
   "source": [
    "model.SteadyStateValues_h(k,h,alpha,delta,s_K,s_H,g,n,phi)"
   ]
  },
  {
   "attachments": {},
   "cell_type": "markdown",
   "metadata": {},
   "source": [
    "We can write these two expressions a bit nicer"
   ]
  },
  {
   "attachments": {},
   "cell_type": "markdown",
   "metadata": {},
   "source": [
    "$$\n",
    "\\tilde{k}^* = \\left( \\frac { s_K ^{1-\\phi}  s_H^\\phi} { n+ g + \\delta + ng } \\right) ^\\frac{1}{1-\\phi - \\alpha}\n",
    "$$\n",
    "$$\n",
    "\\tilde{h}^* = \\left( \\frac { s_K ^\\alpha  s_H^{1-\\alpha}} { n+ g + \\delta + ng } \\right) ^\\frac{1}{1-\\phi - \\alpha}\n",
    "$$"
   ]
  },
  {
   "attachments": {},
   "cell_type": "markdown",
   "metadata": {},
   "source": [
    "We now have the the two Steady State equations for $h^*$ and $k^*$. "
   ]
  },
  {
   "attachments": {},
   "cell_type": "markdown",
   "metadata": {},
   "source": [
    "Now we will calculate the steady state values for $k^*$ and $h^*$"
   ]
  },
  {
   "cell_type": "code",
   "execution_count": 57,
   "metadata": {},
   "outputs": [
    {
     "name": "stdout",
     "output_type": "stream",
     "text": [
      "The steady state value for k is 63.157123, and the steady state value for h is 32.589075\n"
     ]
    }
   ],
   "source": [
    "# We define the two steady states:\n",
    "k_tilde = ((s_K**(1-phi) * s_H**phi)/(n+g+delta +n*g))**(1/(1-phi-alpha))\n",
    "h_tilde = ( (s_K**(alpha) * s_H**(1-alpha))/(n+g+delta +n*g))**(1/(1-phi-alpha))\n",
    "        \n",
    "# Now we turn them in to pyhton function, using sympy lambdify.\n",
    "kss_function = sm.lambdify((alpha,phi,delta,n,g,s_K,s_H),k_tilde)\n",
    "hss_function = sm.lambdify((alpha,phi,delta,n,g,s_K,s_H),h_tilde) \n",
    "\n",
    "print(f'The steady state value for k is {kss_function(0.333,0.333,0.02,0.014,0.016,0.25,0.129):4f}, and the steady state value for h is {hss_function(0.333,0.333,0.02,0.014,0.016,0.25,0.129):4f}')"
   ]
  },
  {
   "attachments": {},
   "cell_type": "markdown",
   "metadata": {},
   "source": [
    "We can now also derive the Nullclines which show respectively when $\\Delta \\tilde{h}=0$ and when $\\Delta \\tilde{k} =0$\n",
    "\n",
    "The equations for the Nullclines are found in the book and they look as follows:\n",
    "$$ \\Delta \\tilde{k} =0 \\iff \\tilde{h}=\\left(\\frac{{(n + g + \\delta + n \\cdot g)}}{{s_K}}\\right)^{\\frac{1}{{\\phi}}} \\cdot k_{\\tilde{t}}^{\\frac{{1 - \\alpha}}{{\\phi}}}\n",
    "$$\n",
    "$$\n",
    "\\Delta \\tilde{h}=0 \\iff \\tilde{h}=\\left(\\frac{{s_H}}{{n + g + \\delta + n \\cdot g}}\\right)^{\\frac{1}{{1 - \\phi}}} \\cdot k_{\\tilde{t}}^{\\frac{{\\alpha}}{{1 - \\alpha}}}\n",
    "$$\n",
    "\n",
    "In the below figure you can see the phase diagram with the two nullclines.\n",
    "We have added a method that simulates these nullclines given our parameter values over a period of time. The interception between the wo lines is the steady state level for the model; as represented by the red dot on the graphs.\n",
    "\n",
    "The graphs have been made interactive, so we can see how the different parameters affect the nullclines and the steady state level\n"
   ]
  },
  {
   "cell_type": "code",
   "execution_count": 58,
   "metadata": {},
   "outputs": [
    {
     "data": {
      "application/vnd.jupyter.widget-view+json": {
       "model_id": "90bac724871a4fe6a3b546fe41a7a4e1",
       "version_major": 2,
       "version_minor": 0
      },
      "text/plain": [
       "interactive(children=(FloatSlider(value=0.25, description='s_K', max=1.0, min=0.01, step=0.01), FloatSlider(va…"
      ]
     },
     "metadata": {},
     "output_type": "display_data"
    }
   ],
   "source": [
    "model.Nullclines()"
   ]
  },
  {
   "attachments": {},
   "cell_type": "markdown",
   "metadata": {},
   "source": [
    "## Simulating the Solow model with Human capital"
   ]
  },
  {
   "attachments": {},
   "cell_type": "markdown",
   "metadata": {},
   "source": [
    "Lastly we have made a simulation, also with an interactive plot which shows the devolopment of our per effective worker variables:\n",
    "\n",
    "This plot is also interactive, making it possible to see how a change in the saving rates for physical and human capital affect our simulation."
   ]
  },
  {
   "cell_type": "code",
   "execution_count": 59,
   "metadata": {},
   "outputs": [
    {
     "data": {
      "application/vnd.jupyter.widget-view+json": {
       "model_id": "adb02e16117340c28d6fd997aa63ea07",
       "version_major": 2,
       "version_minor": 0
      },
      "text/plain": [
       "interactive(children=(FloatSlider(value=0.25, description='s_K', max=0.5, min=0.01, step=0.01), FloatSlider(va…"
      ]
     },
     "metadata": {},
     "output_type": "display_data"
    },
    {
     "data": {
      "text/plain": [
       "<function modelprojectREAL.SimulationClass._create_s_H_plot.<locals>.update_simulation(s_K, s_H)>"
      ]
     },
     "metadata": {},
     "output_type": "display_data"
    }
   ],
   "source": [
    "simulation.simulate(periods=500)"
   ]
  },
  {
   "attachments": {},
   "cell_type": "markdown",
   "metadata": {},
   "source": [
    "As both are factors in the production function both will lead to an increase in Y, meaning that when you then take the saving rate of the other production factor the total amount of savings will automatically increase. We are however seeing decreasing marginal product for both, meaning that the distance between the two factors the less the more of a difference will we see in the cross effects."
   ]
  },
  {
   "attachments": {},
   "cell_type": "markdown",
   "metadata": {},
   "source": [
    "## Conclusion"
   ]
  },
  {
   "attachments": {},
   "cell_type": "markdown",
   "metadata": {},
   "source": [
    "We have now gone over some of the main tools to analyze both the general Solow model and the model with Human capital. We found that with the parameter values from the book, which have been found through empirical analysis, that there will be a convergence towards a steady state level of capital in the economy in both models.\n",
    "\n",
    "It is however important to realize that this convergence is only for the tilde adjusted per capita values. With technological progress in the economy, the total level of capital and output will converge to a steady growth path.\n",
    "\n",
    "Lastly we tested what different oarameters and savings rates would mean for the convergence. We saw that higher saving rates lead to higher levels of steady state and the other way around\n",
    "\n",
    "It is however important to realize that, it is not an easy thing to change the savings rate in an economy. The population obviously need to consume a certain level to maintain a certain standard of living.\n",
    "\n",
    "As it is with these types of models, there are a lot of things can we couldve analyzed deeper, for example it would be interesting to calcute the golden rule savings rate for different parameter values and compare that way. We chose to use the parameter values for USA from the book, but international comparison wouldve been interesting. Other than that it could also have been interesting to look at the convergence speed and calculated that, it wouldve given us a more definitive answer to many of our questions."
   ]
  }
 ],
 "metadata": {
  "kernelspec": {
   "display_name": "base",
   "language": "python",
   "name": "python3"
  },
  "language_info": {
   "codemirror_mode": {
    "name": "ipython",
    "version": 3
   },
   "file_extension": ".py",
   "mimetype": "text/x-python",
   "name": "python",
   "nbconvert_exporter": "python",
   "pygments_lexer": "ipython3",
   "version": "3.9.13"
  },
  "toc-autonumbering": true,
  "vscode": {
   "interpreter": {
    "hash": "47ef90cdf3004d3f859f1fb202523c65c07ba7c22eefd261b181f4744e2d0403"
   }
  }
 },
 "nbformat": 4,
 "nbformat_minor": 4
}
