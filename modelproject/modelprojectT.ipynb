{
 "cells": [
  {
   "attachments": {},
   "cell_type": "markdown",
   "metadata": {},
   "source": [
    "# The Solow Model with Human Capital"
   ]
  },
  {
   "attachments": {},
   "cell_type": "markdown",
   "metadata": {},
   "source": [
    "Imports and set magics:"
   ]
  },
  {
   "cell_type": "code",
   "execution_count": 21,
   "metadata": {},
   "outputs": [
    {
     "name": "stdout",
     "output_type": "stream",
     "text": [
      "The autoreload extension is already loaded. To reload it, use:\n",
      "  %reload_ext autoreload\n"
     ]
    }
   ],
   "source": [
    "import numpy as np\n",
    "from scipy import optimize\n",
    "import sympy as sm\n",
    "from scipy import linalg\n",
    "from types import SimpleNamespace\n",
    "import pandas as pd \n",
    "import matplotlib.pyplot as plt\n",
    "import ipywidgets \n",
    "from IPython.display import display\n",
    "\n",
    "# autoreload modules when code is run\n",
    "%load_ext autoreload\n",
    "%autoreload 2\n",
    "\n",
    "# We import our own code from the ModelProject.py file\n",
    "from modelprojectT import SolowModelClass \n",
    "#We import our model\n",
    "model = SolowModelClass()\n"
   ]
  },
  {
   "attachments": {},
   "cell_type": "markdown",
   "metadata": {},
   "source": [
    "# Model description"
   ]
  },
  {
   "attachments": {},
   "cell_type": "markdown",
   "metadata": {},
   "source": [
    "**Write out the model in equations here.** \n",
    "\n",
    "Make sure you explain well the purpose of the model and comment so that other students who may not have seen it before can follow.  \n",
    "\n",
    "The \"base-line\" model that we will look at, will be an extended solow model, the solow model with human capital. \n",
    "\n",
    "In the solow model with human capital, there is an inclusion of human capital in the production function and accumulation of human capital by consumers. * \n",
    " \n",
    "\n",
    "The solow model shows ....\n",
    "\n",
    "This project will look at the variation with human capital and how the implemtation of human capital affects the growth. Firstly it will be assumed that the human capitala is equal to the countrys population and later we will change this by making the human capital a part of the total population. Finally, we wil see how the parameters $ \\alpha$ , $ \\phi$ and $\\delta$ will affect the growth\n",
    "\n",
    "\n",
    "\n",
    "\n",
    ". * \"Introducing Advanced Macroeconomics, by H.J.Whitta-Jacobsen and P.B.Sørensen\""
   ]
  },
  {
   "attachments": {},
   "cell_type": "markdown",
   "metadata": {},
   "source": [
    "The Solow-model with Human capital is given as below, by the book \"Introducing Advanced Macroeconomics, by H.J.Whitta- Jacobsen and P.B.Sørensen\"\n",
    "\n",
    "\n",
    "$$\n",
    "Y_{t} = K_{t}^{\\alpha} H_{t}^{\\phi} (A_{t} L_{t})^{1-\\alpha -\\phi}\n",
    "$$\n",
    "\n",
    "$$\n",
    "r_{t} = \\alpha \\left( \\frac{K_{t}}{A_{t} L_{t}} \\right)^{\\alpha -1} \\left(\\frac{H_{t}}{A_{t} L_{t}}\\right)^{\\phi}\n",
    "$$\n",
    "\n",
    "$$\n",
    "w{_t} = ( 1 - \\alpha) \\left( \\frac{K_{t}}{A_{t} L_{t}} \\right)^{\\alpha} \\left(\\frac{H_{t}}{A_{t} L_{t}}\\right)^{\\phi} A_{t}\n",
    "$$\n",
    "\n",
    "$$\n",
    "K_{t+1} - K_{t} = s_{K} Y_{t} - \\delta K_{t}\n",
    "$$\n",
    "\n",
    "$$ \n",
    "H_{t+1} - H_{t} = s_{H} Y_{t} - \\delta H_{t}\n",
    "$$\n",
    "\n",
    "\n",
    "$$\n",
    "L_{t+1} = (1 + n) L_{t}\n",
    "$$\n",
    "\n",
    "$$\n",
    "A_{t+1} = (1 + g) A_{t}\n",
    "$$ \n",
    "\n",
    "We can now compute the variables as per effective worker variables: \n",
    "$$\n",
    "\\tilde{y_{t}}= \\tilde{k_{t}}^{\\alpha} \\tilde{h_{t}}^{\\phi} \n",
    "$$\n",
    "$$\n",
    "\\tilde{k}_{t+1} = \\frac{1}{(1+n)(1+g)} \\left( s_{K} \\tilde{y_{t}} + (1-\\delta) \\tilde{k_{t}} \\right)\n",
    "$$\n",
    "$$ \n",
    "\\tilde{h}_{t+1} = \\frac{1}{(1+n)(1+g)} \\left( s_{H} \\tilde{y_{t}} + (1-\\delta) \\tilde{h_{t}} \\right)\n",
    "$$\n",
    "\n",
    "The transition-equations can be found by substituting for y in the two latter equations"
   ]
  },
  {
   "attachments": {},
   "cell_type": "markdown",
   "metadata": {},
   "source": [
    "## Analytical solution"
   ]
  },
  {
   "attachments": {},
   "cell_type": "markdown",
   "metadata": {},
   "source": [
    "We will start by calculating the steady state values for $ h^* $ and $ k^*$"
   ]
  },
  {
   "cell_type": "code",
   "execution_count": 22,
   "metadata": {},
   "outputs": [
    {
     "name": "stdout",
     "output_type": "stream",
     "text": [
      "k_ss =  \\left(\\frac{\\left(\\delta + g n + g + n\\right) \\left(\\left(\\frac{k^{- \\alpha} \\left(\\delta + g n + g + n\\right)}{s_{H}}\\right)^{\\frac{1}{\\phi - 1}}\\right)^{- \\phi}}{s_{K}}\\right)^{\\frac{1}{\\alpha - 1}} h_ss =  \\left(\\frac{\\left(\\delta + g n + g + n\\right) \\left(\\left(\\frac{h^{- \\phi} \\left(\\delta + g n + g + n\\right)}{s_{K}}\\right)^{\\frac{1}{\\alpha - 1}}\\right)^{- \\alpha}}{s_{H}}\\right)^{\\frac{1}{\\phi - 1}}\n"
     ]
    }
   ],
   "source": [
    "# We start by naming our variables \n",
    "k = sm.symbols('k')\n",
    "h = sm.symbols('h')\n",
    "alpha = sm.symbols('alpha')\n",
    "delta = sm.symbols('delta')\n",
    "s_K = sm.symbols('s_K')\n",
    "s_H = sm.symbols('s_H')\n",
    "g = sm.symbols('g')\n",
    "n = sm.symbols('n')\n",
    "phi = sm.symbols('phi')\n",
    "\n",
    "y =  k**alpha * h**phi\n",
    "\n",
    "# We define the function for which we are calculating the ss-value \n",
    "ss_k = sm.Eq(k, 1/((1+n)*(1+g))*((s_K)*y+(1-delta)*k)) \n",
    "# We find the steady state for k, by putting the lef hand side equal to 0\n",
    "kss = sm.solve(ss_k,k)[0]\n",
    "        \n",
    "# We will now do the same for h\n",
    "ss_h = sm.Eq(h, 1/((1+n)*(1+g)) * ((s_H)*y+(1-delta)*h) ) \n",
    "hss = sm.solve(ss_h,h)[0]\n",
    "\n",
    "## print('We now have these two values', 'k*=', kss , 'and h*=' , hss)\n",
    "\n",
    "## print('We now need to substitute to find the real steady state values')\n",
    "\n",
    "# We will now do the substitution for h in kss and solve for k\n",
    "k_ss = kss.subs(h,hss)\n",
    "k_ss \n",
    "\n",
    "# now we do the substitution for k i hss and solve for h\n",
    "h_ss = hss.subs(k,kss)\n",
    "h_ss\n",
    "\n",
    "print('k_ss = ' , sm.latex(k_ss) ,'h_ss = ' , sm.latex(h_ss))\n",
    "##print ('We now have the steady State values for h and k' , k_ss , h_ss)\n",
    "        "
   ]
  },
  {
   "attachments": {},
   "cell_type": "markdown",
   "metadata": {},
   "source": [
    "We can now write this more readable:\n",
    "$$\n",
    "k^* =  \\left(\\frac{\\left(\\delta + g n + g + n\\right) \\left(\\left(\\frac{k^{- \\alpha} \\left(\\delta + g n + g + n\\right)}{s_{H}}\\right)^{\\frac{1}{\\phi - 1}}\\right)^{- \\phi}}{s_{K}}\\right)^{\\frac{1}{\\alpha - 1}} \n",
    "$$\n",
    "$$\n",
    "h^* =  \\left(\\frac{\\left(\\delta + g n + g + n\\right) \\left(\\left(\\frac{h^{- \\phi} \\left(\\delta + g n + g + n\\right)}{s_{K}}\\right)^{\\frac{1}{\\alpha - 1}}\\right)^{- \\alpha}}{s_{H}}\\right)^{\\frac{1}{\\phi - 1}}\n",
    "$$"
   ]
  },
  {
   "attachments": {},
   "cell_type": "markdown",
   "metadata": {},
   "source": [
    "We can write these two expressions a bit nicer"
   ]
  },
  {
   "attachments": {},
   "cell_type": "markdown",
   "metadata": {},
   "source": [
    "$$\n",
    "\\tilde{k}^* = \\left( \\frac { s_K ^{1-\\phi}  s_H^\\phi} { n+ g + \\delta + ng } \\right) ^\\frac{1}{1-\\phi - \\alpha}\n",
    "$$\n",
    "$$\n",
    "\\tilde{h}^* = \\left( \\frac { s_K ^\\alpha  s_H^{1-\\alpha}} { n+ g + \\delta + ng } \\right) ^\\frac{1}{1-\\phi - \\alpha}\n",
    "$$"
   ]
  },
  {
   "attachments": {},
   "cell_type": "markdown",
   "metadata": {},
   "source": [
    "Test for the module from the .py file"
   ]
  },
  {
   "cell_type": "code",
   "execution_count": 23,
   "metadata": {},
   "outputs": [],
   "source": [
    "# We define the emperical values for our parameters\n",
    "par = model.par\n",
    "par.alpha = 0.333\n",
    "par.phi = 0.333\n",
    "par.delta = 0.02\n",
    "par.n = 0.014\n",
    "par.g = 0.016\n",
    "par.s_K = 0.25\n",
    "par.s_H = 0.129\n",
    "\n"
   ]
  },
  {
   "cell_type": "code",
   "execution_count": 24,
   "metadata": {},
   "outputs": [
    {
     "data": {
      "text/plain": [
       "(63.15712297843104, 32.58907545687043)"
      ]
     },
     "execution_count": 24,
     "metadata": {},
     "output_type": "execute_result"
    }
   ],
   "source": [
    "\n",
    "#model.SteadyState(do_print=True)\n",
    "from scipy.optimize import fsolve\n",
    "model.SteadyState2()"
   ]
  },
  {
   "cell_type": "code",
   "execution_count": 25,
   "metadata": {},
   "outputs": [
    {
     "name": "stdout",
     "output_type": "stream",
     "text": [
      "Steady state values:\n",
      "k* = 63.1571\n",
      "h* = 32.5891\n"
     ]
    },
    {
     "data": {
      "text/plain": [
       "(63.15712297843104, 32.58907545687043)"
      ]
     },
     "execution_count": 25,
     "metadata": {},
     "output_type": "execute_result"
    }
   ],
   "source": [
    "from modelprojectT import SolowModelClass\n",
    "model = SolowModelClass()\n",
    "model.SteadyState2(do_print=True)"
   ]
  },
  {
   "cell_type": "code",
   "execution_count": 26,
   "metadata": {},
   "outputs": [
    {
     "data": {
      "image/png": "[encoded data removed]",
      "text/plain": [
       "<Figure size 640x480 with 1 Axes>"
      ]
     },
     "metadata": {},
     "output_type": "display_data"
    }
   ],
   "source": [
    "from modelprojectT import SolowModelClass\n",
    "model = SolowModelClass()\n",
    "model.sim.alpha = 0.333\n",
    "\n",
    "htildevalues, ktildevalues = model.calculate_values(periods=100)\n",
    "\n",
    "k_ss, h_ss = model.SteadyState2()\n",
    "\n",
    "dummy = range(100)\n",
    "\n",
    "plt.plot(ktildevalues, dummy)\n",
    "plt.plot(dummy, htildevalues)\n",
    "plt.xlim(0,100)\n",
    "plt.ylim(0,50)\n",
    "plt.xlabel('ktilde')\n",
    "plt.ylabel('htilde')\n",
    "plt.title('Nullclines')\n",
    "plt.plot(k_ss, h_ss, 'ro', label='Steady State')\n",
    "plt.show()\n",
    "\n",
    "\n",
    "\n"
   ]
  },
  {
   "attachments": {},
   "cell_type": "markdown",
   "metadata": {},
   "source": [
    "If your model allows for an analytical solution, you should provide here.\n",
    "\n",
    "You may use Sympy for this. Then you can characterize the solution as a function of a parameter of the model.\n",
    "\n",
    "To characterize the solution, first derive a steady state equation as a function of a parameter using Sympy.solve and then turn it into a python function by Sympy.lambdify. See the lecture notes for details. "
   ]
  },
  {
   "attachments": {},
   "cell_type": "markdown",
   "metadata": {},
   "source": [
    "1. Find Steady State\n",
    "2. Compute the null-clines"
   ]
  },
  {
   "cell_type": "code",
   "execution_count": 61,
   "metadata": {},
   "outputs": [
    {
     "data": {
      "image/png": "[encoded data removed]",
      "text/plain": [
       "<Figure size 640x480 with 1 Axes>"
      ]
     },
     "metadata": {},
     "output_type": "display_data"
    }
   ],
   "source": [
    "from modelprojectT import SolowModelClass\n",
    "model = SolowModelClass()\n",
    "model.par.phi = 0.333\n",
    "model.Nullclines(periods=100,do_sim=True)\n"
   ]
  },
  {
   "attachments": {},
   "cell_type": "markdown",
   "metadata": {},
   "source": [
    "We now have our respective nullclines:\n",
    "$$\n",
    "\\tilde{h_{t}} = \\tilde{k_{t}}^{\\frac{1 - \\phi}{\\alpha}} \\left(\\frac{\\delta + g n + g + n}{s_{K}}\\right)^{\\frac{1}{\\alpha}}\n",
    "\n",
    "$$\n",
    "$$\n",
    "\\tilde{k_{t}} = \\tilde{h_{t}}^{\\frac{1 - \\alpha}{\\phi}} \\left(\\frac{\\delta + g n + g + n}{s_{H}}\\right)^{\\frac{1}{\\alpha}}\n",
    "\n",
    "$$\n"
   ]
  },
  {
   "attachments": {},
   "cell_type": "markdown",
   "metadata": {},
   "source": [
    "## Numerical solution"
   ]
  },
  {
   "attachments": {},
   "cell_type": "markdown",
   "metadata": {},
   "source": [
    "You can always solve a model numerically. \n",
    "\n",
    "Define first the set of parameters you need. \n",
    "\n",
    "Then choose one of the optimization algorithms that we have gone through in the lectures based on what you think is most fitting for your model.\n",
    "\n",
    "Are there any problems with convergence? Does the model converge for all starting values? Make a lot of testing to figure these things out. "
   ]
  },
  {
   "attachments": {},
   "cell_type": "markdown",
   "metadata": {},
   "source": [
    "# Further analysis"
   ]
  },
  {
   "attachments": {},
   "cell_type": "markdown",
   "metadata": {},
   "source": [
    "Make detailed vizualizations of how your model changes with parameter values. \n",
    "\n",
    "Try to make an extension of the model. "
   ]
  },
  {
   "attachments": {},
   "cell_type": "markdown",
   "metadata": {},
   "source": [
    "1. Human Capital is a part of the populaiton - Interactive diagram?\n",
    "\n",
    "$$\n",
    "L_{t} = \\lambda N_{t}\n",
    "$$  \n",
    "where $ 0< \\lambda < 1 $\n",
    "\n",
    "$$\n",
    "N_{t+1} = (1 + n) N_{t} \n",
    "$$\n",
    "\n",
    "2. How changes in alpha, phi and delta affect the growth - interactive diagram. "
   ]
  },
  {
   "attachments": {},
   "cell_type": "markdown",
   "metadata": {},
   "source": [
    "# Conclusion"
   ]
  },
  {
   "attachments": {},
   "cell_type": "markdown",
   "metadata": {},
   "source": [
    "Add concise conclusion. "
   ]
  },
  {
   "cell_type": "code",
   "execution_count": null,
   "metadata": {},
   "outputs": [],
   "source": [
    "production = model.ProductionFunction()\n",
    "\n"
   ]
  }
 ],
 "metadata": {
  "kernelspec": {
   "display_name": "base",
   "language": "python",
   "name": "python3"
  },
  "language_info": {
   "codemirror_mode": {
    "name": "ipython",
    "version": 3
   },
   "file_extension": ".py",
   "mimetype": "text/x-python",
   "name": "python",
   "nbconvert_exporter": "python",
   "pygments_lexer": "ipython3",
   "version": "3.9.16"
  },
  "toc-autonumbering": true,
  "vscode": {
   "interpreter": {
    "hash": "47ef90cdf3004d3f859f1fb202523c65c07ba7c22eefd261b181f4744e2d0403"
   }
  }
 },
 "nbformat": 4,
 "nbformat_minor": 4
}
